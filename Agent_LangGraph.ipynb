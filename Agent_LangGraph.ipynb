{
 "cells": [
  {
   "cell_type": "markdown",
   "id": "258001fe-9f83-48c5-b7fc-1d1a9fd2d32a",
   "metadata": {},
   "source": [
    "# Lesson 2 : LangGraph Components"
   ]
  },
  {
   "cell_type": "code",
   "execution_count": 1,
   "id": "fb8a2a73-b091-4693-a38c-557e811adf65",
   "metadata": {},
   "outputs": [],
   "source": [
    "from dotenv import load_dotenv\n",
    "_ = load_dotenv()"
   ]
  },
  {
   "cell_type": "code",
   "execution_count": 2,
   "id": "473261b9-6e43-4d95-8953-6594bd24c0c2",
   "metadata": {},
   "outputs": [],
   "source": [
    "from langgraph.graph import StateGraph, END\n",
    "from typing import TypedDict, Annotated\n",
    "import operator\n",
    "from langchain_core.messages import AnyMessage, SystemMessage, HumanMessage, ToolMessage\n",
    "from langchain_openai import ChatOpenAI\n",
    "from langchain_community.tools.tavily_search import TavilySearchResults"
   ]
  },
  {
   "cell_type": "code",
   "execution_count": 6,
   "id": "a30df532-e1da-4444-b3ae-8f45c50b020a",
   "metadata": {},
   "outputs": [
    {
     "name": "stdout",
     "output_type": "stream",
     "text": [
      "<class 'langchain_community.tools.tavily_search.tool.TavilySearchResults'>\n",
      "tavily_search_results_json\n"
     ]
    }
   ],
   "source": [
    "tool = TavilySearchResults(max_results=4) #increased number of results\n",
    "print(type(tool))\n",
    "print(tool.name)"
   ]
  },
  {
   "cell_type": "code",
   "execution_count": 7,
   "id": "9083e8c3-dba8-4912-a6f5-0b4b7c3b2617",
   "metadata": {},
   "outputs": [],
   "source": [
    "class AgentState(TypedDict):\n",
    "    messages: Annotated[list[AnyMessage], operator.add]"
   ]
  },
  {
   "cell_type": "code",
   "execution_count": 8,
   "id": "ae248559-218d-4120-96b4-4f86f8255237",
   "metadata": {},
   "outputs": [],
   "source": [
    "class Agent:\n",
    "\n",
    "    def __init__(self, model, tools, system=\"\"):\n",
    "        self.system = system\n",
    "        graph = StateGraph(AgentState)\n",
    "        graph.add_node(\"llm\", self.call_openai)\n",
    "        graph.add_node(\"action\", self.take_action)\n",
    "        graph.add_conditional_edges(\n",
    "            \"llm\",\n",
    "            self.exists_action,\n",
    "            {True: \"action\", False: END}\n",
    "        )\n",
    "        graph.add_edge(\"action\", \"llm\")\n",
    "        graph.set_entry_point(\"llm\")\n",
    "        self.graph = graph.compile()\n",
    "        self.tools = {t.name: t for t in tools}\n",
    "        self.model = model.bind_tools(tools)\n",
    "\n",
    "    def exists_action(self, state: AgentState):\n",
    "        result = state['messages'][-1]\n",
    "        return len(result.tool_calls) > 0\n",
    "\n",
    "    def call_openai(self, state: AgentState):\n",
    "        messages = state['messages']\n",
    "        if self.system:\n",
    "            messages = [SystemMessage(content=self.system)] + messages\n",
    "        message = self.model.invoke(messages)\n",
    "        return {'messages': [message]}\n",
    "\n",
    "    def take_action(self, state: AgentState):\n",
    "        tool_calls = state['messages'][-1].tool_calls\n",
    "        results = []\n",
    "        for t in tool_calls:\n",
    "            print(len(tool_calls))\n",
    "            print(f\"Calling: {t}\")\n",
    "            if not t['name'] in self.tools:      # check for bad tool name from LLM\n",
    "                print(\"\\n ....bad tool name....\")\n",
    "                result = \"bad tool name, retry\"  # instruct LLM to retry if bad\n",
    "            else:\n",
    "                result = self.tools[t['name']].invoke(t['args'])\n",
    "            results.append(ToolMessage(tool_call_id=t['id'], name=t['name'], content=str(result)))\n",
    "        print(\"Back to the model!\")\n",
    "        return {'messages': results}"
   ]
  },
  {
   "cell_type": "code",
   "execution_count": 9,
   "id": "6c78a3f1-2689-4973-ac99-6811d5b0c9b1",
   "metadata": {},
   "outputs": [
    {
     "data": {
      "text/plain": [
       "TavilySearchResults(max_results=4)"
      ]
     },
     "execution_count": 9,
     "metadata": {},
     "output_type": "execute_result"
    }
   ],
   "source": [
    "tool"
   ]
  },
  {
   "cell_type": "code",
   "execution_count": 10,
   "id": "4bf5ece8-5441-455e-ac4a-c9aa8e46659c",
   "metadata": {},
   "outputs": [],
   "source": [
    "prompt = \"\"\"You are a smart research assistant. Use the search engine to look up information. \\\n",
    "You are allowed to make multiple calls (either together or in sequence). \\\n",
    "Only look up information when you are sure of what you want. \\\n",
    "If you need to look up some information before asking a follow up question, you are allowed to do that!\n",
    "\"\"\"\n",
    "\n",
    "model = ChatOpenAI(model=\"gpt-3.5-turbo\")  #reduce inference cost\n",
    "abot = Agent(model, [tool], system=prompt)"
   ]
  },
  {
   "cell_type": "code",
   "execution_count": null,
   "id": "32e36c1a-df19-49af-8bca-53b109941ef8",
   "metadata": {},
   "outputs": [],
   "source": [
    "!pip show pygraphviz"
   ]
  },
  {
   "cell_type": "code",
   "execution_count": null,
   "id": "a39689f5-2103-4b62-95fb-0482a3619139",
   "metadata": {},
   "outputs": [],
   "source": [
    "!pip install pygraphviz"
   ]
  },
  {
   "cell_type": "code",
   "execution_count": null,
   "id": "d5c21747-3243-4795-b09b-219c8f53b550",
   "metadata": {},
   "outputs": [],
   "source": [
    "!which python"
   ]
  },
  {
   "cell_type": "code",
   "execution_count": null,
   "id": "8e8f59ad-6e11-453e-8c93-c556d23cee7a",
   "metadata": {},
   "outputs": [],
   "source": [
    "from IPython.display import Image\n",
    "import pygraphviz as pgv\n",
    "Image(abot.graph.get_graph().draw_png())"
   ]
  },
  {
   "cell_type": "code",
   "execution_count": 11,
   "id": "234f6a5d-6149-4ad4-95ff-e14c580788d2",
   "metadata": {},
   "outputs": [
    {
     "name": "stdout",
     "output_type": "stream",
     "text": [
      "1\n",
      "Calling: {'name': 'tavily_search_results_json', 'args': {'query': 'weather in San Francisco'}, 'id': 'call_20zFve3KGMZO1aXrP2RRTRat', 'type': 'tool_call'}\n",
      "Back to the model!\n"
     ]
    }
   ],
   "source": [
    "messages = [HumanMessage(content=\"What is the weather in sf?\")]\n",
    "result = abot.graph.invoke({\"messages\": messages})"
   ]
  },
  {
   "cell_type": "code",
   "execution_count": 12,
   "id": "bbf8e0c8-2cdd-4306-9199-153de6341ead",
   "metadata": {},
   "outputs": [
    {
     "data": {
      "text/plain": [
       "{'messages': [HumanMessage(content='What is the weather in sf?'),\n",
       "  AIMessage(content='', additional_kwargs={'tool_calls': [{'id': 'call_20zFve3KGMZO1aXrP2RRTRat', 'function': {'arguments': '{\"query\":\"weather in San Francisco\"}', 'name': 'tavily_search_results_json'}, 'type': 'function'}]}, response_metadata={'token_usage': {'completion_tokens': 22, 'prompt_tokens': 153, 'total_tokens': 175, 'completion_tokens_details': {'accepted_prediction_tokens': 0, 'audio_tokens': 0, 'reasoning_tokens': 0, 'rejected_prediction_tokens': 0}, 'prompt_tokens_details': {'audio_tokens': 0, 'cached_tokens': 0}}, 'model_name': 'gpt-3.5-turbo', 'system_fingerprint': None, 'finish_reason': 'tool_calls', 'logprobs': None}, id='run-3e855956-962c-4fa1-9a7a-7fedce786613-0', tool_calls=[{'name': 'tavily_search_results_json', 'args': {'query': 'weather in San Francisco'}, 'id': 'call_20zFve3KGMZO1aXrP2RRTRat', 'type': 'tool_call'}]),\n",
       "  ToolMessage(content='[{\\'url\\': \\'https://weathershogun.com/weather/usa/ca/san-francisco/480/april/2025-04-15\\', \\'content\\': \\'San Francisco, California Weather: Tuesday, April 15, 2025. Cloudy weather, overcast skies with clouds. Day 63°. Night 50°.\\'}, {\\'url\\': \\'https://www.weatherapi.com/\\', \\'content\\': \"{\\'location\\': {\\'name\\': \\'San Francisco\\', \\'region\\': \\'California\\', \\'country\\': \\'United States of America\\', \\'lat\\': 37.775, \\'lon\\': -122.4183, \\'tz_id\\': \\'America/Los_Angeles\\', \\'localtime_epoch\\': 1744695064, \\'localtime\\': \\'2025-04-14 22:31\\'}, \\'current\\': {\\'last_updated_epoch\\': 1744695000, \\'last_updated\\': \\'2025-04-14 22:30\\', \\'temp_c\\': 11.7, \\'temp_f\\': 53.1, \\'is_day\\': 0, \\'condition\\': {\\'text\\': \\'Partly cloudy\\', \\'icon\\': \\'//cdn.weatherapi.com/weather/64x64/night/116.png\\', \\'code\\': 1003}, \\'wind_mph\\': 7.4, \\'wind_kph\\': 11.9, \\'wind_degree\\': 240, \\'wind_dir\\': \\'WSW\\', \\'pressure_mb\\': 1016.0, \\'pressure_in\\': 30.0, \\'precip_mm\\': 0.0, \\'precip_in\\': 0.0, \\'humidity\\': 89, \\'cloud\\': 75, \\'feelslike_c\\': 10.4, \\'feelslike_f\\': 50.7, \\'windchill_c\\': 9.6, \\'windchill_f\\': 49.3, \\'heatindex_c\\': 11.1, \\'heatindex_f\\': 52.0, \\'dewpoint_c\\': 10.3, \\'dewpoint_f\\': 50.5, \\'vis_km\\': 16.0, \\'vis_miles\\': 9.0, \\'uv\\': 0.0, \\'gust_mph\\': 11.8, \\'gust_kph\\': 18.9}}\"}, {\\'url\\': \\'https://www.easeweather.com/north-america/united-states/california/city-and-county-of-san-francisco/san-francisco/april\\', \\'content\\': \\'April\\\\nJanuaryFebruaryMarch\\\\nApril\\\\nMayJuneJulyAugustSeptemberOctoberNovemberDecember\\\\nWeather in San Francisco for April 2025\\\\nYour guide to San Francisco weather in April - trends and predictions\\\\nTemperatures\\\\n\\\\n\\\\nThe forecast for the next days in San Francisco predicts temperatures to be around 59\\\\xa0°F, close to the historical average. [...] Sunny\\\\n| 64° /55° | 0\\\\xa0in | 4 |  |\\\\n| Apr. 11 | \\\\nPartly cloudy\\\\n| 59° /53° | 0\\\\xa0in | 4 |  |\\\\n| Apr. 12 | \\\\nSunny\\\\n| 55° /50° | 0\\\\xa0in | 4 |  |\\\\n| Apr. 13 | \\\\nSunny\\\\n| 55° /48° | 0\\\\xa0in | 4 |  |\\\\n| Apr. 14 | \\\\nPatchy rain possible\\\\n| 51° /46° | 0.01\\\\xa0in | 3 |  |\\\\n| Apr. 15 | \\\\nSunny\\\\n| 59° /44° | 0\\\\xa0in | 4 |  |\\\\n| Apr. 16 | \\\\nOvercast\\\\n| 60° /44° | 0.1\\\\xa0in | 4 |  |\\\\n| Apr. 17 | \\\\nSunny\\\\n| 60° /46° | 0\\\\xa0in | 4 |  |\\\\n| Apr. 18 | \\\\nOvercast\\\\n| 62° /46° | 0.01\\\\xa0in | 4 |  |\\\\n| Apr. 19 | \\\\nCloudy\\\\n| 60° /48° | 0.02\\\\xa0in | 4 |  | [...] 11.8\\\\xa0mph\\\\nAvg max wind\\\\n\\\\n71 %\\\\nAvg humidity\\'}, {\\'url\\': \\'https://en.climate-data.org/north-america/united-states-of-america/california/san-francisco-385/t/april-4/\\', \\'content\\': \\'| Max. Temperature °C (°F) | 14 °C\\\\n(57.3) °F\\\\n| 14.9 °C\\\\n(58.7) °F\\\\n| 16.2 °C\\\\n(61.2) °F\\\\n| 17.4 °C\\\\n(63.3) °F\\\\n| 19.2 °C\\\\n(66.5) °F\\\\n| 21.5 °C\\\\n(70.8) °F\\\\n| 21.8 °C\\\\n(71.2) °F\\\\n| 22.2 °C\\\\n(71.9) °F\\\\n| 23.1 °C\\\\n(73.6) °F\\\\n| 21.3 °C\\\\n(70.3) °F\\\\n| 17.1 °C\\\\n(62.8) °F\\\\n| 13.9 °C\\\\n(57.1) °F\\\\n|\\\\n| Precipitation / Rainfall mm (in) | 113\\\\n(4)\\\\n| 118\\\\n(4)\\\\n| 83\\\\n(3)\\\\n| 40\\\\n(1)\\\\n| 21\\\\n(0)\\\\n| 6\\\\n(0)\\\\n| 2\\\\n(0)\\\\n| 2\\\\n(0)\\\\n| 3\\\\n(0)\\\\n| 25\\\\n(0)\\\\n| 57\\\\n(2)\\\\n| 111\\\\n(4)\\\\n|\\\\n| Humidity(%) | 79% | 80% | 78% | 72% | 70% | 69% | 74% | 74% | 71% | 70% | 76% | 78% | [...] (50.8) °F\\\\n| 11.6 °C\\\\n(52.9) °F\\\\n| 12.5 °C\\\\n(54.6) °F\\\\n| 14.1 °C\\\\n(57.4) °F\\\\n| 15.9 °C\\\\n(60.7) °F\\\\n| 16.3 °C\\\\n(61.4) °F\\\\n| 16.7 °C\\\\n(62.1) °F\\\\n| 17.1 °C\\\\n(62.7) °F\\\\n| 15.7 °C\\\\n(60.2) °F\\\\n| 12.4 °C\\\\n(54.4) °F\\\\n| 9.9 °C\\\\n(49.8) °F\\\\n|\\\\n| Min. Temperature °C (°F) | 6.2 °C\\\\n(43.2) °F\\\\n| 7.1 °C\\\\n(44.8) °F\\\\n| 8.2 °C\\\\n(46.8) °F\\\\n| 8.9 °C\\\\n(48.1) °F\\\\n| 10.3 °C\\\\n(50.6) °F\\\\n| 11.8 °C\\\\n(53.3) °F\\\\n| 12.7 °C\\\\n(54.9) °F\\\\n| 13.3 °C\\\\n(55.9) °F\\\\n| 13.1 °C\\\\n(55.6) °F\\\\n| 11.9 °C\\\\n(53.4) °F\\\\n| 9 °C\\\\n(48.2) °F\\\\n| 6.8 °C\\\\n(44.2) °F\\\\n| [...] | 13. April | 12 °C | 54 °F | 17 °C | 62 °F | 9 °C | 49 °F | 11 °C | 52 °F | 3.8 mm | 0.2 inch. |\\\\n| 14. April | 12 °C | 54 °F | 17 °C | 63 °F | 8 °C | 47 °F | 11 °C | 52 °F | 1.4 mm | 0.1 inch. |\\\\n| 15. April | 12 °C | 54 °F | 17 °C | 63 °F | 8 °C | 47 °F | 11 °C | 52 °F | 0.4 mm | 0.0 inch. |\\\\n| 16. April | 12 °C | 54 °F | 17 °C | 63 °F | 9 °C | 48 °F | 11 °C | 52 °F | 1.2 mm | 0.0 inch. |\\\\n| 17. April | 13 °C | 55 °F | 17 °C | 63 °F | 9 °C | 49 °F | 11 °C | 52 °F | 1.3 mm | 0.1 inch. |\\'}]', name='tavily_search_results_json', tool_call_id='call_20zFve3KGMZO1aXrP2RRTRat'),\n",
       "  AIMessage(content='The current weather in San Francisco is partly cloudy with a temperature of 53.1°F. The wind speed is 11.9 km/h coming from the WSW direction. The humidity is at 89% with a cloud cover of 75%.', response_metadata={'token_usage': {'completion_tokens': 53, 'prompt_tokens': 2199, 'total_tokens': 2252, 'completion_tokens_details': {'accepted_prediction_tokens': 0, 'audio_tokens': 0, 'reasoning_tokens': 0, 'rejected_prediction_tokens': 0}, 'prompt_tokens_details': {'audio_tokens': 0, 'cached_tokens': 0}}, 'model_name': 'gpt-3.5-turbo', 'system_fingerprint': None, 'finish_reason': 'stop', 'logprobs': None}, id='run-8b88bcda-468b-4f3d-a344-602baee77d50-0')]}"
      ]
     },
     "execution_count": 12,
     "metadata": {},
     "output_type": "execute_result"
    }
   ],
   "source": [
    "result"
   ]
  },
  {
   "cell_type": "code",
   "execution_count": 13,
   "id": "d543a1de-fc89-4513-ad7c-a1da37040ae6",
   "metadata": {},
   "outputs": [
    {
     "data": {
      "text/plain": [
       "'The current weather in San Francisco is partly cloudy with a temperature of 53.1°F. The wind speed is 11.9 km/h coming from the WSW direction. The humidity is at 89% with a cloud cover of 75%.'"
      ]
     },
     "execution_count": 13,
     "metadata": {},
     "output_type": "execute_result"
    }
   ],
   "source": [
    "result['messages'][-1].content"
   ]
  },
  {
   "cell_type": "code",
   "execution_count": 14,
   "id": "9c82d0c5-abea-49f8-8bdc-361ec3527e18",
   "metadata": {},
   "outputs": [
    {
     "name": "stdout",
     "output_type": "stream",
     "text": [
      "2\n",
      "Calling: {'name': 'tavily_search_results_json', 'args': {'query': 'weather in San Francisco'}, 'id': 'call_cVbsDKGZNIPavR6sKje1B7Gg', 'type': 'tool_call'}\n",
      "2\n",
      "Calling: {'name': 'tavily_search_results_json', 'args': {'query': 'weather in Los Angeles'}, 'id': 'call_qjo1kuGcn8CA9YEsmQSFEBdP', 'type': 'tool_call'}\n",
      "Back to the model!\n"
     ]
    }
   ],
   "source": [
    "messages = [HumanMessage(content=\"What is the weather in SF and LA?\")]\n",
    "result = abot.graph.invoke({\"messages\": messages})"
   ]
  },
  {
   "cell_type": "code",
   "execution_count": 15,
   "id": "77999166-1cb4-4219-957d-bc73c1e67a90",
   "metadata": {},
   "outputs": [
    {
     "data": {
      "text/plain": [
       "'The weather in San Francisco is currently partly cloudy with a temperature of 53.1°F. The wind speed is 11.9 km/h coming from the WSW direction. The humidity is at 89%, and the visibility is 16.0 km.\\n\\nIn Los Angeles, the weather is clear with a temperature of 55.9°F. The wind speed is 5.4 km/h coming from the SSW direction. The humidity is at 80%, and there are no clouds in the sky.'"
      ]
     },
     "execution_count": 15,
     "metadata": {},
     "output_type": "execute_result"
    }
   ],
   "source": [
    "result['messages'][-1].content"
   ]
  },
  {
   "cell_type": "code",
   "execution_count": 21,
   "id": "5081a9a7-1e00-4b05-97c7-21e778dcbe3c",
   "metadata": {},
   "outputs": [],
   "source": [
    "query = \"Who won the super bowl in 2024? In what state is the winning team headquarters located? \\\n",
    "What is the GDP of that state? Answer each question.\" \n",
    "messages = [HumanMessage(content=query)]"
   ]
  },
  {
   "cell_type": "code",
   "execution_count": 22,
   "id": "4645e488-8638-4c66-a58b-09871e1fc425",
   "metadata": {},
   "outputs": [
    {
     "data": {
      "text/plain": [
       "[HumanMessage(content='Who won the super bowl in 2024? In what state is the winning team headquarters located? What is the GDP of that state? Answer each question.')]"
      ]
     },
     "execution_count": 22,
     "metadata": {},
     "output_type": "execute_result"
    }
   ],
   "source": [
    "messages"
   ]
  },
  {
   "cell_type": "code",
   "execution_count": 23,
   "id": "ad3a53a4-b2a9-476e-b35b-45d9138bf098",
   "metadata": {},
   "outputs": [],
   "source": [
    "model = ChatOpenAI(model=\"gpt-4o\")"
   ]
  },
  {
   "cell_type": "code",
   "execution_count": 24,
   "id": "6925650c-7a57-4136-bb61-f97ac53d37b6",
   "metadata": {},
   "outputs": [],
   "source": [
    "abot = Agent(model, [tool], system=prompt)"
   ]
  },
  {
   "cell_type": "code",
   "execution_count": 25,
   "id": "f429f9fe-9c96-4f59-92f0-109605a79f69",
   "metadata": {},
   "outputs": [
    {
     "name": "stdout",
     "output_type": "stream",
     "text": [
      "1\n",
      "Calling: {'name': 'tavily_search_results_json', 'args': {'query': '2024 Super Bowl winner'}, 'id': 'call_A7G6ujhhqgBTGVb7Y2zHSKYm', 'type': 'tool_call'}\n",
      "Back to the model!\n",
      "2\n",
      "Calling: {'name': 'tavily_search_results_json', 'args': {'query': 'Philadelphia Eagles headquarters location'}, 'id': 'call_qCSRtauPDzr4PWx9KtSk8XVm', 'type': 'tool_call'}\n",
      "2\n",
      "Calling: {'name': 'tavily_search_results_json', 'args': {'query': 'GDP of Pennsylvania 2024'}, 'id': 'call_bQ6TGm27ecvVJkqCpmbuzSQS', 'type': 'tool_call'}\n",
      "Back to the model!\n"
     ]
    }
   ],
   "source": [
    "result = abot.graph.invoke({\"messages\": messages})"
   ]
  },
  {
   "cell_type": "code",
   "execution_count": 26,
   "id": "361fd423-d8e4-40d5-9218-00ea0d8c6263",
   "metadata": {},
   "outputs": [
    {
     "data": {
      "text/plain": [
       "{'messages': [HumanMessage(content='Who won the super bowl in 2024? In what state is the winning team headquarters located? What is the GDP of that state? Answer each question.'),\n",
       "  AIMessage(content='', additional_kwargs={'tool_calls': [{'id': 'call_A7G6ujhhqgBTGVb7Y2zHSKYm', 'function': {'arguments': '{\"query\":\"2024 Super Bowl winner\"}', 'name': 'tavily_search_results_json'}, 'type': 'function'}]}, response_metadata={'token_usage': {'completion_tokens': 23, 'prompt_tokens': 176, 'total_tokens': 199, 'completion_tokens_details': {'accepted_prediction_tokens': 0, 'audio_tokens': 0, 'reasoning_tokens': 0, 'rejected_prediction_tokens': 0}, 'prompt_tokens_details': {'audio_tokens': 0, 'cached_tokens': 0}}, 'model_name': 'gpt-4o', 'system_fingerprint': 'fp_92f14e8683', 'finish_reason': 'tool_calls', 'logprobs': None}, id='run-c85d182e-d4b2-4e14-9317-1113abeec2d1-0', tool_calls=[{'name': 'tavily_search_results_json', 'args': {'query': '2024 Super Bowl winner'}, 'id': 'call_A7G6ujhhqgBTGVb7Y2zHSKYm', 'type': 'tool_call'}]),\n",
       "  ToolMessage(content='[{\\'url\\': \\'https://en.wikipedia.org/wiki/Super_Bowl_LVIII\\', \\'content\\': \\'| 1 | 2 | 3 | 4 | OT | Total\\\\nSF | 0 | 10 | 0 | 9 | 3 | 22\\\\nKC | 0 | 3 | 10 | 6 | 6 | 25\\\\nDate | February\\\\xa011,\\\\xa02024(2024-02-11)\\\\nKickoff time | 3:40 p.m.PST(UTC-8)\\\\nStadium | Allegiant Stadium,Paradise, Nevada[a]\\\\nMVP | Patrick Mahomes,quarterback\\\\nFavorite | 49ers by 2[1]\\\\nReferee | Bill Vinovich\\\\nAttendance | 61,629\\\\nCeremonies\\\\nNational anthem | Reba McEntire\\\\nCoin toss | Lahainaluna Lunasfootball head coach Bobby Watson [...] During the 2024 season, the Chiefs raced to a 9–0 start for the first time since the 2013 season. They finished with a league-best 15–2 record, becoming the first 15-win team since the 2015 Carolina Panthers, and reached their third straight Super Bowl. However, their bid to become the first team to win three consecutive Super Bowls ended with a loss to the NFC champion Philadelphia Eagles.[citation needed]\\'}, {\\'url\\': \\'https://www.cbsnews.com/news/super-bowl-winners-list-history/\\', \\'content\\': \\'Who won the 2024 Super Bowl last year?\\\\n\\\\nThe Kansas City Chiefs struggled against the San Francisco 49ers in the first half of Super Bowl LVIII in Las Vegas, going scoreless until a crucial 28-yard field goal by Harrison Butker finally put the Chiefs on the board, 10-3 at\\\\xa0halftime. After some back and forth in the second half, the teams were tied at 19 at the end of regulation, and the game headed into overtime for only the second time in Super Bowl history.\\'}, {\\'url\\': \\'https://www.cbssports.com/nfl/news/ranking-every-super-bowl-champion-since-2000-2024-eagles-take-top-spot-thanks-to-dominant-win-over-chiefs/\\', \\'content\\': \"If not listed, please contact your TV provider.\\\\n\\\\nRanking every Super Bowl champion since 2000: 2024 Eagles take top spot thanks to dominant win over Chiefs\\\\n\\\\nWhich teams came closest to rivaling Philly?\\\\n\\\\nThe Philadelphia\\\\xa0Eagles\\' 40-22 win over the Kansas City\\\\xa0Chiefs emphatically answered the question of which team was the NFL\\'s best in 2024. The Eagles\\' dominance over the Chiefs also catapults them to the top of the list of every Super Bowl champion since the turn of the century. [...] The Eagles made plenty of history in 2024. They became the first Super Bowl-winning team since the 1975 Steelers to have more running than passing yards (including the postseason). The Eagles are also the first team to defeat a team that had previously defeated them in the Super Bowl. Saquon Barkley capped off his historic season by joining Hall of Famers Emmitt Smith and Terrell Davis as the only rushing champs to win the big game. Oh, and did we mention yet that the Eagles flattened a Chiefs [...] The 2024 Eagles boasted a top-10 scoring offense and the NFL\\'s second-ranked scoring defense, a unit that overwhelmed Patrick Mahomes and the rest of the Chiefs offense in the Super Bowl. The Eagles\\' legendary defensive performance was complemented by its offense, which featured the NFL\\'s best quartet at the skill positions and a powerful offensive line that had its way with seemingly everyone in 2024.\"}, {\\'url\\': \\'https://sports.yahoo.com/won-2024-super-bowl-looking-051533949.html\\', \\'content\\': \\'Kansas City Chiefs quarterback Patrick Mahomes holds the the Vince Lombardi Trophy after winning the Super Bowl against the San Francisco 49ers\\'}]', name='tavily_search_results_json', tool_call_id='call_A7G6ujhhqgBTGVb7Y2zHSKYm'),\n",
       "  AIMessage(content='', additional_kwargs={'tool_calls': [{'id': 'call_qCSRtauPDzr4PWx9KtSk8XVm', 'function': {'arguments': '{\"query\": \"Philadelphia Eagles headquarters location\"}', 'name': 'tavily_search_results_json'}, 'type': 'function'}, {'id': 'call_bQ6TGm27ecvVJkqCpmbuzSQS', 'function': {'arguments': '{\"query\": \"GDP of Pennsylvania 2024\"}', 'name': 'tavily_search_results_json'}, 'type': 'function'}]}, response_metadata={'token_usage': {'completion_tokens': 61, 'prompt_tokens': 1045, 'total_tokens': 1106, 'completion_tokens_details': {'accepted_prediction_tokens': 0, 'audio_tokens': 0, 'reasoning_tokens': 0, 'rejected_prediction_tokens': 0}, 'prompt_tokens_details': {'audio_tokens': 0, 'cached_tokens': 0}}, 'model_name': 'gpt-4o', 'system_fingerprint': 'fp_92f14e8683', 'finish_reason': 'tool_calls', 'logprobs': None}, id='run-e454e118-8f81-4719-9506-7f187d4d9419-0', tool_calls=[{'name': 'tavily_search_results_json', 'args': {'query': 'Philadelphia Eagles headquarters location'}, 'id': 'call_qCSRtauPDzr4PWx9KtSk8XVm', 'type': 'tool_call'}, {'name': 'tavily_search_results_json', 'args': {'query': 'GDP of Pennsylvania 2024'}, 'id': 'call_bQ6TGm27ecvVJkqCpmbuzSQS', 'type': 'tool_call'}]),\n",
       "  ToolMessage(content='[{\\'url\\': \\'https://www.philadelphiaeagles.com/photos/eagles-headquarters-at-the-comcast-center\\', \\'content\\': \"Philadelphia Eagles | Official Site of the Philadelphia Eagles\\\\n\\\\nEagles Headquarters at the Comcast Center\\\\n\\\\nTake a look at the best photos from the Eagles Headquarters pep rally at the Comcast Center in Center City Philadelphia.\\\\n\\\\nSWOOP, Eagles Cheerleaders, Pep Band, legends were on hand for Eagles Headquarters at the Comcast Center\\\\n\\\\nJason Avant was among the legends in attendance\\\\n\\\\nThe Eagles Cheerleaders and Pep Band kept the fans entertained [...] Club Links\\\\n\\\\nNFL Clubs\\\\n\\\\nMore NFL Sites\\\\n\\\\nCopyright © 2025 Philadelphia Eagles. All rights reserved. [...] Independence Blue Cross, Johnson Kendall Johnson, Lincoln Financial Group, McDonald\\'s, Nouryon, Philadelphia Insurance, Rita\\'s Water Ice, Toyota, Verizon, and West Pharmaceutical Services.\"}, {\\'url\\': \\'https://www.linkedin.com/company/philadelphia-eagles\\', \\'content\\': \\'External link for Philadelphia Eagles. Industry: Spectator Sports. Company size: 51-200 employees. Headquarters: Philadelphia, PA. Type: Privately Held\\'}, {\\'url\\': \\'https://www.philadelphiaeagles.com/footer/app-contact-us\\', \\'content\\': \\'â\\\\x80\\\\x8bBy Mail\\\\n\\\\nPhiladelphia Eagles\\\\nNovaCare Complex\\\\nOne NovaCare Way\\\\nPhiladelphia, PA 19145Â\\\\n\\\\n*Due to the large volume of requests received each year, we do not accept items to be autographed.\\\\n\\\\nâ\\\\x80\\\\x8bBy Telephone\\\\n\\\\nMonday through Friday, 9:00 am - 5:00 pmÂ\\\\n\\\\nTickets at Lincoln Financial Stadium: 215-463-5500\\\\nTeam Headquarters at the NovaCare Complex: 215-463-2500\\\\n\\\\nâ\\\\x80\\\\x8bOn Game Day\\\\n\\\\nLincoln Financial Field Community Watch\\'}, {\\'url\\': \\'https://www.thinkformarchitects.com/project/eagles-headquarters/\\', \\'content\\': \\'Location: Philadelphia, Pennsylvania; Project Type: Corporate HQ Office Healthcare Sport Education Fitness Training Facility; Services Provided: Master Planning\\'}]', name='tavily_search_results_json', tool_call_id='call_qCSRtauPDzr4PWx9KtSk8XVm'),\n",
       "  ToolMessage(content=\"[{'url': 'https://tradingeconomics.com/united-states/total-gross-domestic-product-by-industry-for-pennsylvania-fed-data.html', 'content': 'Gross Domestic Product: All Industry Total in Pennsylvania was 1032269.80000 Mil. of $ in July of 2024, according to the United States Federal Reserve. Historically, Gross Domestic Product: All Industry Total in Pennsylvania reached a record high of 1032269.80000 in July of 2024 and a record low of 500350.60000 in January of 2005. Trading Economics provides the current actual value, an historical data chart and related indicators for Gross Domestic Product: All Industry Total in Pennsylvania - [...] Members\\\\n\\\\n\\\\n\\\\nGross Domestic Product: All Industry Total in Pennsylvania2025 Data  2026 Forecast 2005-2024 Historical'}, {'url': 'https://fred.stlouisfed.org/series/PANGSP', 'content': 'Federal Reserve Economic Data\\\\n\\\\nExplore resources provided by the Research Division at the Federal Reserve Bank of St. Louis.\\\\n\\\\nGross Domestic Product: All Industry Total in Pennsylvania (PANGSP)\\\\n\\\\nObservations\\\\n\\\\n2024: 1,024,206.3 |\\\\n    Millions of Dollars, Not Seasonally Adjusted |\\\\n    \\\\n        Annual\\\\n\\\\nUpdated:\\\\n    \\\\nMar 28, 2025\\\\n3:24 PM CDT\\\\n\\\\nNext Release Date:\\\\n                Jun 27, 2025\\\\n\\\\nObservations [...] 2024: | 1,024,206.3 | \\\\n2023: | 976,360.8 | \\\\n2022: | 919,741.1 | \\\\n2021: | 844,431.8 | \\\\n2020: | 777,000.8 | \\\\nView All\\\\nUnits:\\\\n\\\\nFrequency:\\\\n\\\\nData in this graph are copyrighted. Please review the copyright information in the series notes before sharing.\\\\n\\\\nNotes\\\\n\\\\nSource:\\\\nU.S. Bureau of Economic Analysis\\\\n            \\\\xa0                    \\\\n        Release:\\\\nGross Domestic Product by State\\\\n                \\\\xa0                    \\\\nUnits:\\\\xa0\\\\n            \\\\nMillions of Dollars,\\\\xa0Not Seasonally Adjusted'}, {'url': 'https://www.haver.com/articles/state-gdp-and-personal-income-in-q1-2024', 'content': 'Pennsylvaniaâ\\\\x80\\\\x99s 2024:1 figure was $998 billion, at an annual rate. No other state exceeds $900 billion. [...] State real GDP growth rates in 2024:1 ranged from Idahoâ\\\\x80\\\\x99s 5.0% to South Dakotaâ\\\\x80\\\\x99s -4.2%. Growth tended to be high in the mountain West and the Southeast. Many highly agricultural states in the Plains saw declines, but Illinois, Ohio, Oregon, and Louisiana also saw drops. Pennsylvania is on the verge of becoming the sixth state with current-dollar GDP exceeding one trillion dollars. The five currently above that threshold are California, Texas, New York, Florida, and Illinois;'}, {'url': 'https://fred.stlouisfed.org/series/PANQGSP', 'content': 'Gross Domestic Product: All Industry Total in Pennsylvania (PANQGSP). Observations. Q4 2024: 1,044,276.5 | Millions of Dollars,'}]\", name='tavily_search_results_json', tool_call_id='call_bQ6TGm27ecvVJkqCpmbuzSQS'),\n",
       "  AIMessage(content=\"1. **Who won the Super Bowl in 2024?**  \\n   The Philadelphia Eagles won the Super Bowl in 2024, defeating the Kansas City Chiefs with a score of 40-22.\\n\\n2. **In what state is the winning team's headquarters located?**  \\n   The headquarters of the Philadelphia Eagles is located in Philadelphia, Pennsylvania.\\n\\n3. **What is the GDP of that state?**  \\n   In 2024, Pennsylvania's GDP was approximately $1,024,206.3 million.\", response_metadata={'token_usage': {'completion_tokens': 107, 'prompt_tokens': 2371, 'total_tokens': 2478, 'completion_tokens_details': {'accepted_prediction_tokens': 0, 'audio_tokens': 0, 'reasoning_tokens': 0, 'rejected_prediction_tokens': 0}, 'prompt_tokens_details': {'audio_tokens': 0, 'cached_tokens': 1024}}, 'model_name': 'gpt-4o', 'system_fingerprint': 'fp_92f14e8683', 'finish_reason': 'stop', 'logprobs': None}, id='run-c75acd5a-385d-41ef-98d8-c99bb78d6d5b-0')]}"
      ]
     },
     "execution_count": 26,
     "metadata": {},
     "output_type": "execute_result"
    }
   ],
   "source": [
    "result"
   ]
  },
  {
   "cell_type": "code",
   "execution_count": 20,
   "id": "d1668d06-c560-4f9e-ad6c-b4dc2a240b1d",
   "metadata": {},
   "outputs": [
    {
     "data": {
      "text/plain": [
       "\"1. **Who won the Super Bowl in 2024?**  \\n   The Kansas City Chiefs won the Super Bowl in 2024, defeating the San Francisco 49ers 25-22 in overtime.\\n\\n2. **In what state is the winning team's headquarters located?**  \\n   The headquarters of the Kansas City Chiefs is located in Kansas City, Missouri.\\n\\n3. **What is the GDP of that state?**  \\n   Missouri's GDP was approximately $460.7 billion in the fourth quarter of 2024.\""
      ]
     },
     "execution_count": 20,
     "metadata": {},
     "output_type": "execute_result"
    }
   ],
   "source": [
    "result['messages'][-1].content"
   ]
  },
  {
   "cell_type": "code",
   "execution_count": null,
   "id": "ae4712a6-1731-4454-9ed4-71e7d2c8ad4b",
   "metadata": {},
   "outputs": [],
   "source": []
  },
  {
   "cell_type": "code",
   "execution_count": 27,
   "id": "74b6917a-a441-4ef0-a037-0403e9ddb870",
   "metadata": {},
   "outputs": [
    {
     "name": "stdout",
     "output_type": "stream",
     "text": [
      "1\n",
      "Calling: {'name': 'tavily_search_results_json', 'args': {'query': '2024 Super Bowl winner'}, 'id': 'call_mX1hGkoOdt2TZKircdH2iSuZ', 'type': 'tool_call'}\n",
      "Back to the model!\n",
      "2\n",
      "Calling: {'name': 'tavily_search_results_json', 'args': {'query': 'Philadelphia Eagles headquarters location'}, 'id': 'call_hR30LVnrmvmHap5VcmgK0MkC', 'type': 'tool_call'}\n",
      "2\n",
      "Calling: {'name': 'tavily_search_results_json', 'args': {'query': 'GDP of Pennsylvania 2024'}, 'id': 'call_losW7V7dCVcNws1VsWBLjSoH', 'type': 'tool_call'}\n",
      "Back to the model!\n"
     ]
    }
   ],
   "source": [
    "query = \"Who won the super bowl in 2024? In what state is the winning team headquarters located? \\\n",
    "What is the GDP of that state? Answer each question.\" \n",
    "messages = [HumanMessage(content=query)]\n",
    "\n",
    "model = ChatOpenAI(model=\"gpt-4o\")  # requires more advanced model\n",
    "abot = Agent(model, [tool], system=prompt)\n",
    "result = abot.graph.invoke({\"messages\": messages})"
   ]
  },
  {
   "cell_type": "code",
   "execution_count": 28,
   "id": "d7778f4c-9d1e-45c5-b3b7-ebea4d81863b",
   "metadata": {},
   "outputs": [
    {
     "name": "stdout",
     "output_type": "stream",
     "text": [
      "1. **Who won the Super Bowl in 2024?**  \n",
      "   The Philadelphia Eagles won the Super Bowl in 2024.\n",
      "\n",
      "2. **In what state is the winning team headquarters located?**  \n",
      "   The Philadelphia Eagles' headquarters is located in Philadelphia, Pennsylvania.\n",
      "\n",
      "3. **What is the GDP of that state?**  \n",
      "   The GDP of Pennsylvania in 2024 was approximately $1,024,206.3 million (or about $1.024 trillion).\n"
     ]
    }
   ],
   "source": [
    "print(result['messages'][-1].content)"
   ]
  },
  {
   "cell_type": "code",
   "execution_count": null,
   "id": "306f55fb-368e-4b5d-b7e0-cae42ec3f4c8",
   "metadata": {},
   "outputs": [],
   "source": []
  }
 ],
 "metadata": {
  "kernelspec": {
   "display_name": "Python 3 (ipykernel)",
   "language": "python",
   "name": "python3"
  },
  "language_info": {
   "codemirror_mode": {
    "name": "ipython",
    "version": 3
   },
   "file_extension": ".py",
   "mimetype": "text/x-python",
   "name": "python",
   "nbconvert_exporter": "python",
   "pygments_lexer": "ipython3",
   "version": "3.12.1"
  }
 },
 "nbformat": 4,
 "nbformat_minor": 5
}
