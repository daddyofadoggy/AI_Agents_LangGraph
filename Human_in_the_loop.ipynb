{
 "cells": [
  {
   "cell_type": "markdown",
   "id": "01966ec6-0cee-4ca8-bced-99f41852c1cb",
   "metadata": {},
   "source": [
    "## Lesson 5: Human in the Loop"
   ]
  },
  {
   "cell_type": "code",
   "execution_count": 1,
   "id": "841752e9-247c-410f-adb0-9485a95a5f41",
   "metadata": {},
   "outputs": [],
   "source": [
    "from dotenv import load_dotenv\n",
    "\n",
    "_ = load_dotenv()"
   ]
  },
  {
   "cell_type": "code",
   "execution_count": 2,
   "id": "825a4880-0f02-428c-adc5-afdc5932510a",
   "metadata": {},
   "outputs": [],
   "source": [
    "from langgraph.graph import StateGraph, END\n",
    "from typing import TypedDict, Annotated\n",
    "import operator\n",
    "from langchain_core.messages import AnyMessage, SystemMessage, HumanMessage, ToolMessage\n",
    "from langchain_openai import ChatOpenAI\n",
    "from langchain_community.tools.tavily_search import TavilySearchResults\n",
    "from langgraph.checkpoint.sqlite import SqliteSaver\n",
    "\n",
    "memory = SqliteSaver.from_conn_string(\":memory:\")"
   ]
  },
  {
   "cell_type": "code",
   "execution_count": 3,
   "id": "4def9b7d-e86d-423c-99e1-0adb4666945c",
   "metadata": {},
   "outputs": [
    {
     "name": "stdin",
     "output_type": "stream",
     "text": [
      "Tavily API key:\n",
      " ········\n"
     ]
    }
   ],
   "source": [
    "import getpass\n",
    "import os\n",
    "\n",
    "if not os.environ.get(\"TAVILY_API_KEY\"):\n",
    "    os.environ[\"TAVILY_API_KEY\"] = getpass.getpass(\"Tavily API key:\\n\")\n"
   ]
  },
  {
   "cell_type": "code",
   "execution_count": 4,
   "id": "97425a77-1a8a-417b-89bb-ce6118fc9dfe",
   "metadata": {},
   "outputs": [
    {
     "name": "stdin",
     "output_type": "stream",
     "text": [
      "OPENAI API key:\n",
      " ········\n"
     ]
    }
   ],
   "source": [
    "if not os.environ.get(\"OPENAI_API_KEY\"):\n",
    "    os.environ[\"OPENAI_API_KEY\"] = getpass.getpass(\"OPENAI API key:\\n\")"
   ]
  },
  {
   "cell_type": "code",
   "execution_count": 36,
   "id": "8e136c73-dee2-48d9-bbe7-4c39d5a80e58",
   "metadata": {},
   "outputs": [],
   "source": [
    "from uuid import uuid4\n",
    "from langchain_core.messages import AnyMessage, SystemMessage, HumanMessage, AIMessage\n",
    "\n",
    "\"\"\"\n",
    "In previous examples we've annotated the `messages` state key\n",
    "with the default `operator.add` or `+` reducer, which always\n",
    "appends new messages to the end of the existing messages array.\n",
    "\n",
    "Now, to support replacing existing messages, we annotate the\n",
    "`messages` key with a customer reducer function, which replaces\n",
    "messages with the same `id`, and appends them otherwise.\n",
    "\"\"\"\n",
    "def reduce_messages(left: list[AnyMessage], right: list[AnyMessage]) -> list[AnyMessage]:\n",
    "    # assign ids to messages that don't have them\n",
    "    for message in right:\n",
    "        if not message.id:\n",
    "            message.id = str(uuid4())\n",
    "    # merge the new messages with the existing messages\n",
    "    merged = left.copy()\n",
    "    for message in right:\n",
    "        for i, existing in enumerate(merged):\n",
    "            # replace any existing messages with the same id\n",
    "            if existing.id == message.id:\n",
    "                merged[i] = message\n",
    "                break\n",
    "        else:\n",
    "            # append any new messages to the end\n",
    "            merged.append(message)\n",
    "    return merged\n",
    "\n",
    "class AgentState(TypedDict):\n",
    "    messages: Annotated[list[AnyMessage], reduce_messages]"
   ]
  },
  {
   "cell_type": "code",
   "execution_count": 37,
   "id": "f93dc3c5-9358-4464-9d29-91180a2f147b",
   "metadata": {},
   "outputs": [],
   "source": [
    "tool = TavilySearchResults(max_results=2)"
   ]
  },
  {
   "cell_type": "markdown",
   "id": "3cebc8a0-e715-4ef5-a0e9-cf8558a09f05",
   "metadata": {},
   "source": [
    "## Manual human approval"
   ]
  },
  {
   "cell_type": "code",
   "execution_count": 38,
   "id": "960be052-bb79-4f15-a315-5e7b378fc8e7",
   "metadata": {},
   "outputs": [],
   "source": [
    "class Agent:\n",
    "    def __init__(self, model, tools, system=\"\", checkpointer=None):\n",
    "        self.system = system\n",
    "        graph = StateGraph(AgentState)\n",
    "        graph.add_node(\"llm\", self.call_openai)\n",
    "        graph.add_node(\"action\", self.take_action)\n",
    "        graph.add_conditional_edges(\"llm\", self.exists_action, {True: \"action\", False: END})\n",
    "        graph.add_edge(\"action\", \"llm\")\n",
    "        graph.set_entry_point(\"llm\")\n",
    "        self.graph = graph.compile(\n",
    "            checkpointer=checkpointer,\n",
    "            interrupt_before=[\"action\"]\n",
    "        )\n",
    "        self.tools = {t.name: t for t in tools}\n",
    "        self.model = model.bind_tools(tools)\n",
    "\n",
    "    def call_openai(self, state: AgentState):\n",
    "        messages = state['messages']\n",
    "        if self.system:\n",
    "            messages = [SystemMessage(content=self.system)] + messages\n",
    "        message = self.model.invoke(messages)\n",
    "        return {'messages': [message]}\n",
    "\n",
    "    def exists_action(self, state: AgentState):\n",
    "        print(state)\n",
    "        result = state['messages'][-1]\n",
    "        return len(result.tool_calls) > 0\n",
    "\n",
    "    def take_action(self, state: AgentState):\n",
    "        tool_calls = state['messages'][-1].tool_calls\n",
    "        results = []\n",
    "        for t in tool_calls:\n",
    "            print(f\"Calling: {t}\")\n",
    "            result = self.tools[t['name']].invoke(t['args'])\n",
    "            results.append(ToolMessage(tool_call_id=t['id'], name=t['name'], content=str(result)))\n",
    "        print(\"Back to the model!\")\n",
    "        return {'messages': results}"
   ]
  },
  {
   "cell_type": "code",
   "execution_count": 39,
   "id": "66455e4b-508b-4795-9fe2-56fcf693a824",
   "metadata": {},
   "outputs": [],
   "source": [
    "prompt = \"\"\"You are a smart research assistant. Use the search engine to look up information. \\\n",
    "You are allowed to make multiple calls (either together or in sequence). \\\n",
    "Only look up information when you are sure of what you want. \\\n",
    "If you need to look up some information before asking a follow up question, you are allowed to do that!\n",
    "\"\"\"\n",
    "model = ChatOpenAI(model=\"gpt-3.5-turbo\")\n",
    "abot = Agent(model, [tool], system=prompt, checkpointer=memory)"
   ]
  },
  {
   "cell_type": "code",
   "execution_count": 40,
   "id": "5f9ca1ef-385e-47b0-ba4f-03c73f6c7bac",
   "metadata": {},
   "outputs": [
    {
     "name": "stdout",
     "output_type": "stream",
     "text": [
      "{'messages': [HumanMessage(content='Whats the weather in SF?', id='da9ad68b-8a55-4ea2-96a0-e39fb57b18ae'), AIMessage(content='', additional_kwargs={'tool_calls': [{'function': {'arguments': '{\"query\":\"weather in San Francisco\"}', 'name': 'tavily_search_results_json'}, 'id': 'call_THDV22POdGZ93y0x6LqDlRMr', 'type': 'function'}]}, response_metadata={'finish_reason': 'tool_calls', 'logprobs': None, 'model_name': 'gpt-3.5-turbo', 'system_fingerprint': None, 'token_usage': {'completion_tokens': 22, 'completion_tokens_details': {'accepted_prediction_tokens': 0, 'audio_tokens': 0, 'reasoning_tokens': 0, 'rejected_prediction_tokens': 0}, 'prompt_tokens': 152, 'prompt_tokens_details': {'audio_tokens': 0, 'cached_tokens': 0}, 'total_tokens': 174}}, id='run-4c7538ff-c8ac-435d-8ade-b3d20d0ad05f-0', tool_calls=[{'name': 'tavily_search_results_json', 'args': {'query': 'weather in San Francisco'}, 'id': 'call_THDV22POdGZ93y0x6LqDlRMr', 'type': 'tool_call'}]), ToolMessage(content='[{\\'url\\': \\'https://www.weatherapi.com/\\', \\'content\\': \"{\\'location\\': {\\'name\\': \\'San Francisco\\', \\'region\\': \\'California\\', \\'country\\': \\'United States of America\\', \\'lat\\': 37.775, \\'lon\\': -122.4183, \\'tz_id\\': \\'America/Los_Angeles\\', \\'localtime_epoch\\': 1744747833, \\'localtime\\': \\'2025-04-15 13:10\\'}, \\'current\\': {\\'last_updated_epoch\\': 1744747200, \\'last_updated\\': \\'2025-04-15 13:00\\', \\'temp_c\\': 14.2, \\'temp_f\\': 57.6, \\'is_day\\': 1, \\'condition\\': {\\'text\\': \\'Overcast\\', \\'icon\\': \\'//cdn.weatherapi.com/weather/64x64/day/122.png\\', \\'code\\': 1009}, \\'wind_mph\\': 11.6, \\'wind_kph\\': 18.7, \\'wind_degree\\': 242, \\'wind_dir\\': \\'WSW\\', \\'pressure_mb\\': 1018.0, \\'pressure_in\\': 30.05, \\'precip_mm\\': 0.0, \\'precip_in\\': 0.0, \\'humidity\\': 82, \\'cloud\\': 100, \\'feelslike_c\\': 12.8, \\'feelslike_f\\': 55.0, \\'windchill_c\\': 10.4, \\'windchill_f\\': 50.8, \\'heatindex_c\\': 12.1, \\'heatindex_f\\': 53.9, \\'dewpoint_c\\': 9.4, \\'dewpoint_f\\': 48.9, \\'vis_km\\': 11.0, \\'vis_miles\\': 6.0, \\'uv\\': 4.7, \\'gust_mph\\': 13.4, \\'gust_kph\\': 21.6}}\"}, {\\'url\\': \\'https://weathershogun.com/weather/usa/ca/san-francisco/480/april/2025-04-15\\', \\'content\\': \\'San Francisco, California Weather: Tuesday, April 15, 2025. Cloudy weather, overcast skies with clouds. Day 63°. Night 50°.\\'}]', name='tavily_search_results_json', id='197e9ecf-9bb0-4b81-8144-c7b8b8b4a4ea', tool_call_id='call_THDV22POdGZ93y0x6LqDlRMr'), AIMessage(content='The current weather in San Francisco is overcast with a temperature of 57.6°F (14.2°C). The wind speed is 11.6 mph from the WSW direction. The humidity is at 82%, and the visibility is 6.0 miles.', response_metadata={'finish_reason': 'stop', 'logprobs': None, 'model_name': 'gpt-3.5-turbo', 'system_fingerprint': None, 'token_usage': {'completion_tokens': 58, 'completion_tokens_details': {'accepted_prediction_tokens': 0, 'audio_tokens': 0, 'reasoning_tokens': 0, 'rejected_prediction_tokens': 0}, 'prompt_tokens': 667, 'prompt_tokens_details': {'audio_tokens': 0, 'cached_tokens': 0}, 'total_tokens': 725}}, id='run-c13175e5-0de1-4505-a953-ad42da26cf06-0'), HumanMessage(content='Whats the weather in SF?', id='2f166fa0-70c9-4e4e-a06a-92c70b4742f1'), AIMessage(content='', additional_kwargs={'tool_calls': [{'id': 'call_eEP26243sWypoInP5GdTdrFk', 'function': {'arguments': '{\"query\":\"weather in San Francisco\"}', 'name': 'tavily_search_results_json'}, 'type': 'function'}]}, response_metadata={'token_usage': {'completion_tokens': 22, 'prompt_tokens': 737, 'total_tokens': 759, 'completion_tokens_details': {'accepted_prediction_tokens': 0, 'audio_tokens': 0, 'reasoning_tokens': 0, 'rejected_prediction_tokens': 0}, 'prompt_tokens_details': {'audio_tokens': 0, 'cached_tokens': 0}}, 'model_name': 'gpt-3.5-turbo', 'system_fingerprint': None, 'finish_reason': 'tool_calls', 'logprobs': None}, id='run-fd572b12-3011-4d33-a292-935489736a41-0', tool_calls=[{'name': 'tavily_search_results_json', 'args': {'query': 'weather in San Francisco'}, 'id': 'call_eEP26243sWypoInP5GdTdrFk', 'type': 'tool_call'}])]}\n",
      "{'messages': [AIMessage(content='', additional_kwargs={'tool_calls': [{'id': 'call_eEP26243sWypoInP5GdTdrFk', 'function': {'arguments': '{\"query\":\"weather in San Francisco\"}', 'name': 'tavily_search_results_json'}, 'type': 'function'}]}, response_metadata={'token_usage': {'completion_tokens': 22, 'prompt_tokens': 737, 'total_tokens': 759, 'completion_tokens_details': {'accepted_prediction_tokens': 0, 'audio_tokens': 0, 'reasoning_tokens': 0, 'rejected_prediction_tokens': 0}, 'prompt_tokens_details': {'audio_tokens': 0, 'cached_tokens': 0}}, 'model_name': 'gpt-3.5-turbo', 'system_fingerprint': None, 'finish_reason': 'tool_calls', 'logprobs': None}, id='run-fd572b12-3011-4d33-a292-935489736a41-0', tool_calls=[{'name': 'tavily_search_results_json', 'args': {'query': 'weather in San Francisco'}, 'id': 'call_eEP26243sWypoInP5GdTdrFk', 'type': 'tool_call'}])]}\n"
     ]
    }
   ],
   "source": [
    "messages = [HumanMessage(content=\"Whats the weather in SF?\")]\n",
    "thread = {\"configurable\": {\"thread_id\": \"1\"}}\n",
    "for event in abot.graph.stream({\"messages\": messages}, thread):\n",
    "    for v in event.values():\n",
    "        print(v)"
   ]
  },
  {
   "cell_type": "code",
   "execution_count": 41,
   "id": "d9de27da-301f-4e97-99d8-e838f95527ba",
   "metadata": {},
   "outputs": [
    {
     "data": {
      "text/plain": [
       "StateSnapshot(values={'messages': [HumanMessage(content='Whats the weather in SF?', id='da9ad68b-8a55-4ea2-96a0-e39fb57b18ae'), AIMessage(content='', additional_kwargs={'tool_calls': [{'function': {'arguments': '{\"query\":\"weather in San Francisco\"}', 'name': 'tavily_search_results_json'}, 'id': 'call_THDV22POdGZ93y0x6LqDlRMr', 'type': 'function'}]}, response_metadata={'finish_reason': 'tool_calls', 'logprobs': None, 'model_name': 'gpt-3.5-turbo', 'system_fingerprint': None, 'token_usage': {'completion_tokens': 22, 'completion_tokens_details': {'accepted_prediction_tokens': 0, 'audio_tokens': 0, 'reasoning_tokens': 0, 'rejected_prediction_tokens': 0}, 'prompt_tokens': 152, 'prompt_tokens_details': {'audio_tokens': 0, 'cached_tokens': 0}, 'total_tokens': 174}}, id='run-4c7538ff-c8ac-435d-8ade-b3d20d0ad05f-0', tool_calls=[{'name': 'tavily_search_results_json', 'args': {'query': 'weather in San Francisco'}, 'id': 'call_THDV22POdGZ93y0x6LqDlRMr', 'type': 'tool_call'}]), ToolMessage(content='[{\\'url\\': \\'https://www.weatherapi.com/\\', \\'content\\': \"{\\'location\\': {\\'name\\': \\'San Francisco\\', \\'region\\': \\'California\\', \\'country\\': \\'United States of America\\', \\'lat\\': 37.775, \\'lon\\': -122.4183, \\'tz_id\\': \\'America/Los_Angeles\\', \\'localtime_epoch\\': 1744747833, \\'localtime\\': \\'2025-04-15 13:10\\'}, \\'current\\': {\\'last_updated_epoch\\': 1744747200, \\'last_updated\\': \\'2025-04-15 13:00\\', \\'temp_c\\': 14.2, \\'temp_f\\': 57.6, \\'is_day\\': 1, \\'condition\\': {\\'text\\': \\'Overcast\\', \\'icon\\': \\'//cdn.weatherapi.com/weather/64x64/day/122.png\\', \\'code\\': 1009}, \\'wind_mph\\': 11.6, \\'wind_kph\\': 18.7, \\'wind_degree\\': 242, \\'wind_dir\\': \\'WSW\\', \\'pressure_mb\\': 1018.0, \\'pressure_in\\': 30.05, \\'precip_mm\\': 0.0, \\'precip_in\\': 0.0, \\'humidity\\': 82, \\'cloud\\': 100, \\'feelslike_c\\': 12.8, \\'feelslike_f\\': 55.0, \\'windchill_c\\': 10.4, \\'windchill_f\\': 50.8, \\'heatindex_c\\': 12.1, \\'heatindex_f\\': 53.9, \\'dewpoint_c\\': 9.4, \\'dewpoint_f\\': 48.9, \\'vis_km\\': 11.0, \\'vis_miles\\': 6.0, \\'uv\\': 4.7, \\'gust_mph\\': 13.4, \\'gust_kph\\': 21.6}}\"}, {\\'url\\': \\'https://weathershogun.com/weather/usa/ca/san-francisco/480/april/2025-04-15\\', \\'content\\': \\'San Francisco, California Weather: Tuesday, April 15, 2025. Cloudy weather, overcast skies with clouds. Day 63°. Night 50°.\\'}]', name='tavily_search_results_json', id='197e9ecf-9bb0-4b81-8144-c7b8b8b4a4ea', tool_call_id='call_THDV22POdGZ93y0x6LqDlRMr'), AIMessage(content='The current weather in San Francisco is overcast with a temperature of 57.6°F (14.2°C). The wind speed is 11.6 mph from the WSW direction. The humidity is at 82%, and the visibility is 6.0 miles.', response_metadata={'finish_reason': 'stop', 'logprobs': None, 'model_name': 'gpt-3.5-turbo', 'system_fingerprint': None, 'token_usage': {'completion_tokens': 58, 'completion_tokens_details': {'accepted_prediction_tokens': 0, 'audio_tokens': 0, 'reasoning_tokens': 0, 'rejected_prediction_tokens': 0}, 'prompt_tokens': 667, 'prompt_tokens_details': {'audio_tokens': 0, 'cached_tokens': 0}, 'total_tokens': 725}}, id='run-c13175e5-0de1-4505-a953-ad42da26cf06-0'), HumanMessage(content='Whats the weather in SF?', id='2f166fa0-70c9-4e4e-a06a-92c70b4742f1'), AIMessage(content='', additional_kwargs={'tool_calls': [{'function': {'arguments': '{\"query\":\"weather in San Francisco\"}', 'name': 'tavily_search_results_json'}, 'id': 'call_eEP26243sWypoInP5GdTdrFk', 'type': 'function'}]}, response_metadata={'finish_reason': 'tool_calls', 'logprobs': None, 'model_name': 'gpt-3.5-turbo', 'system_fingerprint': None, 'token_usage': {'completion_tokens': 22, 'completion_tokens_details': {'accepted_prediction_tokens': 0, 'audio_tokens': 0, 'reasoning_tokens': 0, 'rejected_prediction_tokens': 0}, 'prompt_tokens': 737, 'prompt_tokens_details': {'audio_tokens': 0, 'cached_tokens': 0}, 'total_tokens': 759}}, id='run-fd572b12-3011-4d33-a292-935489736a41-0', tool_calls=[{'name': 'tavily_search_results_json', 'args': {'query': 'weather in San Francisco'}, 'id': 'call_eEP26243sWypoInP5GdTdrFk', 'type': 'tool_call'}])]}, next=('action',), config={'configurable': {'thread_id': '1', 'thread_ts': '1f01a3db-c159-62a6-8006-6a5d2a898ce0'}}, metadata={'source': 'loop', 'step': 6, 'writes': {'llm': {'messages': [AIMessage(content='', additional_kwargs={'tool_calls': [{'function': {'arguments': '{\"query\":\"weather in San Francisco\"}', 'name': 'tavily_search_results_json'}, 'id': 'call_eEP26243sWypoInP5GdTdrFk', 'type': 'function'}]}, response_metadata={'finish_reason': 'tool_calls', 'logprobs': None, 'model_name': 'gpt-3.5-turbo', 'system_fingerprint': None, 'token_usage': {'completion_tokens': 22, 'completion_tokens_details': {'accepted_prediction_tokens': 0, 'audio_tokens': 0, 'reasoning_tokens': 0, 'rejected_prediction_tokens': 0}, 'prompt_tokens': 737, 'prompt_tokens_details': {'audio_tokens': 0, 'cached_tokens': 0}, 'total_tokens': 759}}, id='run-fd572b12-3011-4d33-a292-935489736a41-0', tool_calls=[{'name': 'tavily_search_results_json', 'args': {'query': 'weather in San Francisco'}, 'id': 'call_eEP26243sWypoInP5GdTdrFk', 'type': 'tool_call'}])]}}}, created_at='2025-04-15T21:08:09.934286+00:00', parent_config={'configurable': {'thread_id': '1', 'thread_ts': '1f01a3db-ba6b-67da-8005-9a76ac0040d5'}})"
      ]
     },
     "execution_count": 41,
     "metadata": {},
     "output_type": "execute_result"
    }
   ],
   "source": [
    "abot.graph.get_state(thread)"
   ]
  },
  {
   "cell_type": "code",
   "execution_count": 42,
   "id": "cfa5a378-bbdc-46ad-8109-455b69887418",
   "metadata": {},
   "outputs": [
    {
     "data": {
      "text/plain": [
       "('action',)"
      ]
     },
     "execution_count": 42,
     "metadata": {},
     "output_type": "execute_result"
    }
   ],
   "source": [
    "abot.graph.get_state(thread).next"
   ]
  },
  {
   "cell_type": "markdown",
   "id": "0356eb75-d85c-453c-90c4-b1595acaf816",
   "metadata": {},
   "source": [
    "### continue after interrupt"
   ]
  },
  {
   "cell_type": "code",
   "execution_count": 43,
   "id": "980307f3-3e82-4121-bcca-170a561db3cc",
   "metadata": {},
   "outputs": [
    {
     "name": "stdout",
     "output_type": "stream",
     "text": [
      "Calling: {'name': 'tavily_search_results_json', 'args': {'query': 'weather in San Francisco'}, 'id': 'call_eEP26243sWypoInP5GdTdrFk', 'type': 'tool_call'}\n",
      "Back to the model!\n",
      "{'messages': [ToolMessage(content='[{\\'url\\': \\'https://www.weatherapi.com/\\', \\'content\\': \"{\\'location\\': {\\'name\\': \\'San Francisco\\', \\'region\\': \\'California\\', \\'country\\': \\'United States of America\\', \\'lat\\': 37.775, \\'lon\\': -122.4183, \\'tz_id\\': \\'America/Los_Angeles\\', \\'localtime_epoch\\': 1744747833, \\'localtime\\': \\'2025-04-15 13:10\\'}, \\'current\\': {\\'last_updated_epoch\\': 1744747200, \\'last_updated\\': \\'2025-04-15 13:00\\', \\'temp_c\\': 14.2, \\'temp_f\\': 57.6, \\'is_day\\': 1, \\'condition\\': {\\'text\\': \\'Overcast\\', \\'icon\\': \\'//cdn.weatherapi.com/weather/64x64/day/122.png\\', \\'code\\': 1009}, \\'wind_mph\\': 11.6, \\'wind_kph\\': 18.7, \\'wind_degree\\': 242, \\'wind_dir\\': \\'WSW\\', \\'pressure_mb\\': 1018.0, \\'pressure_in\\': 30.05, \\'precip_mm\\': 0.0, \\'precip_in\\': 0.0, \\'humidity\\': 82, \\'cloud\\': 100, \\'feelslike_c\\': 12.8, \\'feelslike_f\\': 55.0, \\'windchill_c\\': 10.4, \\'windchill_f\\': 50.8, \\'heatindex_c\\': 12.1, \\'heatindex_f\\': 53.9, \\'dewpoint_c\\': 9.4, \\'dewpoint_f\\': 48.9, \\'vis_km\\': 11.0, \\'vis_miles\\': 6.0, \\'uv\\': 4.7, \\'gust_mph\\': 13.4, \\'gust_kph\\': 21.6}}\"}, {\\'url\\': \\'https://weathershogun.com/weather/usa/ca/san-francisco/480/april/2025-04-15\\', \\'content\\': \\'San Francisco, California Weather: Tuesday, April 15, 2025. Cloudy weather, overcast skies with clouds. Day 63°. Night 50°.\\'}]', name='tavily_search_results_json', id='7eb8b784-7f07-4e56-9b47-af9f503467fb', tool_call_id='call_eEP26243sWypoInP5GdTdrFk')]}\n",
      "{'messages': [HumanMessage(content='Whats the weather in SF?', id='da9ad68b-8a55-4ea2-96a0-e39fb57b18ae'), AIMessage(content='', additional_kwargs={'tool_calls': [{'function': {'arguments': '{\"query\":\"weather in San Francisco\"}', 'name': 'tavily_search_results_json'}, 'id': 'call_THDV22POdGZ93y0x6LqDlRMr', 'type': 'function'}]}, response_metadata={'finish_reason': 'tool_calls', 'logprobs': None, 'model_name': 'gpt-3.5-turbo', 'system_fingerprint': None, 'token_usage': {'completion_tokens': 22, 'completion_tokens_details': {'accepted_prediction_tokens': 0, 'audio_tokens': 0, 'reasoning_tokens': 0, 'rejected_prediction_tokens': 0}, 'prompt_tokens': 152, 'prompt_tokens_details': {'audio_tokens': 0, 'cached_tokens': 0}, 'total_tokens': 174}}, id='run-4c7538ff-c8ac-435d-8ade-b3d20d0ad05f-0', tool_calls=[{'name': 'tavily_search_results_json', 'args': {'query': 'weather in San Francisco'}, 'id': 'call_THDV22POdGZ93y0x6LqDlRMr', 'type': 'tool_call'}]), ToolMessage(content='[{\\'url\\': \\'https://www.weatherapi.com/\\', \\'content\\': \"{\\'location\\': {\\'name\\': \\'San Francisco\\', \\'region\\': \\'California\\', \\'country\\': \\'United States of America\\', \\'lat\\': 37.775, \\'lon\\': -122.4183, \\'tz_id\\': \\'America/Los_Angeles\\', \\'localtime_epoch\\': 1744747833, \\'localtime\\': \\'2025-04-15 13:10\\'}, \\'current\\': {\\'last_updated_epoch\\': 1744747200, \\'last_updated\\': \\'2025-04-15 13:00\\', \\'temp_c\\': 14.2, \\'temp_f\\': 57.6, \\'is_day\\': 1, \\'condition\\': {\\'text\\': \\'Overcast\\', \\'icon\\': \\'//cdn.weatherapi.com/weather/64x64/day/122.png\\', \\'code\\': 1009}, \\'wind_mph\\': 11.6, \\'wind_kph\\': 18.7, \\'wind_degree\\': 242, \\'wind_dir\\': \\'WSW\\', \\'pressure_mb\\': 1018.0, \\'pressure_in\\': 30.05, \\'precip_mm\\': 0.0, \\'precip_in\\': 0.0, \\'humidity\\': 82, \\'cloud\\': 100, \\'feelslike_c\\': 12.8, \\'feelslike_f\\': 55.0, \\'windchill_c\\': 10.4, \\'windchill_f\\': 50.8, \\'heatindex_c\\': 12.1, \\'heatindex_f\\': 53.9, \\'dewpoint_c\\': 9.4, \\'dewpoint_f\\': 48.9, \\'vis_km\\': 11.0, \\'vis_miles\\': 6.0, \\'uv\\': 4.7, \\'gust_mph\\': 13.4, \\'gust_kph\\': 21.6}}\"}, {\\'url\\': \\'https://weathershogun.com/weather/usa/ca/san-francisco/480/april/2025-04-15\\', \\'content\\': \\'San Francisco, California Weather: Tuesday, April 15, 2025. Cloudy weather, overcast skies with clouds. Day 63°. Night 50°.\\'}]', name='tavily_search_results_json', id='197e9ecf-9bb0-4b81-8144-c7b8b8b4a4ea', tool_call_id='call_THDV22POdGZ93y0x6LqDlRMr'), AIMessage(content='The current weather in San Francisco is overcast with a temperature of 57.6°F (14.2°C). The wind speed is 11.6 mph from the WSW direction. The humidity is at 82%, and the visibility is 6.0 miles.', response_metadata={'finish_reason': 'stop', 'logprobs': None, 'model_name': 'gpt-3.5-turbo', 'system_fingerprint': None, 'token_usage': {'completion_tokens': 58, 'completion_tokens_details': {'accepted_prediction_tokens': 0, 'audio_tokens': 0, 'reasoning_tokens': 0, 'rejected_prediction_tokens': 0}, 'prompt_tokens': 667, 'prompt_tokens_details': {'audio_tokens': 0, 'cached_tokens': 0}, 'total_tokens': 725}}, id='run-c13175e5-0de1-4505-a953-ad42da26cf06-0'), HumanMessage(content='Whats the weather in SF?', id='2f166fa0-70c9-4e4e-a06a-92c70b4742f1'), AIMessage(content='', additional_kwargs={'tool_calls': [{'function': {'arguments': '{\"query\":\"weather in San Francisco\"}', 'name': 'tavily_search_results_json'}, 'id': 'call_eEP26243sWypoInP5GdTdrFk', 'type': 'function'}]}, response_metadata={'finish_reason': 'tool_calls', 'logprobs': None, 'model_name': 'gpt-3.5-turbo', 'system_fingerprint': None, 'token_usage': {'completion_tokens': 22, 'completion_tokens_details': {'accepted_prediction_tokens': 0, 'audio_tokens': 0, 'reasoning_tokens': 0, 'rejected_prediction_tokens': 0}, 'prompt_tokens': 737, 'prompt_tokens_details': {'audio_tokens': 0, 'cached_tokens': 0}, 'total_tokens': 759}}, id='run-fd572b12-3011-4d33-a292-935489736a41-0', tool_calls=[{'name': 'tavily_search_results_json', 'args': {'query': 'weather in San Francisco'}, 'id': 'call_eEP26243sWypoInP5GdTdrFk', 'type': 'tool_call'}]), ToolMessage(content='[{\\'url\\': \\'https://www.weatherapi.com/\\', \\'content\\': \"{\\'location\\': {\\'name\\': \\'San Francisco\\', \\'region\\': \\'California\\', \\'country\\': \\'United States of America\\', \\'lat\\': 37.775, \\'lon\\': -122.4183, \\'tz_id\\': \\'America/Los_Angeles\\', \\'localtime_epoch\\': 1744747833, \\'localtime\\': \\'2025-04-15 13:10\\'}, \\'current\\': {\\'last_updated_epoch\\': 1744747200, \\'last_updated\\': \\'2025-04-15 13:00\\', \\'temp_c\\': 14.2, \\'temp_f\\': 57.6, \\'is_day\\': 1, \\'condition\\': {\\'text\\': \\'Overcast\\', \\'icon\\': \\'//cdn.weatherapi.com/weather/64x64/day/122.png\\', \\'code\\': 1009}, \\'wind_mph\\': 11.6, \\'wind_kph\\': 18.7, \\'wind_degree\\': 242, \\'wind_dir\\': \\'WSW\\', \\'pressure_mb\\': 1018.0, \\'pressure_in\\': 30.05, \\'precip_mm\\': 0.0, \\'precip_in\\': 0.0, \\'humidity\\': 82, \\'cloud\\': 100, \\'feelslike_c\\': 12.8, \\'feelslike_f\\': 55.0, \\'windchill_c\\': 10.4, \\'windchill_f\\': 50.8, \\'heatindex_c\\': 12.1, \\'heatindex_f\\': 53.9, \\'dewpoint_c\\': 9.4, \\'dewpoint_f\\': 48.9, \\'vis_km\\': 11.0, \\'vis_miles\\': 6.0, \\'uv\\': 4.7, \\'gust_mph\\': 13.4, \\'gust_kph\\': 21.6}}\"}, {\\'url\\': \\'https://weathershogun.com/weather/usa/ca/san-francisco/480/april/2025-04-15\\', \\'content\\': \\'San Francisco, California Weather: Tuesday, April 15, 2025. Cloudy weather, overcast skies with clouds. Day 63°. Night 50°.\\'}]', name='tavily_search_results_json', id='7eb8b784-7f07-4e56-9b47-af9f503467fb', tool_call_id='call_eEP26243sWypoInP5GdTdrFk'), AIMessage(content='The current weather in San Francisco is overcast with a temperature of 57.6°F (14.2°C). The wind speed is 11.6 mph from the WSW direction. The humidity is at 82%, and the visibility is 6.0 miles.', response_metadata={'token_usage': {'completion_tokens': 58, 'prompt_tokens': 1252, 'total_tokens': 1310, 'completion_tokens_details': {'accepted_prediction_tokens': 0, 'audio_tokens': 0, 'reasoning_tokens': 0, 'rejected_prediction_tokens': 0}, 'prompt_tokens_details': {'audio_tokens': 0, 'cached_tokens': 0}}, 'model_name': 'gpt-3.5-turbo', 'system_fingerprint': None, 'finish_reason': 'stop', 'logprobs': None}, id='run-5349d78d-fc3f-4451-8a55-b527978b60b5-0')]}\n",
      "{'messages': [AIMessage(content='The current weather in San Francisco is overcast with a temperature of 57.6°F (14.2°C). The wind speed is 11.6 mph from the WSW direction. The humidity is at 82%, and the visibility is 6.0 miles.', response_metadata={'token_usage': {'completion_tokens': 58, 'prompt_tokens': 1252, 'total_tokens': 1310, 'completion_tokens_details': {'accepted_prediction_tokens': 0, 'audio_tokens': 0, 'reasoning_tokens': 0, 'rejected_prediction_tokens': 0}, 'prompt_tokens_details': {'audio_tokens': 0, 'cached_tokens': 0}}, 'model_name': 'gpt-3.5-turbo', 'system_fingerprint': None, 'finish_reason': 'stop', 'logprobs': None}, id='run-5349d78d-fc3f-4451-8a55-b527978b60b5-0')]}\n"
     ]
    }
   ],
   "source": [
    "for event in abot.graph.stream(None, thread):\n",
    "    for v in event.values():\n",
    "        print(v)"
   ]
  },
  {
   "cell_type": "code",
   "execution_count": 44,
   "id": "6624d8c3-b3f1-47c2-be31-0d4983970603",
   "metadata": {},
   "outputs": [
    {
     "data": {
      "text/plain": [
       "StateSnapshot(values={'messages': [HumanMessage(content='Whats the weather in SF?', id='da9ad68b-8a55-4ea2-96a0-e39fb57b18ae'), AIMessage(content='', additional_kwargs={'tool_calls': [{'function': {'arguments': '{\"query\":\"weather in San Francisco\"}', 'name': 'tavily_search_results_json'}, 'id': 'call_THDV22POdGZ93y0x6LqDlRMr', 'type': 'function'}]}, response_metadata={'finish_reason': 'tool_calls', 'logprobs': None, 'model_name': 'gpt-3.5-turbo', 'system_fingerprint': None, 'token_usage': {'completion_tokens': 22, 'completion_tokens_details': {'accepted_prediction_tokens': 0, 'audio_tokens': 0, 'reasoning_tokens': 0, 'rejected_prediction_tokens': 0}, 'prompt_tokens': 152, 'prompt_tokens_details': {'audio_tokens': 0, 'cached_tokens': 0}, 'total_tokens': 174}}, id='run-4c7538ff-c8ac-435d-8ade-b3d20d0ad05f-0', tool_calls=[{'name': 'tavily_search_results_json', 'args': {'query': 'weather in San Francisco'}, 'id': 'call_THDV22POdGZ93y0x6LqDlRMr', 'type': 'tool_call'}]), ToolMessage(content='[{\\'url\\': \\'https://www.weatherapi.com/\\', \\'content\\': \"{\\'location\\': {\\'name\\': \\'San Francisco\\', \\'region\\': \\'California\\', \\'country\\': \\'United States of America\\', \\'lat\\': 37.775, \\'lon\\': -122.4183, \\'tz_id\\': \\'America/Los_Angeles\\', \\'localtime_epoch\\': 1744747833, \\'localtime\\': \\'2025-04-15 13:10\\'}, \\'current\\': {\\'last_updated_epoch\\': 1744747200, \\'last_updated\\': \\'2025-04-15 13:00\\', \\'temp_c\\': 14.2, \\'temp_f\\': 57.6, \\'is_day\\': 1, \\'condition\\': {\\'text\\': \\'Overcast\\', \\'icon\\': \\'//cdn.weatherapi.com/weather/64x64/day/122.png\\', \\'code\\': 1009}, \\'wind_mph\\': 11.6, \\'wind_kph\\': 18.7, \\'wind_degree\\': 242, \\'wind_dir\\': \\'WSW\\', \\'pressure_mb\\': 1018.0, \\'pressure_in\\': 30.05, \\'precip_mm\\': 0.0, \\'precip_in\\': 0.0, \\'humidity\\': 82, \\'cloud\\': 100, \\'feelslike_c\\': 12.8, \\'feelslike_f\\': 55.0, \\'windchill_c\\': 10.4, \\'windchill_f\\': 50.8, \\'heatindex_c\\': 12.1, \\'heatindex_f\\': 53.9, \\'dewpoint_c\\': 9.4, \\'dewpoint_f\\': 48.9, \\'vis_km\\': 11.0, \\'vis_miles\\': 6.0, \\'uv\\': 4.7, \\'gust_mph\\': 13.4, \\'gust_kph\\': 21.6}}\"}, {\\'url\\': \\'https://weathershogun.com/weather/usa/ca/san-francisco/480/april/2025-04-15\\', \\'content\\': \\'San Francisco, California Weather: Tuesday, April 15, 2025. Cloudy weather, overcast skies with clouds. Day 63°. Night 50°.\\'}]', name='tavily_search_results_json', id='197e9ecf-9bb0-4b81-8144-c7b8b8b4a4ea', tool_call_id='call_THDV22POdGZ93y0x6LqDlRMr'), AIMessage(content='The current weather in San Francisco is overcast with a temperature of 57.6°F (14.2°C). The wind speed is 11.6 mph from the WSW direction. The humidity is at 82%, and the visibility is 6.0 miles.', response_metadata={'finish_reason': 'stop', 'logprobs': None, 'model_name': 'gpt-3.5-turbo', 'system_fingerprint': None, 'token_usage': {'completion_tokens': 58, 'completion_tokens_details': {'accepted_prediction_tokens': 0, 'audio_tokens': 0, 'reasoning_tokens': 0, 'rejected_prediction_tokens': 0}, 'prompt_tokens': 667, 'prompt_tokens_details': {'audio_tokens': 0, 'cached_tokens': 0}, 'total_tokens': 725}}, id='run-c13175e5-0de1-4505-a953-ad42da26cf06-0'), HumanMessage(content='Whats the weather in SF?', id='2f166fa0-70c9-4e4e-a06a-92c70b4742f1'), AIMessage(content='', additional_kwargs={'tool_calls': [{'function': {'arguments': '{\"query\":\"weather in San Francisco\"}', 'name': 'tavily_search_results_json'}, 'id': 'call_eEP26243sWypoInP5GdTdrFk', 'type': 'function'}]}, response_metadata={'finish_reason': 'tool_calls', 'logprobs': None, 'model_name': 'gpt-3.5-turbo', 'system_fingerprint': None, 'token_usage': {'completion_tokens': 22, 'completion_tokens_details': {'accepted_prediction_tokens': 0, 'audio_tokens': 0, 'reasoning_tokens': 0, 'rejected_prediction_tokens': 0}, 'prompt_tokens': 737, 'prompt_tokens_details': {'audio_tokens': 0, 'cached_tokens': 0}, 'total_tokens': 759}}, id='run-fd572b12-3011-4d33-a292-935489736a41-0', tool_calls=[{'name': 'tavily_search_results_json', 'args': {'query': 'weather in San Francisco'}, 'id': 'call_eEP26243sWypoInP5GdTdrFk', 'type': 'tool_call'}]), ToolMessage(content='[{\\'url\\': \\'https://www.weatherapi.com/\\', \\'content\\': \"{\\'location\\': {\\'name\\': \\'San Francisco\\', \\'region\\': \\'California\\', \\'country\\': \\'United States of America\\', \\'lat\\': 37.775, \\'lon\\': -122.4183, \\'tz_id\\': \\'America/Los_Angeles\\', \\'localtime_epoch\\': 1744747833, \\'localtime\\': \\'2025-04-15 13:10\\'}, \\'current\\': {\\'last_updated_epoch\\': 1744747200, \\'last_updated\\': \\'2025-04-15 13:00\\', \\'temp_c\\': 14.2, \\'temp_f\\': 57.6, \\'is_day\\': 1, \\'condition\\': {\\'text\\': \\'Overcast\\', \\'icon\\': \\'//cdn.weatherapi.com/weather/64x64/day/122.png\\', \\'code\\': 1009}, \\'wind_mph\\': 11.6, \\'wind_kph\\': 18.7, \\'wind_degree\\': 242, \\'wind_dir\\': \\'WSW\\', \\'pressure_mb\\': 1018.0, \\'pressure_in\\': 30.05, \\'precip_mm\\': 0.0, \\'precip_in\\': 0.0, \\'humidity\\': 82, \\'cloud\\': 100, \\'feelslike_c\\': 12.8, \\'feelslike_f\\': 55.0, \\'windchill_c\\': 10.4, \\'windchill_f\\': 50.8, \\'heatindex_c\\': 12.1, \\'heatindex_f\\': 53.9, \\'dewpoint_c\\': 9.4, \\'dewpoint_f\\': 48.9, \\'vis_km\\': 11.0, \\'vis_miles\\': 6.0, \\'uv\\': 4.7, \\'gust_mph\\': 13.4, \\'gust_kph\\': 21.6}}\"}, {\\'url\\': \\'https://weathershogun.com/weather/usa/ca/san-francisco/480/april/2025-04-15\\', \\'content\\': \\'San Francisco, California Weather: Tuesday, April 15, 2025. Cloudy weather, overcast skies with clouds. Day 63°. Night 50°.\\'}]', name='tavily_search_results_json', id='7eb8b784-7f07-4e56-9b47-af9f503467fb', tool_call_id='call_eEP26243sWypoInP5GdTdrFk'), AIMessage(content='The current weather in San Francisco is overcast with a temperature of 57.6°F (14.2°C). The wind speed is 11.6 mph from the WSW direction. The humidity is at 82%, and the visibility is 6.0 miles.', response_metadata={'finish_reason': 'stop', 'logprobs': None, 'model_name': 'gpt-3.5-turbo', 'system_fingerprint': None, 'token_usage': {'completion_tokens': 58, 'completion_tokens_details': {'accepted_prediction_tokens': 0, 'audio_tokens': 0, 'reasoning_tokens': 0, 'rejected_prediction_tokens': 0}, 'prompt_tokens': 1252, 'prompt_tokens_details': {'audio_tokens': 0, 'cached_tokens': 0}, 'total_tokens': 1310}}, id='run-5349d78d-fc3f-4451-8a55-b527978b60b5-0')]}, next=(), config={'configurable': {'thread_id': '1', 'thread_ts': '1f01a3dc-63a3-6603-8008-c91186ffdc67'}}, metadata={'source': 'loop', 'step': 8, 'writes': {'llm': {'messages': [AIMessage(content='The current weather in San Francisco is overcast with a temperature of 57.6°F (14.2°C). The wind speed is 11.6 mph from the WSW direction. The humidity is at 82%, and the visibility is 6.0 miles.', response_metadata={'finish_reason': 'stop', 'logprobs': None, 'model_name': 'gpt-3.5-turbo', 'system_fingerprint': None, 'token_usage': {'completion_tokens': 58, 'completion_tokens_details': {'accepted_prediction_tokens': 0, 'audio_tokens': 0, 'reasoning_tokens': 0, 'rejected_prediction_tokens': 0}, 'prompt_tokens': 1252, 'prompt_tokens_details': {'audio_tokens': 0, 'cached_tokens': 0}, 'total_tokens': 1310}}, id='run-5349d78d-fc3f-4451-8a55-b527978b60b5-0')]}}}, created_at='2025-04-15T21:08:26.951612+00:00', parent_config={'configurable': {'thread_id': '1', 'thread_ts': '1f01a3dc-5843-6937-8007-246f221d3fa9'}})"
      ]
     },
     "execution_count": 44,
     "metadata": {},
     "output_type": "execute_result"
    }
   ],
   "source": [
    "abot.graph.get_state(thread)"
   ]
  },
  {
   "cell_type": "code",
   "execution_count": 14,
   "id": "1dc54f61-4d78-44f6-91e2-ab70f41c40c7",
   "metadata": {},
   "outputs": [
    {
     "data": {
      "text/plain": [
       "()"
      ]
     },
     "execution_count": 14,
     "metadata": {},
     "output_type": "execute_result"
    }
   ],
   "source": [
    "abot.graph.get_state(thread).next"
   ]
  },
  {
   "cell_type": "code",
   "execution_count": 45,
   "id": "573e748c-c76a-4367-8aa8-4febfc520045",
   "metadata": {},
   "outputs": [
    {
     "name": "stdout",
     "output_type": "stream",
     "text": [
      "{'messages': [HumanMessage(content='Whats the weather in LA?', id='3a46784f-4bc0-48b7-8132-59a56c341842'), AIMessage(content='', additional_kwargs={'tool_calls': [{'function': {'arguments': '{\"query\":\"weather in Los Angeles\"}', 'name': 'tavily_search_results_json'}, 'id': 'call_wHGVFSz8cSYJ6uZH79GUs1a4', 'type': 'function'}]}, response_metadata={'finish_reason': 'tool_calls', 'logprobs': None, 'model_name': 'gpt-3.5-turbo', 'system_fingerprint': None, 'token_usage': {'completion_tokens': 22, 'completion_tokens_details': {'accepted_prediction_tokens': 0, 'audio_tokens': 0, 'reasoning_tokens': 0, 'rejected_prediction_tokens': 0}, 'prompt_tokens': 152, 'prompt_tokens_details': {'audio_tokens': 0, 'cached_tokens': 0}, 'total_tokens': 174}}, id='run-eaeb4c99-8e95-431e-93d2-8a40b9d1e13e-0', tool_calls=[{'name': 'tavily_search_results_json', 'args': {'query': 'weather in Los Angeles'}, 'id': 'call_wHGVFSz8cSYJ6uZH79GUs1a4', 'type': 'tool_call'}]), ToolMessage(content='[{\\'url\\': \\'https://weathershogun.com/weather/usa/ca/los-angeles/451/april/2025-04-15\\', \\'content\\': \\'Los Angeles, California Weather: Tuesday, April 15, 2025. Cloudy weather, overcast skies with clouds. Day 72°. Night 55°. Precipitation 0 %.\\'}, {\\'url\\': \\'https://www.weatherapi.com/\\', \\'content\\': \"{\\'location\\': {\\'name\\': \\'Los Angeles\\', \\'region\\': \\'California\\', \\'country\\': \\'United States of America\\', \\'lat\\': 34.0522, \\'lon\\': -118.2428, \\'tz_id\\': \\'America/Los_Angeles\\', \\'localtime_epoch\\': 1744748575, \\'localtime\\': \\'2025-04-15 13:22\\'}, \\'current\\': {\\'last_updated_epoch\\': 1744748100, \\'last_updated\\': \\'2025-04-15 13:15\\', \\'temp_c\\': 16.7, \\'temp_f\\': 62.1, \\'is_day\\': 1, \\'condition\\': {\\'text\\': \\'Partly cloudy\\', \\'icon\\': \\'//cdn.weatherapi.com/weather/64x64/day/116.png\\', \\'code\\': 1003}, \\'wind_mph\\': 9.6, \\'wind_kph\\': 15.5, \\'wind_degree\\': 218, \\'wind_dir\\': \\'SW\\', \\'pressure_mb\\': 1019.0, \\'pressure_in\\': 30.08, \\'precip_mm\\': 0.0, \\'precip_in\\': 0.0, \\'humidity\\': 52, \\'cloud\\': 25, \\'feelslike_c\\': 16.7, \\'feelslike_f\\': 62.1, \\'windchill_c\\': 17.2, \\'windchill_f\\': 62.9, \\'heatindex_c\\': 17.2, \\'heatindex_f\\': 62.9, \\'dewpoint_c\\': 9.0, \\'dewpoint_f\\': 48.2, \\'vis_km\\': 16.0, \\'vis_miles\\': 9.0, \\'uv\\': 7.9, \\'gust_mph\\': 11.1, \\'gust_kph\\': 17.8}}\"}]', name='tavily_search_results_json', id='d9038503-88db-4ffd-bcd3-139f4f68a2f0', tool_call_id='call_wHGVFSz8cSYJ6uZH79GUs1a4'), AIMessage(content='The current weather in Los Angeles is partly cloudy with a temperature of 62.1°F. The wind speed is 15.5 km/h coming from the southwest direction. The humidity is at 52%, and there is no precipitation at the moment.', response_metadata={'finish_reason': 'stop', 'logprobs': None, 'model_name': 'gpt-3.5-turbo', 'system_fingerprint': None, 'token_usage': {'completion_tokens': 53, 'completion_tokens_details': {'accepted_prediction_tokens': 0, 'audio_tokens': 0, 'reasoning_tokens': 0, 'rejected_prediction_tokens': 0}, 'prompt_tokens': 676, 'prompt_tokens_details': {'audio_tokens': 0, 'cached_tokens': 0}, 'total_tokens': 729}}, id='run-65220a26-0fba-45f1-91a1-370e0a9c2d14-0'), HumanMessage(content='Whats the weather in LA?', id='67d6b153-6539-41d9-9a13-302aabdbc1b6'), AIMessage(content='', additional_kwargs={'tool_calls': [{'id': 'call_wmFVy57cbBQIQgxjIwTT6ymg', 'function': {'arguments': '{\"query\":\"weather in Los Angeles\"}', 'name': 'tavily_search_results_json'}, 'type': 'function'}]}, response_metadata={'token_usage': {'completion_tokens': 22, 'prompt_tokens': 741, 'total_tokens': 763, 'completion_tokens_details': {'accepted_prediction_tokens': 0, 'audio_tokens': 0, 'reasoning_tokens': 0, 'rejected_prediction_tokens': 0}, 'prompt_tokens_details': {'audio_tokens': 0, 'cached_tokens': 0}}, 'model_name': 'gpt-3.5-turbo', 'system_fingerprint': None, 'finish_reason': 'tool_calls', 'logprobs': None}, id='run-757abaec-cbf0-4ad4-ac17-ed024120b185-0', tool_calls=[{'name': 'tavily_search_results_json', 'args': {'query': 'weather in Los Angeles'}, 'id': 'call_wmFVy57cbBQIQgxjIwTT6ymg', 'type': 'tool_call'}])]}\n",
      "{'messages': [AIMessage(content='', additional_kwargs={'tool_calls': [{'id': 'call_wmFVy57cbBQIQgxjIwTT6ymg', 'function': {'arguments': '{\"query\":\"weather in Los Angeles\"}', 'name': 'tavily_search_results_json'}, 'type': 'function'}]}, response_metadata={'token_usage': {'completion_tokens': 22, 'prompt_tokens': 741, 'total_tokens': 763, 'completion_tokens_details': {'accepted_prediction_tokens': 0, 'audio_tokens': 0, 'reasoning_tokens': 0, 'rejected_prediction_tokens': 0}, 'prompt_tokens_details': {'audio_tokens': 0, 'cached_tokens': 0}}, 'model_name': 'gpt-3.5-turbo', 'system_fingerprint': None, 'finish_reason': 'tool_calls', 'logprobs': None}, id='run-757abaec-cbf0-4ad4-ac17-ed024120b185-0', tool_calls=[{'name': 'tavily_search_results_json', 'args': {'query': 'weather in Los Angeles'}, 'id': 'call_wmFVy57cbBQIQgxjIwTT6ymg', 'type': 'tool_call'}])]}\n"
     ]
    }
   ],
   "source": [
    "messages = [HumanMessage(\"Whats the weather in LA?\")]\n",
    "thread = {\"configurable\": {\"thread_id\": \"2\"}}\n",
    "for event in abot.graph.stream({\"messages\": messages}, thread):\n",
    "    for v in event.values():\n",
    "        print(v)"
   ]
  },
  {
   "cell_type": "code",
   "execution_count": 46,
   "id": "7b49bccb-d167-4727-b1e0-f38b6e2735b9",
   "metadata": {},
   "outputs": [
    {
     "name": "stdout",
     "output_type": "stream",
     "text": [
      "\n",
      " StateSnapshot(values={'messages': [HumanMessage(content='Whats the weather in LA?', id='3a46784f-4bc0-48b7-8132-59a56c341842'), AIMessage(content='', additional_kwargs={'tool_calls': [{'function': {'arguments': '{\"query\":\"weather in Los Angeles\"}', 'name': 'tavily_search_results_json'}, 'id': 'call_wHGVFSz8cSYJ6uZH79GUs1a4', 'type': 'function'}]}, response_metadata={'finish_reason': 'tool_calls', 'logprobs': None, 'model_name': 'gpt-3.5-turbo', 'system_fingerprint': None, 'token_usage': {'completion_tokens': 22, 'completion_tokens_details': {'accepted_prediction_tokens': 0, 'audio_tokens': 0, 'reasoning_tokens': 0, 'rejected_prediction_tokens': 0}, 'prompt_tokens': 152, 'prompt_tokens_details': {'audio_tokens': 0, 'cached_tokens': 0}, 'total_tokens': 174}}, id='run-eaeb4c99-8e95-431e-93d2-8a40b9d1e13e-0', tool_calls=[{'name': 'tavily_search_results_json', 'args': {'query': 'weather in Los Angeles'}, 'id': 'call_wHGVFSz8cSYJ6uZH79GUs1a4', 'type': 'tool_call'}]), ToolMessage(content='[{\\'url\\': \\'https://weathershogun.com/weather/usa/ca/los-angeles/451/april/2025-04-15\\', \\'content\\': \\'Los Angeles, California Weather: Tuesday, April 15, 2025. Cloudy weather, overcast skies with clouds. Day 72°. Night 55°. Precipitation 0 %.\\'}, {\\'url\\': \\'https://www.weatherapi.com/\\', \\'content\\': \"{\\'location\\': {\\'name\\': \\'Los Angeles\\', \\'region\\': \\'California\\', \\'country\\': \\'United States of America\\', \\'lat\\': 34.0522, \\'lon\\': -118.2428, \\'tz_id\\': \\'America/Los_Angeles\\', \\'localtime_epoch\\': 1744748575, \\'localtime\\': \\'2025-04-15 13:22\\'}, \\'current\\': {\\'last_updated_epoch\\': 1744748100, \\'last_updated\\': \\'2025-04-15 13:15\\', \\'temp_c\\': 16.7, \\'temp_f\\': 62.1, \\'is_day\\': 1, \\'condition\\': {\\'text\\': \\'Partly cloudy\\', \\'icon\\': \\'//cdn.weatherapi.com/weather/64x64/day/116.png\\', \\'code\\': 1003}, \\'wind_mph\\': 9.6, \\'wind_kph\\': 15.5, \\'wind_degree\\': 218, \\'wind_dir\\': \\'SW\\', \\'pressure_mb\\': 1019.0, \\'pressure_in\\': 30.08, \\'precip_mm\\': 0.0, \\'precip_in\\': 0.0, \\'humidity\\': 52, \\'cloud\\': 25, \\'feelslike_c\\': 16.7, \\'feelslike_f\\': 62.1, \\'windchill_c\\': 17.2, \\'windchill_f\\': 62.9, \\'heatindex_c\\': 17.2, \\'heatindex_f\\': 62.9, \\'dewpoint_c\\': 9.0, \\'dewpoint_f\\': 48.2, \\'vis_km\\': 16.0, \\'vis_miles\\': 9.0, \\'uv\\': 7.9, \\'gust_mph\\': 11.1, \\'gust_kph\\': 17.8}}\"}]', name='tavily_search_results_json', id='d9038503-88db-4ffd-bcd3-139f4f68a2f0', tool_call_id='call_wHGVFSz8cSYJ6uZH79GUs1a4'), AIMessage(content='The current weather in Los Angeles is partly cloudy with a temperature of 62.1°F. The wind speed is 15.5 km/h coming from the southwest direction. The humidity is at 52%, and there is no precipitation at the moment.', response_metadata={'finish_reason': 'stop', 'logprobs': None, 'model_name': 'gpt-3.5-turbo', 'system_fingerprint': None, 'token_usage': {'completion_tokens': 53, 'completion_tokens_details': {'accepted_prediction_tokens': 0, 'audio_tokens': 0, 'reasoning_tokens': 0, 'rejected_prediction_tokens': 0}, 'prompt_tokens': 676, 'prompt_tokens_details': {'audio_tokens': 0, 'cached_tokens': 0}, 'total_tokens': 729}}, id='run-65220a26-0fba-45f1-91a1-370e0a9c2d14-0'), HumanMessage(content='Whats the weather in LA?', id='67d6b153-6539-41d9-9a13-302aabdbc1b6'), AIMessage(content='', additional_kwargs={'tool_calls': [{'function': {'arguments': '{\"query\":\"weather in Los Angeles\"}', 'name': 'tavily_search_results_json'}, 'id': 'call_wmFVy57cbBQIQgxjIwTT6ymg', 'type': 'function'}]}, response_metadata={'finish_reason': 'tool_calls', 'logprobs': None, 'model_name': 'gpt-3.5-turbo', 'system_fingerprint': None, 'token_usage': {'completion_tokens': 22, 'completion_tokens_details': {'accepted_prediction_tokens': 0, 'audio_tokens': 0, 'reasoning_tokens': 0, 'rejected_prediction_tokens': 0}, 'prompt_tokens': 741, 'prompt_tokens_details': {'audio_tokens': 0, 'cached_tokens': 0}, 'total_tokens': 763}}, id='run-757abaec-cbf0-4ad4-ac17-ed024120b185-0', tool_calls=[{'name': 'tavily_search_results_json', 'args': {'query': 'weather in Los Angeles'}, 'id': 'call_wmFVy57cbBQIQgxjIwTT6ymg', 'type': 'tool_call'}])]}, next=('action',), config={'configurable': {'thread_id': '2', 'thread_ts': '1f01a3dd-14dc-65b6-8006-67e10f021aac'}}, metadata={'source': 'loop', 'step': 6, 'writes': {'llm': {'messages': [AIMessage(content='', additional_kwargs={'tool_calls': [{'function': {'arguments': '{\"query\":\"weather in Los Angeles\"}', 'name': 'tavily_search_results_json'}, 'id': 'call_wmFVy57cbBQIQgxjIwTT6ymg', 'type': 'function'}]}, response_metadata={'finish_reason': 'tool_calls', 'logprobs': None, 'model_name': 'gpt-3.5-turbo', 'system_fingerprint': None, 'token_usage': {'completion_tokens': 22, 'completion_tokens_details': {'accepted_prediction_tokens': 0, 'audio_tokens': 0, 'reasoning_tokens': 0, 'rejected_prediction_tokens': 0}, 'prompt_tokens': 741, 'prompt_tokens_details': {'audio_tokens': 0, 'cached_tokens': 0}, 'total_tokens': 763}}, id='run-757abaec-cbf0-4ad4-ac17-ed024120b185-0', tool_calls=[{'name': 'tavily_search_results_json', 'args': {'query': 'weather in Los Angeles'}, 'id': 'call_wmFVy57cbBQIQgxjIwTT6ymg', 'type': 'tool_call'}])]}}}, created_at='2025-04-15T21:08:45.534747+00:00', parent_config={'configurable': {'thread_id': '2', 'thread_ts': '1f01a3dd-0e51-657b-8005-393791c68768'}}) \n",
      "\n"
     ]
    },
    {
     "name": "stdin",
     "output_type": "stream",
     "text": [
      "proceed? y\n"
     ]
    },
    {
     "name": "stdout",
     "output_type": "stream",
     "text": [
      "Calling: {'name': 'tavily_search_results_json', 'args': {'query': 'weather in Los Angeles'}, 'id': 'call_wmFVy57cbBQIQgxjIwTT6ymg', 'type': 'tool_call'}\n",
      "Back to the model!\n",
      "{'messages': [ToolMessage(content='[{\\'url\\': \\'https://weathershogun.com/weather/usa/ca/los-angeles/451/april/2025-04-15\\', \\'content\\': \\'Los Angeles, California Weather: Tuesday, April 15, 2025. Cloudy weather, overcast skies with clouds. Day 72°. Night 55°. Precipitation 0 %.\\'}, {\\'url\\': \\'https://www.weatherapi.com/\\', \\'content\\': \"{\\'location\\': {\\'name\\': \\'Los Angeles\\', \\'region\\': \\'California\\', \\'country\\': \\'United States of America\\', \\'lat\\': 34.0522, \\'lon\\': -118.2428, \\'tz_id\\': \\'America/Los_Angeles\\', \\'localtime_epoch\\': 1744748575, \\'localtime\\': \\'2025-04-15 13:22\\'}, \\'current\\': {\\'last_updated_epoch\\': 1744748100, \\'last_updated\\': \\'2025-04-15 13:15\\', \\'temp_c\\': 16.7, \\'temp_f\\': 62.1, \\'is_day\\': 1, \\'condition\\': {\\'text\\': \\'Partly cloudy\\', \\'icon\\': \\'//cdn.weatherapi.com/weather/64x64/day/116.png\\', \\'code\\': 1003}, \\'wind_mph\\': 9.6, \\'wind_kph\\': 15.5, \\'wind_degree\\': 218, \\'wind_dir\\': \\'SW\\', \\'pressure_mb\\': 1019.0, \\'pressure_in\\': 30.08, \\'precip_mm\\': 0.0, \\'precip_in\\': 0.0, \\'humidity\\': 52, \\'cloud\\': 25, \\'feelslike_c\\': 16.7, \\'feelslike_f\\': 62.1, \\'windchill_c\\': 17.2, \\'windchill_f\\': 62.9, \\'heatindex_c\\': 17.2, \\'heatindex_f\\': 62.9, \\'dewpoint_c\\': 9.0, \\'dewpoint_f\\': 48.2, \\'vis_km\\': 16.0, \\'vis_miles\\': 9.0, \\'uv\\': 7.9, \\'gust_mph\\': 11.1, \\'gust_kph\\': 17.8}}\"}]', name='tavily_search_results_json', id='397ab76f-5b33-4c95-ad98-6de24106604d', tool_call_id='call_wmFVy57cbBQIQgxjIwTT6ymg')]}\n",
      "{'messages': [HumanMessage(content='Whats the weather in LA?', id='3a46784f-4bc0-48b7-8132-59a56c341842'), AIMessage(content='', additional_kwargs={'tool_calls': [{'function': {'arguments': '{\"query\":\"weather in Los Angeles\"}', 'name': 'tavily_search_results_json'}, 'id': 'call_wHGVFSz8cSYJ6uZH79GUs1a4', 'type': 'function'}]}, response_metadata={'finish_reason': 'tool_calls', 'logprobs': None, 'model_name': 'gpt-3.5-turbo', 'system_fingerprint': None, 'token_usage': {'completion_tokens': 22, 'completion_tokens_details': {'accepted_prediction_tokens': 0, 'audio_tokens': 0, 'reasoning_tokens': 0, 'rejected_prediction_tokens': 0}, 'prompt_tokens': 152, 'prompt_tokens_details': {'audio_tokens': 0, 'cached_tokens': 0}, 'total_tokens': 174}}, id='run-eaeb4c99-8e95-431e-93d2-8a40b9d1e13e-0', tool_calls=[{'name': 'tavily_search_results_json', 'args': {'query': 'weather in Los Angeles'}, 'id': 'call_wHGVFSz8cSYJ6uZH79GUs1a4', 'type': 'tool_call'}]), ToolMessage(content='[{\\'url\\': \\'https://weathershogun.com/weather/usa/ca/los-angeles/451/april/2025-04-15\\', \\'content\\': \\'Los Angeles, California Weather: Tuesday, April 15, 2025. Cloudy weather, overcast skies with clouds. Day 72°. Night 55°. Precipitation 0 %.\\'}, {\\'url\\': \\'https://www.weatherapi.com/\\', \\'content\\': \"{\\'location\\': {\\'name\\': \\'Los Angeles\\', \\'region\\': \\'California\\', \\'country\\': \\'United States of America\\', \\'lat\\': 34.0522, \\'lon\\': -118.2428, \\'tz_id\\': \\'America/Los_Angeles\\', \\'localtime_epoch\\': 1744748575, \\'localtime\\': \\'2025-04-15 13:22\\'}, \\'current\\': {\\'last_updated_epoch\\': 1744748100, \\'last_updated\\': \\'2025-04-15 13:15\\', \\'temp_c\\': 16.7, \\'temp_f\\': 62.1, \\'is_day\\': 1, \\'condition\\': {\\'text\\': \\'Partly cloudy\\', \\'icon\\': \\'//cdn.weatherapi.com/weather/64x64/day/116.png\\', \\'code\\': 1003}, \\'wind_mph\\': 9.6, \\'wind_kph\\': 15.5, \\'wind_degree\\': 218, \\'wind_dir\\': \\'SW\\', \\'pressure_mb\\': 1019.0, \\'pressure_in\\': 30.08, \\'precip_mm\\': 0.0, \\'precip_in\\': 0.0, \\'humidity\\': 52, \\'cloud\\': 25, \\'feelslike_c\\': 16.7, \\'feelslike_f\\': 62.1, \\'windchill_c\\': 17.2, \\'windchill_f\\': 62.9, \\'heatindex_c\\': 17.2, \\'heatindex_f\\': 62.9, \\'dewpoint_c\\': 9.0, \\'dewpoint_f\\': 48.2, \\'vis_km\\': 16.0, \\'vis_miles\\': 9.0, \\'uv\\': 7.9, \\'gust_mph\\': 11.1, \\'gust_kph\\': 17.8}}\"}]', name='tavily_search_results_json', id='d9038503-88db-4ffd-bcd3-139f4f68a2f0', tool_call_id='call_wHGVFSz8cSYJ6uZH79GUs1a4'), AIMessage(content='The current weather in Los Angeles is partly cloudy with a temperature of 62.1°F. The wind speed is 15.5 km/h coming from the southwest direction. The humidity is at 52%, and there is no precipitation at the moment.', response_metadata={'finish_reason': 'stop', 'logprobs': None, 'model_name': 'gpt-3.5-turbo', 'system_fingerprint': None, 'token_usage': {'completion_tokens': 53, 'completion_tokens_details': {'accepted_prediction_tokens': 0, 'audio_tokens': 0, 'reasoning_tokens': 0, 'rejected_prediction_tokens': 0}, 'prompt_tokens': 676, 'prompt_tokens_details': {'audio_tokens': 0, 'cached_tokens': 0}, 'total_tokens': 729}}, id='run-65220a26-0fba-45f1-91a1-370e0a9c2d14-0'), HumanMessage(content='Whats the weather in LA?', id='67d6b153-6539-41d9-9a13-302aabdbc1b6'), AIMessage(content='', additional_kwargs={'tool_calls': [{'function': {'arguments': '{\"query\":\"weather in Los Angeles\"}', 'name': 'tavily_search_results_json'}, 'id': 'call_wmFVy57cbBQIQgxjIwTT6ymg', 'type': 'function'}]}, response_metadata={'finish_reason': 'tool_calls', 'logprobs': None, 'model_name': 'gpt-3.5-turbo', 'system_fingerprint': None, 'token_usage': {'completion_tokens': 22, 'completion_tokens_details': {'accepted_prediction_tokens': 0, 'audio_tokens': 0, 'reasoning_tokens': 0, 'rejected_prediction_tokens': 0}, 'prompt_tokens': 741, 'prompt_tokens_details': {'audio_tokens': 0, 'cached_tokens': 0}, 'total_tokens': 763}}, id='run-757abaec-cbf0-4ad4-ac17-ed024120b185-0', tool_calls=[{'name': 'tavily_search_results_json', 'args': {'query': 'weather in Los Angeles'}, 'id': 'call_wmFVy57cbBQIQgxjIwTT6ymg', 'type': 'tool_call'}]), ToolMessage(content='[{\\'url\\': \\'https://weathershogun.com/weather/usa/ca/los-angeles/451/april/2025-04-15\\', \\'content\\': \\'Los Angeles, California Weather: Tuesday, April 15, 2025. Cloudy weather, overcast skies with clouds. Day 72°. Night 55°. Precipitation 0 %.\\'}, {\\'url\\': \\'https://www.weatherapi.com/\\', \\'content\\': \"{\\'location\\': {\\'name\\': \\'Los Angeles\\', \\'region\\': \\'California\\', \\'country\\': \\'United States of America\\', \\'lat\\': 34.0522, \\'lon\\': -118.2428, \\'tz_id\\': \\'America/Los_Angeles\\', \\'localtime_epoch\\': 1744748575, \\'localtime\\': \\'2025-04-15 13:22\\'}, \\'current\\': {\\'last_updated_epoch\\': 1744748100, \\'last_updated\\': \\'2025-04-15 13:15\\', \\'temp_c\\': 16.7, \\'temp_f\\': 62.1, \\'is_day\\': 1, \\'condition\\': {\\'text\\': \\'Partly cloudy\\', \\'icon\\': \\'//cdn.weatherapi.com/weather/64x64/day/116.png\\', \\'code\\': 1003}, \\'wind_mph\\': 9.6, \\'wind_kph\\': 15.5, \\'wind_degree\\': 218, \\'wind_dir\\': \\'SW\\', \\'pressure_mb\\': 1019.0, \\'pressure_in\\': 30.08, \\'precip_mm\\': 0.0, \\'precip_in\\': 0.0, \\'humidity\\': 52, \\'cloud\\': 25, \\'feelslike_c\\': 16.7, \\'feelslike_f\\': 62.1, \\'windchill_c\\': 17.2, \\'windchill_f\\': 62.9, \\'heatindex_c\\': 17.2, \\'heatindex_f\\': 62.9, \\'dewpoint_c\\': 9.0, \\'dewpoint_f\\': 48.2, \\'vis_km\\': 16.0, \\'vis_miles\\': 9.0, \\'uv\\': 7.9, \\'gust_mph\\': 11.1, \\'gust_kph\\': 17.8}}\"}]', name='tavily_search_results_json', id='397ab76f-5b33-4c95-ad98-6de24106604d', tool_call_id='call_wmFVy57cbBQIQgxjIwTT6ymg'), AIMessage(content='The current weather in Los Angeles is partly cloudy with a temperature of 62.1°F. The wind speed is 15.5 km/h coming from the southwest direction. The humidity is at 52%, and there is no precipitation at the moment.', response_metadata={'token_usage': {'completion_tokens': 53, 'prompt_tokens': 1265, 'total_tokens': 1318, 'completion_tokens_details': {'accepted_prediction_tokens': 0, 'audio_tokens': 0, 'reasoning_tokens': 0, 'rejected_prediction_tokens': 0}, 'prompt_tokens_details': {'audio_tokens': 0, 'cached_tokens': 0}}, 'model_name': 'gpt-3.5-turbo', 'system_fingerprint': None, 'finish_reason': 'stop', 'logprobs': None}, id='run-94dc4fd3-86f5-473c-a918-4be3f76af991-0')]}\n",
      "{'messages': [AIMessage(content='The current weather in Los Angeles is partly cloudy with a temperature of 62.1°F. The wind speed is 15.5 km/h coming from the southwest direction. The humidity is at 52%, and there is no precipitation at the moment.', response_metadata={'token_usage': {'completion_tokens': 53, 'prompt_tokens': 1265, 'total_tokens': 1318, 'completion_tokens_details': {'accepted_prediction_tokens': 0, 'audio_tokens': 0, 'reasoning_tokens': 0, 'rejected_prediction_tokens': 0}, 'prompt_tokens_details': {'audio_tokens': 0, 'cached_tokens': 0}}, 'model_name': 'gpt-3.5-turbo', 'system_fingerprint': None, 'finish_reason': 'stop', 'logprobs': None}, id='run-94dc4fd3-86f5-473c-a918-4be3f76af991-0')]}\n"
     ]
    }
   ],
   "source": [
    "while abot.graph.get_state(thread).next:\n",
    "    print(\"\\n\", abot.graph.get_state(thread),\"\\n\")\n",
    "    _input = input(\"proceed?\")\n",
    "    if _input != \"y\":\n",
    "        print(\"aborting\")\n",
    "        break\n",
    "    for event in abot.graph.stream(None, thread):\n",
    "        for v in event.values():\n",
    "            print(v)"
   ]
  },
  {
   "cell_type": "markdown",
   "id": "f1b9a170-da35-4896-b4d2-7845651cd9ec",
   "metadata": {},
   "source": [
    "## Modify State\n",
    "Run until the interrupt and then modify the state."
   ]
  },
  {
   "cell_type": "code",
   "execution_count": 47,
   "id": "a4290045-5c98-4ae5-aeea-a32533c28209",
   "metadata": {},
   "outputs": [
    {
     "name": "stdout",
     "output_type": "stream",
     "text": [
      "{'messages': [HumanMessage(content='Whats the weather in LA?', id='e94d5a72-a86f-4574-8753-96bab397bd89'), AIMessage(content='', additional_kwargs={'tool_calls': [{'function': {'arguments': '{\"query\":\"weather in Los Angeles\"}', 'name': 'tavily_search_results_json'}, 'id': 'call_cTJ4iPAwyIRAxWlg89YwVkX2', 'type': 'function'}]}, response_metadata={'finish_reason': 'tool_calls', 'logprobs': None, 'model_name': 'gpt-3.5-turbo', 'system_fingerprint': None, 'token_usage': {'completion_tokens': 22, 'completion_tokens_details': {'accepted_prediction_tokens': 0, 'audio_tokens': 0, 'reasoning_tokens': 0, 'rejected_prediction_tokens': 0}, 'prompt_tokens': 152, 'prompt_tokens_details': {'audio_tokens': 0, 'cached_tokens': 0}, 'total_tokens': 174}}, id='run-d411ea9b-ab92-4abb-9cfd-bac3873b103d-0', tool_calls=[{'name': 'tavily_search_results_json', 'args': {'query': 'current weather in Louisiana'}, 'id': 'call_cTJ4iPAwyIRAxWlg89YwVkX2', 'type': 'tool_call'}]), ToolMessage(content='[{\\'url\\': \\'https://www.weatherapi.com/\\', \\'content\\': \"{\\'location\\': {\\'name\\': \\'Louisiana\\', \\'region\\': \\'Missouri\\', \\'country\\': \\'USA United States of America\\', \\'lat\\': 39.4411, \\'lon\\': -91.0551, \\'tz_id\\': \\'America/Chicago\\', \\'localtime_epoch\\': 1744750826, \\'localtime\\': \\'2025-04-15 16:00\\'}, \\'current\\': {\\'last_updated_epoch\\': 1744750800, \\'last_updated\\': \\'2025-04-15 16:00\\', \\'temp_c\\': 15.3, \\'temp_f\\': 59.5, \\'is_day\\': 1, \\'condition\\': {\\'text\\': \\'Sunny\\', \\'icon\\': \\'//cdn.weatherapi.com/weather/64x64/day/113.png\\', \\'code\\': 1000}, \\'wind_mph\\': 17.0, \\'wind_kph\\': 27.4, \\'wind_degree\\': 307, \\'wind_dir\\': \\'NW\\', \\'pressure_mb\\': 1020.0, \\'pressure_in\\': 30.13, \\'precip_mm\\': 0.0, \\'precip_in\\': 0.0, \\'humidity\\': 33, \\'cloud\\': 0, \\'feelslike_c\\': 15.3, \\'feelslike_f\\': 59.5, \\'windchill_c\\': 16.3, \\'windchill_f\\': 61.4, \\'heatindex_c\\': 16.5, \\'heatindex_f\\': 61.7, \\'dewpoint_c\\': 2.8, \\'dewpoint_f\\': 37.1, \\'vis_km\\': 16.0, \\'vis_miles\\': 9.0, \\'uv\\': 3.5, \\'gust_mph\\': 21.2, \\'gust_kph\\': 34.1}}\"}, {\\'url\\': \\'https://en.climate-data.org/north-america/united-states-of-america/louisiana-943/r/april-4/\\', \\'content\\': \\'15. April | 19 °C | 66 °F | 24 °C | 75 °F | 15 °C | 58 °F | 5.8 mm | 0.2 inch.\\\\n16. April | 19 °C | 66 °F | 24 °C | 75 °F | 14 °C | 58 °F | 2.7 mm | 0.1 inch.\\\\n17. April | 19 °C | 67 °F | 24 °C | 76 °F | 15 °C | 59 °F | 2.8 mm | 0.1 inch.\\\\n18. April | 20 °C | 68 °F | 24 °C | 76 °F | 16 °C | 61 °F | 2.7 mm | 0.1 inch.\\\\n19. April | 20 °C | 68 °F | 25 °C | 77 °F | 16 °C | 61 °F | 3.7 mm | 0.1 inch.\\\\n20. April | 20 °C | 69 °F | 25 °C | 78 °F | 16 °C | 61 °F | 2.5 mm | 0.1 inch. [...] 15. April | 19 °C | 66 °F | 24 °C | 75 °F | 14 °C | 58 °F | 4.8 mm | 0.2 inch.\\\\n16. April | 19 °C | 66 °F | 24 °C | 75 °F | 14 °C | 57 °F | 2.6 mm | 0.1 inch.\\\\n17. April | 19 °C | 66 °F | 25 °C | 76 °F | 14 °C | 58 °F | 1.8 mm | 0.1 inch.\\\\n18. April | 19 °C | 67 °F | 25 °C | 76 °F | 15 °C | 59 °F | 3.5 mm | 0.1 inch.\\\\n19. April | 20 °C | 68 °F | 25 °C | 78 °F | 15 °C | 60 °F | 4.2 mm | 0.2 inch.\\\\n20. April | 20 °C | 68 °F | 26 °C | 78 °F | 16 °C | 60 °F | 1.6 mm | 0.1 inch. [...] 18.4 °C\\\\n\\\\n(65.1) °F\\\\n\\\\n21.7 °C\\\\n\\\\n(71.1) °F\\\\n\\\\n25.3 °C\\\\n\\\\n(77.5) °F\\\\n\\\\n28.9 °C\\\\n\\\\n(84) °F\\\\n\\\\n31.2 °C\\\\n\\\\n(88.2) °F\\\\n\\\\n31.8 °C\\\\n\\\\n(89.2) °F\\\\n\\\\n32.5 °C\\\\n\\\\n(90.6) °F\\\\n\\\\n30.4 °C\\\\n\\\\n(86.6) °F\\\\n\\\\n26.6 °C\\\\n\\\\n(80) °F\\\\n\\\\n21.4 °C\\\\n\\\\n(70.5) °F\\\\n\\\\n17.4 °C\\\\n\\\\n(63.3) °F\\\\n\\\\n134\\\\n\\\\n(5)\\\\n\\\\n100\\\\n\\\\n(3)\\\\n\\\\n109\\\\n\\\\n(4)\\\\n\\\\n120\\\\n\\\\n(4)\\\\n\\\\n108\\\\n\\\\n(4)\\\\n\\\\n136\\\\n\\\\n(5)\\\\n\\\\n119\\\\n\\\\n(4)\\\\n\\\\n119\\\\n\\\\n(4)\\\\n\\\\n124\\\\n\\\\n(4)\\\\n\\\\n94\\\\n\\\\n(3)\\\\n\\\\n110\\\\n\\\\n(4)\\\\n\\\\n123\\\\n\\\\n(4)\\'}]', name='tavily_search_results_json', id='d742f307-8856-4e3a-b0f1-e0e3ad412d8d', tool_call_id='call_cTJ4iPAwyIRAxWlg89YwVkX2'), AIMessage(content='I found information about the current weather in Louisiana, not Los Angeles. Would you like me to look up the weather in Los Angeles instead?', response_metadata={'finish_reason': 'stop', 'logprobs': None, 'model_name': 'gpt-3.5-turbo', 'system_fingerprint': None, 'token_usage': {'completion_tokens': 30, 'completion_tokens_details': {'accepted_prediction_tokens': 0, 'audio_tokens': 0, 'reasoning_tokens': 0, 'rejected_prediction_tokens': 0}, 'prompt_tokens': 1465, 'prompt_tokens_details': {'audio_tokens': 0, 'cached_tokens': 0}, 'total_tokens': 1495}}, id='run-3a64b6e5-2a00-426d-afd8-6ec7debb39d4-0'), HumanMessage(content='Whats the weather in LA?', id='2f55f066-c464-4a64-aa9d-07f6e46c00ab'), AIMessage(content='', additional_kwargs={'tool_calls': [{'id': 'call_S93G86H9y1cJimSCljbH4Nq1', 'function': {'arguments': '{\"query\":\"current weather in Los Angeles\"}', 'name': 'tavily_search_results_json'}, 'type': 'function'}]}, response_metadata={'token_usage': {'completion_tokens': 23, 'prompt_tokens': 1507, 'total_tokens': 1530, 'completion_tokens_details': {'accepted_prediction_tokens': 0, 'audio_tokens': 0, 'reasoning_tokens': 0, 'rejected_prediction_tokens': 0}, 'prompt_tokens_details': {'audio_tokens': 0, 'cached_tokens': 0}}, 'model_name': 'gpt-3.5-turbo', 'system_fingerprint': None, 'finish_reason': 'tool_calls', 'logprobs': None}, id='run-a25906e6-fce6-4011-9fa5-a0ea4c00bf1e-0', tool_calls=[{'name': 'tavily_search_results_json', 'args': {'query': 'current weather in Los Angeles'}, 'id': 'call_S93G86H9y1cJimSCljbH4Nq1', 'type': 'tool_call'}])]}\n",
      "{'messages': [AIMessage(content='', additional_kwargs={'tool_calls': [{'id': 'call_S93G86H9y1cJimSCljbH4Nq1', 'function': {'arguments': '{\"query\":\"current weather in Los Angeles\"}', 'name': 'tavily_search_results_json'}, 'type': 'function'}]}, response_metadata={'token_usage': {'completion_tokens': 23, 'prompt_tokens': 1507, 'total_tokens': 1530, 'completion_tokens_details': {'accepted_prediction_tokens': 0, 'audio_tokens': 0, 'reasoning_tokens': 0, 'rejected_prediction_tokens': 0}, 'prompt_tokens_details': {'audio_tokens': 0, 'cached_tokens': 0}}, 'model_name': 'gpt-3.5-turbo', 'system_fingerprint': None, 'finish_reason': 'tool_calls', 'logprobs': None}, id='run-a25906e6-fce6-4011-9fa5-a0ea4c00bf1e-0', tool_calls=[{'name': 'tavily_search_results_json', 'args': {'query': 'current weather in Los Angeles'}, 'id': 'call_S93G86H9y1cJimSCljbH4Nq1', 'type': 'tool_call'}])]}\n"
     ]
    }
   ],
   "source": [
    "messages = [HumanMessage(\"Whats the weather in LA?\")]\n",
    "thread = {\"configurable\": {\"thread_id\": \"3\"}}\n",
    "for event in abot.graph.stream({\"messages\": messages}, thread):\n",
    "    for v in event.values():\n",
    "        print(v)"
   ]
  },
  {
   "cell_type": "code",
   "execution_count": 48,
   "id": "94c8e300-b98a-417e-be50-b20fa31ba40d",
   "metadata": {},
   "outputs": [
    {
     "data": {
      "text/plain": [
       "StateSnapshot(values={'messages': [HumanMessage(content='Whats the weather in LA?', id='e94d5a72-a86f-4574-8753-96bab397bd89'), AIMessage(content='', additional_kwargs={'tool_calls': [{'function': {'arguments': '{\"query\":\"weather in Los Angeles\"}', 'name': 'tavily_search_results_json'}, 'id': 'call_cTJ4iPAwyIRAxWlg89YwVkX2', 'type': 'function'}]}, response_metadata={'finish_reason': 'tool_calls', 'logprobs': None, 'model_name': 'gpt-3.5-turbo', 'system_fingerprint': None, 'token_usage': {'completion_tokens': 22, 'completion_tokens_details': {'accepted_prediction_tokens': 0, 'audio_tokens': 0, 'reasoning_tokens': 0, 'rejected_prediction_tokens': 0}, 'prompt_tokens': 152, 'prompt_tokens_details': {'audio_tokens': 0, 'cached_tokens': 0}, 'total_tokens': 174}}, id='run-d411ea9b-ab92-4abb-9cfd-bac3873b103d-0', tool_calls=[{'name': 'tavily_search_results_json', 'args': {'query': 'current weather in Louisiana'}, 'id': 'call_cTJ4iPAwyIRAxWlg89YwVkX2', 'type': 'tool_call'}]), ToolMessage(content='[{\\'url\\': \\'https://www.weatherapi.com/\\', \\'content\\': \"{\\'location\\': {\\'name\\': \\'Louisiana\\', \\'region\\': \\'Missouri\\', \\'country\\': \\'USA United States of America\\', \\'lat\\': 39.4411, \\'lon\\': -91.0551, \\'tz_id\\': \\'America/Chicago\\', \\'localtime_epoch\\': 1744750826, \\'localtime\\': \\'2025-04-15 16:00\\'}, \\'current\\': {\\'last_updated_epoch\\': 1744750800, \\'last_updated\\': \\'2025-04-15 16:00\\', \\'temp_c\\': 15.3, \\'temp_f\\': 59.5, \\'is_day\\': 1, \\'condition\\': {\\'text\\': \\'Sunny\\', \\'icon\\': \\'//cdn.weatherapi.com/weather/64x64/day/113.png\\', \\'code\\': 1000}, \\'wind_mph\\': 17.0, \\'wind_kph\\': 27.4, \\'wind_degree\\': 307, \\'wind_dir\\': \\'NW\\', \\'pressure_mb\\': 1020.0, \\'pressure_in\\': 30.13, \\'precip_mm\\': 0.0, \\'precip_in\\': 0.0, \\'humidity\\': 33, \\'cloud\\': 0, \\'feelslike_c\\': 15.3, \\'feelslike_f\\': 59.5, \\'windchill_c\\': 16.3, \\'windchill_f\\': 61.4, \\'heatindex_c\\': 16.5, \\'heatindex_f\\': 61.7, \\'dewpoint_c\\': 2.8, \\'dewpoint_f\\': 37.1, \\'vis_km\\': 16.0, \\'vis_miles\\': 9.0, \\'uv\\': 3.5, \\'gust_mph\\': 21.2, \\'gust_kph\\': 34.1}}\"}, {\\'url\\': \\'https://en.climate-data.org/north-america/united-states-of-america/louisiana-943/r/april-4/\\', \\'content\\': \\'15. April | 19 °C | 66 °F | 24 °C | 75 °F | 15 °C | 58 °F | 5.8 mm | 0.2 inch.\\\\n16. April | 19 °C | 66 °F | 24 °C | 75 °F | 14 °C | 58 °F | 2.7 mm | 0.1 inch.\\\\n17. April | 19 °C | 67 °F | 24 °C | 76 °F | 15 °C | 59 °F | 2.8 mm | 0.1 inch.\\\\n18. April | 20 °C | 68 °F | 24 °C | 76 °F | 16 °C | 61 °F | 2.7 mm | 0.1 inch.\\\\n19. April | 20 °C | 68 °F | 25 °C | 77 °F | 16 °C | 61 °F | 3.7 mm | 0.1 inch.\\\\n20. April | 20 °C | 69 °F | 25 °C | 78 °F | 16 °C | 61 °F | 2.5 mm | 0.1 inch. [...] 15. April | 19 °C | 66 °F | 24 °C | 75 °F | 14 °C | 58 °F | 4.8 mm | 0.2 inch.\\\\n16. April | 19 °C | 66 °F | 24 °C | 75 °F | 14 °C | 57 °F | 2.6 mm | 0.1 inch.\\\\n17. April | 19 °C | 66 °F | 25 °C | 76 °F | 14 °C | 58 °F | 1.8 mm | 0.1 inch.\\\\n18. April | 19 °C | 67 °F | 25 °C | 76 °F | 15 °C | 59 °F | 3.5 mm | 0.1 inch.\\\\n19. April | 20 °C | 68 °F | 25 °C | 78 °F | 15 °C | 60 °F | 4.2 mm | 0.2 inch.\\\\n20. April | 20 °C | 68 °F | 26 °C | 78 °F | 16 °C | 60 °F | 1.6 mm | 0.1 inch. [...] 18.4 °C\\\\n\\\\n(65.1) °F\\\\n\\\\n21.7 °C\\\\n\\\\n(71.1) °F\\\\n\\\\n25.3 °C\\\\n\\\\n(77.5) °F\\\\n\\\\n28.9 °C\\\\n\\\\n(84) °F\\\\n\\\\n31.2 °C\\\\n\\\\n(88.2) °F\\\\n\\\\n31.8 °C\\\\n\\\\n(89.2) °F\\\\n\\\\n32.5 °C\\\\n\\\\n(90.6) °F\\\\n\\\\n30.4 °C\\\\n\\\\n(86.6) °F\\\\n\\\\n26.6 °C\\\\n\\\\n(80) °F\\\\n\\\\n21.4 °C\\\\n\\\\n(70.5) °F\\\\n\\\\n17.4 °C\\\\n\\\\n(63.3) °F\\\\n\\\\n134\\\\n\\\\n(5)\\\\n\\\\n100\\\\n\\\\n(3)\\\\n\\\\n109\\\\n\\\\n(4)\\\\n\\\\n120\\\\n\\\\n(4)\\\\n\\\\n108\\\\n\\\\n(4)\\\\n\\\\n136\\\\n\\\\n(5)\\\\n\\\\n119\\\\n\\\\n(4)\\\\n\\\\n119\\\\n\\\\n(4)\\\\n\\\\n124\\\\n\\\\n(4)\\\\n\\\\n94\\\\n\\\\n(3)\\\\n\\\\n110\\\\n\\\\n(4)\\\\n\\\\n123\\\\n\\\\n(4)\\'}]', name='tavily_search_results_json', id='d742f307-8856-4e3a-b0f1-e0e3ad412d8d', tool_call_id='call_cTJ4iPAwyIRAxWlg89YwVkX2'), AIMessage(content='I found information about the current weather in Louisiana, not Los Angeles. Would you like me to look up the weather in Los Angeles instead?', response_metadata={'finish_reason': 'stop', 'logprobs': None, 'model_name': 'gpt-3.5-turbo', 'system_fingerprint': None, 'token_usage': {'completion_tokens': 30, 'completion_tokens_details': {'accepted_prediction_tokens': 0, 'audio_tokens': 0, 'reasoning_tokens': 0, 'rejected_prediction_tokens': 0}, 'prompt_tokens': 1465, 'prompt_tokens_details': {'audio_tokens': 0, 'cached_tokens': 0}, 'total_tokens': 1495}}, id='run-3a64b6e5-2a00-426d-afd8-6ec7debb39d4-0'), HumanMessage(content='Whats the weather in LA?', id='2f55f066-c464-4a64-aa9d-07f6e46c00ab'), AIMessage(content='', additional_kwargs={'tool_calls': [{'function': {'arguments': '{\"query\":\"current weather in Los Angeles\"}', 'name': 'tavily_search_results_json'}, 'id': 'call_S93G86H9y1cJimSCljbH4Nq1', 'type': 'function'}]}, response_metadata={'finish_reason': 'tool_calls', 'logprobs': None, 'model_name': 'gpt-3.5-turbo', 'system_fingerprint': None, 'token_usage': {'completion_tokens': 23, 'completion_tokens_details': {'accepted_prediction_tokens': 0, 'audio_tokens': 0, 'reasoning_tokens': 0, 'rejected_prediction_tokens': 0}, 'prompt_tokens': 1507, 'prompt_tokens_details': {'audio_tokens': 0, 'cached_tokens': 0}, 'total_tokens': 1530}}, id='run-a25906e6-fce6-4011-9fa5-a0ea4c00bf1e-0', tool_calls=[{'name': 'tavily_search_results_json', 'args': {'query': 'current weather in Los Angeles'}, 'id': 'call_S93G86H9y1cJimSCljbH4Nq1', 'type': 'tool_call'}])]}, next=('action',), config={'configurable': {'thread_id': '3', 'thread_ts': '1f01a3dd-fb45-64b5-8008-46991bb99414'}}, metadata={'source': 'loop', 'step': 8, 'writes': {'llm': {'messages': [AIMessage(content='', additional_kwargs={'tool_calls': [{'function': {'arguments': '{\"query\":\"current weather in Los Angeles\"}', 'name': 'tavily_search_results_json'}, 'id': 'call_S93G86H9y1cJimSCljbH4Nq1', 'type': 'function'}]}, response_metadata={'finish_reason': 'tool_calls', 'logprobs': None, 'model_name': 'gpt-3.5-turbo', 'system_fingerprint': None, 'token_usage': {'completion_tokens': 23, 'completion_tokens_details': {'accepted_prediction_tokens': 0, 'audio_tokens': 0, 'reasoning_tokens': 0, 'rejected_prediction_tokens': 0}, 'prompt_tokens': 1507, 'prompt_tokens_details': {'audio_tokens': 0, 'cached_tokens': 0}, 'total_tokens': 1530}}, id='run-a25906e6-fce6-4011-9fa5-a0ea4c00bf1e-0', tool_calls=[{'name': 'tavily_search_results_json', 'args': {'query': 'current weather in Los Angeles'}, 'id': 'call_S93G86H9y1cJimSCljbH4Nq1', 'type': 'tool_call'}])]}}}, created_at='2025-04-15T21:09:09.694979+00:00', parent_config={'configurable': {'thread_id': '3', 'thread_ts': '1f01a3dd-f59c-6d86-8007-67a5ba958260'}})"
      ]
     },
     "execution_count": 48,
     "metadata": {},
     "output_type": "execute_result"
    }
   ],
   "source": [
    "abot.graph.get_state(thread)"
   ]
  },
  {
   "cell_type": "code",
   "execution_count": 19,
   "id": "3e15e55c-29ef-4fab-9427-884eebdda634",
   "metadata": {},
   "outputs": [
    {
     "data": {
      "text/plain": [
       "StateSnapshot(values={'messages': [HumanMessage(content='Whats the weather in LA?', id='e94d5a72-a86f-4574-8753-96bab397bd89'), AIMessage(content='', additional_kwargs={'tool_calls': [{'function': {'arguments': '{\"query\":\"weather in Los Angeles\"}', 'name': 'tavily_search_results_json'}, 'id': 'call_cTJ4iPAwyIRAxWlg89YwVkX2', 'type': 'function'}]}, response_metadata={'finish_reason': 'tool_calls', 'logprobs': None, 'model_name': 'gpt-3.5-turbo', 'system_fingerprint': None, 'token_usage': {'completion_tokens': 22, 'completion_tokens_details': {'accepted_prediction_tokens': 0, 'audio_tokens': 0, 'reasoning_tokens': 0, 'rejected_prediction_tokens': 0}, 'prompt_tokens': 152, 'prompt_tokens_details': {'audio_tokens': 0, 'cached_tokens': 0}, 'total_tokens': 174}}, id='run-d411ea9b-ab92-4abb-9cfd-bac3873b103d-0', tool_calls=[{'name': 'tavily_search_results_json', 'args': {'query': 'weather in Los Angeles'}, 'id': 'call_cTJ4iPAwyIRAxWlg89YwVkX2', 'type': 'tool_call'}])]}, next=('action',), config={'configurable': {'thread_id': '3', 'thread_ts': '1f01a394-3263-6167-8001-42a9c71d9aee'}}, metadata={'source': 'loop', 'step': 1, 'writes': {'llm': {'messages': [AIMessage(content='', additional_kwargs={'tool_calls': [{'function': {'arguments': '{\"query\":\"weather in Los Angeles\"}', 'name': 'tavily_search_results_json'}, 'id': 'call_cTJ4iPAwyIRAxWlg89YwVkX2', 'type': 'function'}]}, response_metadata={'finish_reason': 'tool_calls', 'logprobs': None, 'model_name': 'gpt-3.5-turbo', 'system_fingerprint': None, 'token_usage': {'completion_tokens': 22, 'completion_tokens_details': {'accepted_prediction_tokens': 0, 'audio_tokens': 0, 'reasoning_tokens': 0, 'rejected_prediction_tokens': 0}, 'prompt_tokens': 152, 'prompt_tokens_details': {'audio_tokens': 0, 'cached_tokens': 0}, 'total_tokens': 174}}, id='run-d411ea9b-ab92-4abb-9cfd-bac3873b103d-0', tool_calls=[{'name': 'tavily_search_results_json', 'args': {'query': 'weather in Los Angeles'}, 'id': 'call_cTJ4iPAwyIRAxWlg89YwVkX2', 'type': 'tool_call'}])]}}}, created_at='2025-04-15T20:36:09.051976+00:00', parent_config={'configurable': {'thread_id': '3', 'thread_ts': '1f01a394-2a2c-6021-8000-916bbf910bb2'}})"
      ]
     },
     "execution_count": 19,
     "metadata": {},
     "output_type": "execute_result"
    }
   ],
   "source": [
    "abot.graph.get_state(thread)"
   ]
  },
  {
   "cell_type": "code",
   "execution_count": 49,
   "id": "e4db327f-1c56-4713-bbac-ecedcfae516f",
   "metadata": {},
   "outputs": [],
   "source": [
    "current_values = abot.graph.get_state(thread)"
   ]
  },
  {
   "cell_type": "code",
   "execution_count": 50,
   "id": "fe636737-8ddb-42da-8ed4-401942c4f2a2",
   "metadata": {},
   "outputs": [
    {
     "data": {
      "text/plain": [
       "AIMessage(content='', additional_kwargs={'tool_calls': [{'function': {'arguments': '{\"query\":\"current weather in Los Angeles\"}', 'name': 'tavily_search_results_json'}, 'id': 'call_S93G86H9y1cJimSCljbH4Nq1', 'type': 'function'}]}, response_metadata={'finish_reason': 'tool_calls', 'logprobs': None, 'model_name': 'gpt-3.5-turbo', 'system_fingerprint': None, 'token_usage': {'completion_tokens': 23, 'completion_tokens_details': {'accepted_prediction_tokens': 0, 'audio_tokens': 0, 'reasoning_tokens': 0, 'rejected_prediction_tokens': 0}, 'prompt_tokens': 1507, 'prompt_tokens_details': {'audio_tokens': 0, 'cached_tokens': 0}, 'total_tokens': 1530}}, id='run-a25906e6-fce6-4011-9fa5-a0ea4c00bf1e-0', tool_calls=[{'name': 'tavily_search_results_json', 'args': {'query': 'current weather in Los Angeles'}, 'id': 'call_S93G86H9y1cJimSCljbH4Nq1', 'type': 'tool_call'}])"
      ]
     },
     "execution_count": 50,
     "metadata": {},
     "output_type": "execute_result"
    }
   ],
   "source": [
    "current_values.values['messages'][-1]"
   ]
  },
  {
   "cell_type": "code",
   "execution_count": 51,
   "id": "6e3bd8a7-692f-43e3-87d3-82d68ba412ff",
   "metadata": {},
   "outputs": [
    {
     "data": {
      "text/plain": [
       "[{'name': 'tavily_search_results_json',\n",
       "  'args': {'query': 'current weather in Los Angeles'},\n",
       "  'id': 'call_S93G86H9y1cJimSCljbH4Nq1',\n",
       "  'type': 'tool_call'}]"
      ]
     },
     "execution_count": 51,
     "metadata": {},
     "output_type": "execute_result"
    }
   ],
   "source": [
    "current_values.values['messages'][-1].tool_calls"
   ]
  },
  {
   "cell_type": "code",
   "execution_count": 52,
   "id": "69f33588-af54-4a7e-be72-adbd922589b2",
   "metadata": {},
   "outputs": [],
   "source": [
    "_id = current_values.values['messages'][-1].tool_calls[0]['id']\n",
    "current_values.values['messages'][-1].tool_calls = [\n",
    "    {'name': 'tavily_search_results_json',\n",
    "  'args': {'query': 'current weather in Louisiana'},\n",
    "  'id': _id}\n",
    "]"
   ]
  },
  {
   "cell_type": "code",
   "execution_count": 53,
   "id": "5c9675d8-bf52-45f0-9218-6597cf5fc95e",
   "metadata": {},
   "outputs": [
    {
     "name": "stdout",
     "output_type": "stream",
     "text": [
      "{'messages': [HumanMessage(content='Whats the weather in LA?', id='e94d5a72-a86f-4574-8753-96bab397bd89'), AIMessage(content='', additional_kwargs={'tool_calls': [{'function': {'arguments': '{\"query\":\"weather in Los Angeles\"}', 'name': 'tavily_search_results_json'}, 'id': 'call_cTJ4iPAwyIRAxWlg89YwVkX2', 'type': 'function'}]}, response_metadata={'finish_reason': 'tool_calls', 'logprobs': None, 'model_name': 'gpt-3.5-turbo', 'system_fingerprint': None, 'token_usage': {'completion_tokens': 22, 'completion_tokens_details': {'accepted_prediction_tokens': 0, 'audio_tokens': 0, 'reasoning_tokens': 0, 'rejected_prediction_tokens': 0}, 'prompt_tokens': 152, 'prompt_tokens_details': {'audio_tokens': 0, 'cached_tokens': 0}, 'total_tokens': 174}}, id='run-d411ea9b-ab92-4abb-9cfd-bac3873b103d-0', tool_calls=[{'name': 'tavily_search_results_json', 'args': {'query': 'current weather in Louisiana'}, 'id': 'call_cTJ4iPAwyIRAxWlg89YwVkX2', 'type': 'tool_call'}]), ToolMessage(content='[{\\'url\\': \\'https://www.weatherapi.com/\\', \\'content\\': \"{\\'location\\': {\\'name\\': \\'Louisiana\\', \\'region\\': \\'Missouri\\', \\'country\\': \\'USA United States of America\\', \\'lat\\': 39.4411, \\'lon\\': -91.0551, \\'tz_id\\': \\'America/Chicago\\', \\'localtime_epoch\\': 1744750826, \\'localtime\\': \\'2025-04-15 16:00\\'}, \\'current\\': {\\'last_updated_epoch\\': 1744750800, \\'last_updated\\': \\'2025-04-15 16:00\\', \\'temp_c\\': 15.3, \\'temp_f\\': 59.5, \\'is_day\\': 1, \\'condition\\': {\\'text\\': \\'Sunny\\', \\'icon\\': \\'//cdn.weatherapi.com/weather/64x64/day/113.png\\', \\'code\\': 1000}, \\'wind_mph\\': 17.0, \\'wind_kph\\': 27.4, \\'wind_degree\\': 307, \\'wind_dir\\': \\'NW\\', \\'pressure_mb\\': 1020.0, \\'pressure_in\\': 30.13, \\'precip_mm\\': 0.0, \\'precip_in\\': 0.0, \\'humidity\\': 33, \\'cloud\\': 0, \\'feelslike_c\\': 15.3, \\'feelslike_f\\': 59.5, \\'windchill_c\\': 16.3, \\'windchill_f\\': 61.4, \\'heatindex_c\\': 16.5, \\'heatindex_f\\': 61.7, \\'dewpoint_c\\': 2.8, \\'dewpoint_f\\': 37.1, \\'vis_km\\': 16.0, \\'vis_miles\\': 9.0, \\'uv\\': 3.5, \\'gust_mph\\': 21.2, \\'gust_kph\\': 34.1}}\"}, {\\'url\\': \\'https://en.climate-data.org/north-america/united-states-of-america/louisiana-943/r/april-4/\\', \\'content\\': \\'15. April | 19 °C | 66 °F | 24 °C | 75 °F | 15 °C | 58 °F | 5.8 mm | 0.2 inch.\\\\n16. April | 19 °C | 66 °F | 24 °C | 75 °F | 14 °C | 58 °F | 2.7 mm | 0.1 inch.\\\\n17. April | 19 °C | 67 °F | 24 °C | 76 °F | 15 °C | 59 °F | 2.8 mm | 0.1 inch.\\\\n18. April | 20 °C | 68 °F | 24 °C | 76 °F | 16 °C | 61 °F | 2.7 mm | 0.1 inch.\\\\n19. April | 20 °C | 68 °F | 25 °C | 77 °F | 16 °C | 61 °F | 3.7 mm | 0.1 inch.\\\\n20. April | 20 °C | 69 °F | 25 °C | 78 °F | 16 °C | 61 °F | 2.5 mm | 0.1 inch. [...] 15. April | 19 °C | 66 °F | 24 °C | 75 °F | 14 °C | 58 °F | 4.8 mm | 0.2 inch.\\\\n16. April | 19 °C | 66 °F | 24 °C | 75 °F | 14 °C | 57 °F | 2.6 mm | 0.1 inch.\\\\n17. April | 19 °C | 66 °F | 25 °C | 76 °F | 14 °C | 58 °F | 1.8 mm | 0.1 inch.\\\\n18. April | 19 °C | 67 °F | 25 °C | 76 °F | 15 °C | 59 °F | 3.5 mm | 0.1 inch.\\\\n19. April | 20 °C | 68 °F | 25 °C | 78 °F | 15 °C | 60 °F | 4.2 mm | 0.2 inch.\\\\n20. April | 20 °C | 68 °F | 26 °C | 78 °F | 16 °C | 60 °F | 1.6 mm | 0.1 inch. [...] 18.4 °C\\\\n\\\\n(65.1) °F\\\\n\\\\n21.7 °C\\\\n\\\\n(71.1) °F\\\\n\\\\n25.3 °C\\\\n\\\\n(77.5) °F\\\\n\\\\n28.9 °C\\\\n\\\\n(84) °F\\\\n\\\\n31.2 °C\\\\n\\\\n(88.2) °F\\\\n\\\\n31.8 °C\\\\n\\\\n(89.2) °F\\\\n\\\\n32.5 °C\\\\n\\\\n(90.6) °F\\\\n\\\\n30.4 °C\\\\n\\\\n(86.6) °F\\\\n\\\\n26.6 °C\\\\n\\\\n(80) °F\\\\n\\\\n21.4 °C\\\\n\\\\n(70.5) °F\\\\n\\\\n17.4 °C\\\\n\\\\n(63.3) °F\\\\n\\\\n134\\\\n\\\\n(5)\\\\n\\\\n100\\\\n\\\\n(3)\\\\n\\\\n109\\\\n\\\\n(4)\\\\n\\\\n120\\\\n\\\\n(4)\\\\n\\\\n108\\\\n\\\\n(4)\\\\n\\\\n136\\\\n\\\\n(5)\\\\n\\\\n119\\\\n\\\\n(4)\\\\n\\\\n119\\\\n\\\\n(4)\\\\n\\\\n124\\\\n\\\\n(4)\\\\n\\\\n94\\\\n\\\\n(3)\\\\n\\\\n110\\\\n\\\\n(4)\\\\n\\\\n123\\\\n\\\\n(4)\\'}]', name='tavily_search_results_json', id='d742f307-8856-4e3a-b0f1-e0e3ad412d8d', tool_call_id='call_cTJ4iPAwyIRAxWlg89YwVkX2'), AIMessage(content='I found information about the current weather in Louisiana, not Los Angeles. Would you like me to look up the weather in Los Angeles instead?', response_metadata={'finish_reason': 'stop', 'logprobs': None, 'model_name': 'gpt-3.5-turbo', 'system_fingerprint': None, 'token_usage': {'completion_tokens': 30, 'completion_tokens_details': {'accepted_prediction_tokens': 0, 'audio_tokens': 0, 'reasoning_tokens': 0, 'rejected_prediction_tokens': 0}, 'prompt_tokens': 1465, 'prompt_tokens_details': {'audio_tokens': 0, 'cached_tokens': 0}, 'total_tokens': 1495}}, id='run-3a64b6e5-2a00-426d-afd8-6ec7debb39d4-0'), HumanMessage(content='Whats the weather in LA?', id='2f55f066-c464-4a64-aa9d-07f6e46c00ab'), AIMessage(content='', additional_kwargs={'tool_calls': [{'function': {'arguments': '{\"query\":\"current weather in Los Angeles\"}', 'name': 'tavily_search_results_json'}, 'id': 'call_S93G86H9y1cJimSCljbH4Nq1', 'type': 'function'}]}, response_metadata={'finish_reason': 'tool_calls', 'logprobs': None, 'model_name': 'gpt-3.5-turbo', 'system_fingerprint': None, 'token_usage': {'completion_tokens': 23, 'completion_tokens_details': {'accepted_prediction_tokens': 0, 'audio_tokens': 0, 'reasoning_tokens': 0, 'rejected_prediction_tokens': 0}, 'prompt_tokens': 1507, 'prompt_tokens_details': {'audio_tokens': 0, 'cached_tokens': 0}, 'total_tokens': 1530}}, id='run-a25906e6-fce6-4011-9fa5-a0ea4c00bf1e-0', tool_calls=[{'name': 'tavily_search_results_json', 'args': {'query': 'current weather in Louisiana'}, 'id': 'call_S93G86H9y1cJimSCljbH4Nq1'}])]}\n"
     ]
    },
    {
     "data": {
      "text/plain": [
       "{'configurable': {'thread_id': '3',\n",
       "  'thread_ts': '1f01a3df-b066-6d0a-8009-f5923980afb2'}}"
      ]
     },
     "execution_count": 53,
     "metadata": {},
     "output_type": "execute_result"
    }
   ],
   "source": [
    "abot.graph.update_state(thread, current_values.values)"
   ]
  },
  {
   "cell_type": "code",
   "execution_count": 55,
   "id": "b7a623d4-28a2-4cf6-99ae-d17fb6a81518",
   "metadata": {},
   "outputs": [
    {
     "data": {
      "text/plain": [
       "StateSnapshot(values={'messages': [HumanMessage(content='Whats the weather in LA?', id='e94d5a72-a86f-4574-8753-96bab397bd89'), AIMessage(content='', additional_kwargs={'tool_calls': [{'function': {'arguments': '{\"query\":\"weather in Los Angeles\"}', 'name': 'tavily_search_results_json'}, 'id': 'call_cTJ4iPAwyIRAxWlg89YwVkX2', 'type': 'function'}]}, response_metadata={'finish_reason': 'tool_calls', 'logprobs': None, 'model_name': 'gpt-3.5-turbo', 'system_fingerprint': None, 'token_usage': {'completion_tokens': 22, 'completion_tokens_details': {'accepted_prediction_tokens': 0, 'audio_tokens': 0, 'reasoning_tokens': 0, 'rejected_prediction_tokens': 0}, 'prompt_tokens': 152, 'prompt_tokens_details': {'audio_tokens': 0, 'cached_tokens': 0}, 'total_tokens': 174}}, id='run-d411ea9b-ab92-4abb-9cfd-bac3873b103d-0', tool_calls=[{'name': 'tavily_search_results_json', 'args': {'query': 'current weather in Louisiana'}, 'id': 'call_cTJ4iPAwyIRAxWlg89YwVkX2', 'type': 'tool_call'}]), ToolMessage(content='[{\\'url\\': \\'https://www.weatherapi.com/\\', \\'content\\': \"{\\'location\\': {\\'name\\': \\'Louisiana\\', \\'region\\': \\'Missouri\\', \\'country\\': \\'USA United States of America\\', \\'lat\\': 39.4411, \\'lon\\': -91.0551, \\'tz_id\\': \\'America/Chicago\\', \\'localtime_epoch\\': 1744750826, \\'localtime\\': \\'2025-04-15 16:00\\'}, \\'current\\': {\\'last_updated_epoch\\': 1744750800, \\'last_updated\\': \\'2025-04-15 16:00\\', \\'temp_c\\': 15.3, \\'temp_f\\': 59.5, \\'is_day\\': 1, \\'condition\\': {\\'text\\': \\'Sunny\\', \\'icon\\': \\'//cdn.weatherapi.com/weather/64x64/day/113.png\\', \\'code\\': 1000}, \\'wind_mph\\': 17.0, \\'wind_kph\\': 27.4, \\'wind_degree\\': 307, \\'wind_dir\\': \\'NW\\', \\'pressure_mb\\': 1020.0, \\'pressure_in\\': 30.13, \\'precip_mm\\': 0.0, \\'precip_in\\': 0.0, \\'humidity\\': 33, \\'cloud\\': 0, \\'feelslike_c\\': 15.3, \\'feelslike_f\\': 59.5, \\'windchill_c\\': 16.3, \\'windchill_f\\': 61.4, \\'heatindex_c\\': 16.5, \\'heatindex_f\\': 61.7, \\'dewpoint_c\\': 2.8, \\'dewpoint_f\\': 37.1, \\'vis_km\\': 16.0, \\'vis_miles\\': 9.0, \\'uv\\': 3.5, \\'gust_mph\\': 21.2, \\'gust_kph\\': 34.1}}\"}, {\\'url\\': \\'https://en.climate-data.org/north-america/united-states-of-america/louisiana-943/r/april-4/\\', \\'content\\': \\'15. April | 19 °C | 66 °F | 24 °C | 75 °F | 15 °C | 58 °F | 5.8 mm | 0.2 inch.\\\\n16. April | 19 °C | 66 °F | 24 °C | 75 °F | 14 °C | 58 °F | 2.7 mm | 0.1 inch.\\\\n17. April | 19 °C | 67 °F | 24 °C | 76 °F | 15 °C | 59 °F | 2.8 mm | 0.1 inch.\\\\n18. April | 20 °C | 68 °F | 24 °C | 76 °F | 16 °C | 61 °F | 2.7 mm | 0.1 inch.\\\\n19. April | 20 °C | 68 °F | 25 °C | 77 °F | 16 °C | 61 °F | 3.7 mm | 0.1 inch.\\\\n20. April | 20 °C | 69 °F | 25 °C | 78 °F | 16 °C | 61 °F | 2.5 mm | 0.1 inch. [...] 15. April | 19 °C | 66 °F | 24 °C | 75 °F | 14 °C | 58 °F | 4.8 mm | 0.2 inch.\\\\n16. April | 19 °C | 66 °F | 24 °C | 75 °F | 14 °C | 57 °F | 2.6 mm | 0.1 inch.\\\\n17. April | 19 °C | 66 °F | 25 °C | 76 °F | 14 °C | 58 °F | 1.8 mm | 0.1 inch.\\\\n18. April | 19 °C | 67 °F | 25 °C | 76 °F | 15 °C | 59 °F | 3.5 mm | 0.1 inch.\\\\n19. April | 20 °C | 68 °F | 25 °C | 78 °F | 15 °C | 60 °F | 4.2 mm | 0.2 inch.\\\\n20. April | 20 °C | 68 °F | 26 °C | 78 °F | 16 °C | 60 °F | 1.6 mm | 0.1 inch. [...] 18.4 °C\\\\n\\\\n(65.1) °F\\\\n\\\\n21.7 °C\\\\n\\\\n(71.1) °F\\\\n\\\\n25.3 °C\\\\n\\\\n(77.5) °F\\\\n\\\\n28.9 °C\\\\n\\\\n(84) °F\\\\n\\\\n31.2 °C\\\\n\\\\n(88.2) °F\\\\n\\\\n31.8 °C\\\\n\\\\n(89.2) °F\\\\n\\\\n32.5 °C\\\\n\\\\n(90.6) °F\\\\n\\\\n30.4 °C\\\\n\\\\n(86.6) °F\\\\n\\\\n26.6 °C\\\\n\\\\n(80) °F\\\\n\\\\n21.4 °C\\\\n\\\\n(70.5) °F\\\\n\\\\n17.4 °C\\\\n\\\\n(63.3) °F\\\\n\\\\n134\\\\n\\\\n(5)\\\\n\\\\n100\\\\n\\\\n(3)\\\\n\\\\n109\\\\n\\\\n(4)\\\\n\\\\n120\\\\n\\\\n(4)\\\\n\\\\n108\\\\n\\\\n(4)\\\\n\\\\n136\\\\n\\\\n(5)\\\\n\\\\n119\\\\n\\\\n(4)\\\\n\\\\n119\\\\n\\\\n(4)\\\\n\\\\n124\\\\n\\\\n(4)\\\\n\\\\n94\\\\n\\\\n(3)\\\\n\\\\n110\\\\n\\\\n(4)\\\\n\\\\n123\\\\n\\\\n(4)\\'}]', name='tavily_search_results_json', id='d742f307-8856-4e3a-b0f1-e0e3ad412d8d', tool_call_id='call_cTJ4iPAwyIRAxWlg89YwVkX2'), AIMessage(content='I found information about the current weather in Louisiana, not Los Angeles. Would you like me to look up the weather in Los Angeles instead?', response_metadata={'finish_reason': 'stop', 'logprobs': None, 'model_name': 'gpt-3.5-turbo', 'system_fingerprint': None, 'token_usage': {'completion_tokens': 30, 'completion_tokens_details': {'accepted_prediction_tokens': 0, 'audio_tokens': 0, 'reasoning_tokens': 0, 'rejected_prediction_tokens': 0}, 'prompt_tokens': 1465, 'prompt_tokens_details': {'audio_tokens': 0, 'cached_tokens': 0}, 'total_tokens': 1495}}, id='run-3a64b6e5-2a00-426d-afd8-6ec7debb39d4-0'), HumanMessage(content='Whats the weather in LA?', id='2f55f066-c464-4a64-aa9d-07f6e46c00ab'), AIMessage(content='', additional_kwargs={'tool_calls': [{'function': {'arguments': '{\"query\":\"current weather in Los Angeles\"}', 'name': 'tavily_search_results_json'}, 'id': 'call_S93G86H9y1cJimSCljbH4Nq1', 'type': 'function'}]}, response_metadata={'finish_reason': 'tool_calls', 'logprobs': None, 'model_name': 'gpt-3.5-turbo', 'system_fingerprint': None, 'token_usage': {'completion_tokens': 23, 'completion_tokens_details': {'accepted_prediction_tokens': 0, 'audio_tokens': 0, 'reasoning_tokens': 0, 'rejected_prediction_tokens': 0}, 'prompt_tokens': 1507, 'prompt_tokens_details': {'audio_tokens': 0, 'cached_tokens': 0}, 'total_tokens': 1530}}, id='run-a25906e6-fce6-4011-9fa5-a0ea4c00bf1e-0', tool_calls=[{'name': 'tavily_search_results_json', 'args': {'query': 'current weather in Louisiana'}, 'id': 'call_S93G86H9y1cJimSCljbH4Nq1', 'type': 'tool_call'}])]}, next=('action',), config={'configurable': {'thread_id': '3', 'thread_ts': '1f01a3df-b066-6d0a-8009-f5923980afb2'}}, metadata={'source': 'update', 'step': 9, 'writes': {'llm': {'messages': [HumanMessage(content='Whats the weather in LA?', id='e94d5a72-a86f-4574-8753-96bab397bd89'), AIMessage(content='', additional_kwargs={'tool_calls': [{'function': {'arguments': '{\"query\":\"weather in Los Angeles\"}', 'name': 'tavily_search_results_json'}, 'id': 'call_cTJ4iPAwyIRAxWlg89YwVkX2', 'type': 'function'}]}, response_metadata={'finish_reason': 'tool_calls', 'logprobs': None, 'model_name': 'gpt-3.5-turbo', 'system_fingerprint': None, 'token_usage': {'completion_tokens': 22, 'completion_tokens_details': {'accepted_prediction_tokens': 0, 'audio_tokens': 0, 'reasoning_tokens': 0, 'rejected_prediction_tokens': 0}, 'prompt_tokens': 152, 'prompt_tokens_details': {'audio_tokens': 0, 'cached_tokens': 0}, 'total_tokens': 174}}, id='run-d411ea9b-ab92-4abb-9cfd-bac3873b103d-0', tool_calls=[{'name': 'tavily_search_results_json', 'args': {'query': 'current weather in Louisiana'}, 'id': 'call_cTJ4iPAwyIRAxWlg89YwVkX2', 'type': 'tool_call'}]), ToolMessage(content='[{\\'url\\': \\'https://www.weatherapi.com/\\', \\'content\\': \"{\\'location\\': {\\'name\\': \\'Louisiana\\', \\'region\\': \\'Missouri\\', \\'country\\': \\'USA United States of America\\', \\'lat\\': 39.4411, \\'lon\\': -91.0551, \\'tz_id\\': \\'America/Chicago\\', \\'localtime_epoch\\': 1744750826, \\'localtime\\': \\'2025-04-15 16:00\\'}, \\'current\\': {\\'last_updated_epoch\\': 1744750800, \\'last_updated\\': \\'2025-04-15 16:00\\', \\'temp_c\\': 15.3, \\'temp_f\\': 59.5, \\'is_day\\': 1, \\'condition\\': {\\'text\\': \\'Sunny\\', \\'icon\\': \\'//cdn.weatherapi.com/weather/64x64/day/113.png\\', \\'code\\': 1000}, \\'wind_mph\\': 17.0, \\'wind_kph\\': 27.4, \\'wind_degree\\': 307, \\'wind_dir\\': \\'NW\\', \\'pressure_mb\\': 1020.0, \\'pressure_in\\': 30.13, \\'precip_mm\\': 0.0, \\'precip_in\\': 0.0, \\'humidity\\': 33, \\'cloud\\': 0, \\'feelslike_c\\': 15.3, \\'feelslike_f\\': 59.5, \\'windchill_c\\': 16.3, \\'windchill_f\\': 61.4, \\'heatindex_c\\': 16.5, \\'heatindex_f\\': 61.7, \\'dewpoint_c\\': 2.8, \\'dewpoint_f\\': 37.1, \\'vis_km\\': 16.0, \\'vis_miles\\': 9.0, \\'uv\\': 3.5, \\'gust_mph\\': 21.2, \\'gust_kph\\': 34.1}}\"}, {\\'url\\': \\'https://en.climate-data.org/north-america/united-states-of-america/louisiana-943/r/april-4/\\', \\'content\\': \\'15. April | 19 °C | 66 °F | 24 °C | 75 °F | 15 °C | 58 °F | 5.8 mm | 0.2 inch.\\\\n16. April | 19 °C | 66 °F | 24 °C | 75 °F | 14 °C | 58 °F | 2.7 mm | 0.1 inch.\\\\n17. April | 19 °C | 67 °F | 24 °C | 76 °F | 15 °C | 59 °F | 2.8 mm | 0.1 inch.\\\\n18. April | 20 °C | 68 °F | 24 °C | 76 °F | 16 °C | 61 °F | 2.7 mm | 0.1 inch.\\\\n19. April | 20 °C | 68 °F | 25 °C | 77 °F | 16 °C | 61 °F | 3.7 mm | 0.1 inch.\\\\n20. April | 20 °C | 69 °F | 25 °C | 78 °F | 16 °C | 61 °F | 2.5 mm | 0.1 inch. [...] 15. April | 19 °C | 66 °F | 24 °C | 75 °F | 14 °C | 58 °F | 4.8 mm | 0.2 inch.\\\\n16. April | 19 °C | 66 °F | 24 °C | 75 °F | 14 °C | 57 °F | 2.6 mm | 0.1 inch.\\\\n17. April | 19 °C | 66 °F | 25 °C | 76 °F | 14 °C | 58 °F | 1.8 mm | 0.1 inch.\\\\n18. April | 19 °C | 67 °F | 25 °C | 76 °F | 15 °C | 59 °F | 3.5 mm | 0.1 inch.\\\\n19. April | 20 °C | 68 °F | 25 °C | 78 °F | 15 °C | 60 °F | 4.2 mm | 0.2 inch.\\\\n20. April | 20 °C | 68 °F | 26 °C | 78 °F | 16 °C | 60 °F | 1.6 mm | 0.1 inch. [...] 18.4 °C\\\\n\\\\n(65.1) °F\\\\n\\\\n21.7 °C\\\\n\\\\n(71.1) °F\\\\n\\\\n25.3 °C\\\\n\\\\n(77.5) °F\\\\n\\\\n28.9 °C\\\\n\\\\n(84) °F\\\\n\\\\n31.2 °C\\\\n\\\\n(88.2) °F\\\\n\\\\n31.8 °C\\\\n\\\\n(89.2) °F\\\\n\\\\n32.5 °C\\\\n\\\\n(90.6) °F\\\\n\\\\n30.4 °C\\\\n\\\\n(86.6) °F\\\\n\\\\n26.6 °C\\\\n\\\\n(80) °F\\\\n\\\\n21.4 °C\\\\n\\\\n(70.5) °F\\\\n\\\\n17.4 °C\\\\n\\\\n(63.3) °F\\\\n\\\\n134\\\\n\\\\n(5)\\\\n\\\\n100\\\\n\\\\n(3)\\\\n\\\\n109\\\\n\\\\n(4)\\\\n\\\\n120\\\\n\\\\n(4)\\\\n\\\\n108\\\\n\\\\n(4)\\\\n\\\\n136\\\\n\\\\n(5)\\\\n\\\\n119\\\\n\\\\n(4)\\\\n\\\\n119\\\\n\\\\n(4)\\\\n\\\\n124\\\\n\\\\n(4)\\\\n\\\\n94\\\\n\\\\n(3)\\\\n\\\\n110\\\\n\\\\n(4)\\\\n\\\\n123\\\\n\\\\n(4)\\'}]', name='tavily_search_results_json', id='d742f307-8856-4e3a-b0f1-e0e3ad412d8d', tool_call_id='call_cTJ4iPAwyIRAxWlg89YwVkX2'), AIMessage(content='I found information about the current weather in Louisiana, not Los Angeles. Would you like me to look up the weather in Los Angeles instead?', response_metadata={'finish_reason': 'stop', 'logprobs': None, 'model_name': 'gpt-3.5-turbo', 'system_fingerprint': None, 'token_usage': {'completion_tokens': 30, 'completion_tokens_details': {'accepted_prediction_tokens': 0, 'audio_tokens': 0, 'reasoning_tokens': 0, 'rejected_prediction_tokens': 0}, 'prompt_tokens': 1465, 'prompt_tokens_details': {'audio_tokens': 0, 'cached_tokens': 0}, 'total_tokens': 1495}}, id='run-3a64b6e5-2a00-426d-afd8-6ec7debb39d4-0'), HumanMessage(content='Whats the weather in LA?', id='2f55f066-c464-4a64-aa9d-07f6e46c00ab'), AIMessage(content='', additional_kwargs={'tool_calls': [{'function': {'arguments': '{\"query\":\"current weather in Los Angeles\"}', 'name': 'tavily_search_results_json'}, 'id': 'call_S93G86H9y1cJimSCljbH4Nq1', 'type': 'function'}]}, response_metadata={'finish_reason': 'tool_calls', 'logprobs': None, 'model_name': 'gpt-3.5-turbo', 'system_fingerprint': None, 'token_usage': {'completion_tokens': 23, 'completion_tokens_details': {'accepted_prediction_tokens': 0, 'audio_tokens': 0, 'reasoning_tokens': 0, 'rejected_prediction_tokens': 0}, 'prompt_tokens': 1507, 'prompt_tokens_details': {'audio_tokens': 0, 'cached_tokens': 0}, 'total_tokens': 1530}}, id='run-a25906e6-fce6-4011-9fa5-a0ea4c00bf1e-0', tool_calls=[{'name': 'tavily_search_results_json', 'args': {'query': 'current weather in Louisiana'}, 'id': 'call_S93G86H9y1cJimSCljbH4Nq1', 'type': 'tool_call'}])]}}}, created_at='2025-04-15T21:09:55.531482+00:00', parent_config={'configurable': {'thread_id': '3', 'thread_ts': '1f01a3dd-fb45-64b5-8008-46991bb99414'}})"
      ]
     },
     "execution_count": 55,
     "metadata": {},
     "output_type": "execute_result"
    }
   ],
   "source": [
    "abot.graph.get_state(thread)"
   ]
  },
  {
   "cell_type": "code",
   "execution_count": 56,
   "id": "3ad526b3-88cd-4d34-b3bc-b5f47a023941",
   "metadata": {},
   "outputs": [
    {
     "name": "stdout",
     "output_type": "stream",
     "text": [
      "Calling: {'name': 'tavily_search_results_json', 'args': {'query': 'current weather in Louisiana'}, 'id': 'call_S93G86H9y1cJimSCljbH4Nq1', 'type': 'tool_call'}\n",
      "Back to the model!\n",
      "{'messages': [ToolMessage(content='[{\\'url\\': \\'https://www.weatherapi.com/\\', \\'content\\': \"{\\'location\\': {\\'name\\': \\'Louisiana\\', \\'region\\': \\'Missouri\\', \\'country\\': \\'USA United States of America\\', \\'lat\\': 39.4411, \\'lon\\': -91.0551, \\'tz_id\\': \\'America/Chicago\\', \\'localtime_epoch\\': 1744750826, \\'localtime\\': \\'2025-04-15 16:00\\'}, \\'current\\': {\\'last_updated_epoch\\': 1744750800, \\'last_updated\\': \\'2025-04-15 16:00\\', \\'temp_c\\': 15.3, \\'temp_f\\': 59.5, \\'is_day\\': 1, \\'condition\\': {\\'text\\': \\'Sunny\\', \\'icon\\': \\'//cdn.weatherapi.com/weather/64x64/day/113.png\\', \\'code\\': 1000}, \\'wind_mph\\': 17.0, \\'wind_kph\\': 27.4, \\'wind_degree\\': 307, \\'wind_dir\\': \\'NW\\', \\'pressure_mb\\': 1020.0, \\'pressure_in\\': 30.13, \\'precip_mm\\': 0.0, \\'precip_in\\': 0.0, \\'humidity\\': 33, \\'cloud\\': 0, \\'feelslike_c\\': 15.3, \\'feelslike_f\\': 59.5, \\'windchill_c\\': 16.3, \\'windchill_f\\': 61.4, \\'heatindex_c\\': 16.5, \\'heatindex_f\\': 61.7, \\'dewpoint_c\\': 2.8, \\'dewpoint_f\\': 37.1, \\'vis_km\\': 16.0, \\'vis_miles\\': 9.0, \\'uv\\': 3.5, \\'gust_mph\\': 21.2, \\'gust_kph\\': 34.1}}\"}, {\\'url\\': \\'https://en.climate-data.org/north-america/united-states-of-america/louisiana-943/r/april-4/\\', \\'content\\': \\'15. April | 19 °C | 66 °F | 24 °C | 75 °F | 15 °C | 58 °F | 5.8 mm | 0.2 inch.\\\\n16. April | 19 °C | 66 °F | 24 °C | 75 °F | 14 °C | 58 °F | 2.7 mm | 0.1 inch.\\\\n17. April | 19 °C | 67 °F | 24 °C | 76 °F | 15 °C | 59 °F | 2.8 mm | 0.1 inch.\\\\n18. April | 20 °C | 68 °F | 24 °C | 76 °F | 16 °C | 61 °F | 2.7 mm | 0.1 inch.\\\\n19. April | 20 °C | 68 °F | 25 °C | 77 °F | 16 °C | 61 °F | 3.7 mm | 0.1 inch.\\\\n20. April | 20 °C | 69 °F | 25 °C | 78 °F | 16 °C | 61 °F | 2.5 mm | 0.1 inch. [...] 15. April | 19 °C | 66 °F | 24 °C | 75 °F | 14 °C | 58 °F | 4.8 mm | 0.2 inch.\\\\n16. April | 19 °C | 66 °F | 24 °C | 75 °F | 14 °C | 57 °F | 2.6 mm | 0.1 inch.\\\\n17. April | 19 °C | 66 °F | 25 °C | 76 °F | 14 °C | 58 °F | 1.8 mm | 0.1 inch.\\\\n18. April | 19 °C | 67 °F | 25 °C | 76 °F | 15 °C | 59 °F | 3.5 mm | 0.1 inch.\\\\n19. April | 20 °C | 68 °F | 25 °C | 78 °F | 15 °C | 60 °F | 4.2 mm | 0.2 inch.\\\\n20. April | 20 °C | 68 °F | 26 °C | 78 °F | 16 °C | 60 °F | 1.6 mm | 0.1 inch. [...] 18.4 °C\\\\n\\\\n(65.1) °F\\\\n\\\\n21.7 °C\\\\n\\\\n(71.1) °F\\\\n\\\\n25.3 °C\\\\n\\\\n(77.5) °F\\\\n\\\\n28.9 °C\\\\n\\\\n(84) °F\\\\n\\\\n31.2 °C\\\\n\\\\n(88.2) °F\\\\n\\\\n31.8 °C\\\\n\\\\n(89.2) °F\\\\n\\\\n32.5 °C\\\\n\\\\n(90.6) °F\\\\n\\\\n30.4 °C\\\\n\\\\n(86.6) °F\\\\n\\\\n26.6 °C\\\\n\\\\n(80) °F\\\\n\\\\n21.4 °C\\\\n\\\\n(70.5) °F\\\\n\\\\n17.4 °C\\\\n\\\\n(63.3) °F\\\\n\\\\n134\\\\n\\\\n(5)\\\\n\\\\n100\\\\n\\\\n(3)\\\\n\\\\n109\\\\n\\\\n(4)\\\\n\\\\n120\\\\n\\\\n(4)\\\\n\\\\n108\\\\n\\\\n(4)\\\\n\\\\n136\\\\n\\\\n(5)\\\\n\\\\n119\\\\n\\\\n(4)\\\\n\\\\n119\\\\n\\\\n(4)\\\\n\\\\n124\\\\n\\\\n(4)\\\\n\\\\n94\\\\n\\\\n(3)\\\\n\\\\n110\\\\n\\\\n(4)\\\\n\\\\n123\\\\n\\\\n(4)\\'}]', name='tavily_search_results_json', id='bcb82581-fdf6-4459-91e0-a123c03b7094', tool_call_id='call_S93G86H9y1cJimSCljbH4Nq1')]}\n",
      "{'messages': [HumanMessage(content='Whats the weather in LA?', id='e94d5a72-a86f-4574-8753-96bab397bd89'), AIMessage(content='', additional_kwargs={'tool_calls': [{'function': {'arguments': '{\"query\":\"weather in Los Angeles\"}', 'name': 'tavily_search_results_json'}, 'id': 'call_cTJ4iPAwyIRAxWlg89YwVkX2', 'type': 'function'}]}, response_metadata={'finish_reason': 'tool_calls', 'logprobs': None, 'model_name': 'gpt-3.5-turbo', 'system_fingerprint': None, 'token_usage': {'completion_tokens': 22, 'completion_tokens_details': {'accepted_prediction_tokens': 0, 'audio_tokens': 0, 'reasoning_tokens': 0, 'rejected_prediction_tokens': 0}, 'prompt_tokens': 152, 'prompt_tokens_details': {'audio_tokens': 0, 'cached_tokens': 0}, 'total_tokens': 174}}, id='run-d411ea9b-ab92-4abb-9cfd-bac3873b103d-0', tool_calls=[{'name': 'tavily_search_results_json', 'args': {'query': 'current weather in Louisiana'}, 'id': 'call_cTJ4iPAwyIRAxWlg89YwVkX2', 'type': 'tool_call'}]), ToolMessage(content='[{\\'url\\': \\'https://www.weatherapi.com/\\', \\'content\\': \"{\\'location\\': {\\'name\\': \\'Louisiana\\', \\'region\\': \\'Missouri\\', \\'country\\': \\'USA United States of America\\', \\'lat\\': 39.4411, \\'lon\\': -91.0551, \\'tz_id\\': \\'America/Chicago\\', \\'localtime_epoch\\': 1744750826, \\'localtime\\': \\'2025-04-15 16:00\\'}, \\'current\\': {\\'last_updated_epoch\\': 1744750800, \\'last_updated\\': \\'2025-04-15 16:00\\', \\'temp_c\\': 15.3, \\'temp_f\\': 59.5, \\'is_day\\': 1, \\'condition\\': {\\'text\\': \\'Sunny\\', \\'icon\\': \\'//cdn.weatherapi.com/weather/64x64/day/113.png\\', \\'code\\': 1000}, \\'wind_mph\\': 17.0, \\'wind_kph\\': 27.4, \\'wind_degree\\': 307, \\'wind_dir\\': \\'NW\\', \\'pressure_mb\\': 1020.0, \\'pressure_in\\': 30.13, \\'precip_mm\\': 0.0, \\'precip_in\\': 0.0, \\'humidity\\': 33, \\'cloud\\': 0, \\'feelslike_c\\': 15.3, \\'feelslike_f\\': 59.5, \\'windchill_c\\': 16.3, \\'windchill_f\\': 61.4, \\'heatindex_c\\': 16.5, \\'heatindex_f\\': 61.7, \\'dewpoint_c\\': 2.8, \\'dewpoint_f\\': 37.1, \\'vis_km\\': 16.0, \\'vis_miles\\': 9.0, \\'uv\\': 3.5, \\'gust_mph\\': 21.2, \\'gust_kph\\': 34.1}}\"}, {\\'url\\': \\'https://en.climate-data.org/north-america/united-states-of-america/louisiana-943/r/april-4/\\', \\'content\\': \\'15. April | 19 °C | 66 °F | 24 °C | 75 °F | 15 °C | 58 °F | 5.8 mm | 0.2 inch.\\\\n16. April | 19 °C | 66 °F | 24 °C | 75 °F | 14 °C | 58 °F | 2.7 mm | 0.1 inch.\\\\n17. April | 19 °C | 67 °F | 24 °C | 76 °F | 15 °C | 59 °F | 2.8 mm | 0.1 inch.\\\\n18. April | 20 °C | 68 °F | 24 °C | 76 °F | 16 °C | 61 °F | 2.7 mm | 0.1 inch.\\\\n19. April | 20 °C | 68 °F | 25 °C | 77 °F | 16 °C | 61 °F | 3.7 mm | 0.1 inch.\\\\n20. April | 20 °C | 69 °F | 25 °C | 78 °F | 16 °C | 61 °F | 2.5 mm | 0.1 inch. [...] 15. April | 19 °C | 66 °F | 24 °C | 75 °F | 14 °C | 58 °F | 4.8 mm | 0.2 inch.\\\\n16. April | 19 °C | 66 °F | 24 °C | 75 °F | 14 °C | 57 °F | 2.6 mm | 0.1 inch.\\\\n17. April | 19 °C | 66 °F | 25 °C | 76 °F | 14 °C | 58 °F | 1.8 mm | 0.1 inch.\\\\n18. April | 19 °C | 67 °F | 25 °C | 76 °F | 15 °C | 59 °F | 3.5 mm | 0.1 inch.\\\\n19. April | 20 °C | 68 °F | 25 °C | 78 °F | 15 °C | 60 °F | 4.2 mm | 0.2 inch.\\\\n20. April | 20 °C | 68 °F | 26 °C | 78 °F | 16 °C | 60 °F | 1.6 mm | 0.1 inch. [...] 18.4 °C\\\\n\\\\n(65.1) °F\\\\n\\\\n21.7 °C\\\\n\\\\n(71.1) °F\\\\n\\\\n25.3 °C\\\\n\\\\n(77.5) °F\\\\n\\\\n28.9 °C\\\\n\\\\n(84) °F\\\\n\\\\n31.2 °C\\\\n\\\\n(88.2) °F\\\\n\\\\n31.8 °C\\\\n\\\\n(89.2) °F\\\\n\\\\n32.5 °C\\\\n\\\\n(90.6) °F\\\\n\\\\n30.4 °C\\\\n\\\\n(86.6) °F\\\\n\\\\n26.6 °C\\\\n\\\\n(80) °F\\\\n\\\\n21.4 °C\\\\n\\\\n(70.5) °F\\\\n\\\\n17.4 °C\\\\n\\\\n(63.3) °F\\\\n\\\\n134\\\\n\\\\n(5)\\\\n\\\\n100\\\\n\\\\n(3)\\\\n\\\\n109\\\\n\\\\n(4)\\\\n\\\\n120\\\\n\\\\n(4)\\\\n\\\\n108\\\\n\\\\n(4)\\\\n\\\\n136\\\\n\\\\n(5)\\\\n\\\\n119\\\\n\\\\n(4)\\\\n\\\\n119\\\\n\\\\n(4)\\\\n\\\\n124\\\\n\\\\n(4)\\\\n\\\\n94\\\\n\\\\n(3)\\\\n\\\\n110\\\\n\\\\n(4)\\\\n\\\\n123\\\\n\\\\n(4)\\'}]', name='tavily_search_results_json', id='d742f307-8856-4e3a-b0f1-e0e3ad412d8d', tool_call_id='call_cTJ4iPAwyIRAxWlg89YwVkX2'), AIMessage(content='I found information about the current weather in Louisiana, not Los Angeles. Would you like me to look up the weather in Los Angeles instead?', response_metadata={'finish_reason': 'stop', 'logprobs': None, 'model_name': 'gpt-3.5-turbo', 'system_fingerprint': None, 'token_usage': {'completion_tokens': 30, 'completion_tokens_details': {'accepted_prediction_tokens': 0, 'audio_tokens': 0, 'reasoning_tokens': 0, 'rejected_prediction_tokens': 0}, 'prompt_tokens': 1465, 'prompt_tokens_details': {'audio_tokens': 0, 'cached_tokens': 0}, 'total_tokens': 1495}}, id='run-3a64b6e5-2a00-426d-afd8-6ec7debb39d4-0'), HumanMessage(content='Whats the weather in LA?', id='2f55f066-c464-4a64-aa9d-07f6e46c00ab'), AIMessage(content='', additional_kwargs={'tool_calls': [{'function': {'arguments': '{\"query\":\"current weather in Los Angeles\"}', 'name': 'tavily_search_results_json'}, 'id': 'call_S93G86H9y1cJimSCljbH4Nq1', 'type': 'function'}]}, response_metadata={'finish_reason': 'tool_calls', 'logprobs': None, 'model_name': 'gpt-3.5-turbo', 'system_fingerprint': None, 'token_usage': {'completion_tokens': 23, 'completion_tokens_details': {'accepted_prediction_tokens': 0, 'audio_tokens': 0, 'reasoning_tokens': 0, 'rejected_prediction_tokens': 0}, 'prompt_tokens': 1507, 'prompt_tokens_details': {'audio_tokens': 0, 'cached_tokens': 0}, 'total_tokens': 1530}}, id='run-a25906e6-fce6-4011-9fa5-a0ea4c00bf1e-0', tool_calls=[{'name': 'tavily_search_results_json', 'args': {'query': 'current weather in Louisiana'}, 'id': 'call_S93G86H9y1cJimSCljbH4Nq1', 'type': 'tool_call'}]), ToolMessage(content='[{\\'url\\': \\'https://www.weatherapi.com/\\', \\'content\\': \"{\\'location\\': {\\'name\\': \\'Louisiana\\', \\'region\\': \\'Missouri\\', \\'country\\': \\'USA United States of America\\', \\'lat\\': 39.4411, \\'lon\\': -91.0551, \\'tz_id\\': \\'America/Chicago\\', \\'localtime_epoch\\': 1744750826, \\'localtime\\': \\'2025-04-15 16:00\\'}, \\'current\\': {\\'last_updated_epoch\\': 1744750800, \\'last_updated\\': \\'2025-04-15 16:00\\', \\'temp_c\\': 15.3, \\'temp_f\\': 59.5, \\'is_day\\': 1, \\'condition\\': {\\'text\\': \\'Sunny\\', \\'icon\\': \\'//cdn.weatherapi.com/weather/64x64/day/113.png\\', \\'code\\': 1000}, \\'wind_mph\\': 17.0, \\'wind_kph\\': 27.4, \\'wind_degree\\': 307, \\'wind_dir\\': \\'NW\\', \\'pressure_mb\\': 1020.0, \\'pressure_in\\': 30.13, \\'precip_mm\\': 0.0, \\'precip_in\\': 0.0, \\'humidity\\': 33, \\'cloud\\': 0, \\'feelslike_c\\': 15.3, \\'feelslike_f\\': 59.5, \\'windchill_c\\': 16.3, \\'windchill_f\\': 61.4, \\'heatindex_c\\': 16.5, \\'heatindex_f\\': 61.7, \\'dewpoint_c\\': 2.8, \\'dewpoint_f\\': 37.1, \\'vis_km\\': 16.0, \\'vis_miles\\': 9.0, \\'uv\\': 3.5, \\'gust_mph\\': 21.2, \\'gust_kph\\': 34.1}}\"}, {\\'url\\': \\'https://en.climate-data.org/north-america/united-states-of-america/louisiana-943/r/april-4/\\', \\'content\\': \\'15. April | 19 °C | 66 °F | 24 °C | 75 °F | 15 °C | 58 °F | 5.8 mm | 0.2 inch.\\\\n16. April | 19 °C | 66 °F | 24 °C | 75 °F | 14 °C | 58 °F | 2.7 mm | 0.1 inch.\\\\n17. April | 19 °C | 67 °F | 24 °C | 76 °F | 15 °C | 59 °F | 2.8 mm | 0.1 inch.\\\\n18. April | 20 °C | 68 °F | 24 °C | 76 °F | 16 °C | 61 °F | 2.7 mm | 0.1 inch.\\\\n19. April | 20 °C | 68 °F | 25 °C | 77 °F | 16 °C | 61 °F | 3.7 mm | 0.1 inch.\\\\n20. April | 20 °C | 69 °F | 25 °C | 78 °F | 16 °C | 61 °F | 2.5 mm | 0.1 inch. [...] 15. April | 19 °C | 66 °F | 24 °C | 75 °F | 14 °C | 58 °F | 4.8 mm | 0.2 inch.\\\\n16. April | 19 °C | 66 °F | 24 °C | 75 °F | 14 °C | 57 °F | 2.6 mm | 0.1 inch.\\\\n17. April | 19 °C | 66 °F | 25 °C | 76 °F | 14 °C | 58 °F | 1.8 mm | 0.1 inch.\\\\n18. April | 19 °C | 67 °F | 25 °C | 76 °F | 15 °C | 59 °F | 3.5 mm | 0.1 inch.\\\\n19. April | 20 °C | 68 °F | 25 °C | 78 °F | 15 °C | 60 °F | 4.2 mm | 0.2 inch.\\\\n20. April | 20 °C | 68 °F | 26 °C | 78 °F | 16 °C | 60 °F | 1.6 mm | 0.1 inch. [...] 18.4 °C\\\\n\\\\n(65.1) °F\\\\n\\\\n21.7 °C\\\\n\\\\n(71.1) °F\\\\n\\\\n25.3 °C\\\\n\\\\n(77.5) °F\\\\n\\\\n28.9 °C\\\\n\\\\n(84) °F\\\\n\\\\n31.2 °C\\\\n\\\\n(88.2) °F\\\\n\\\\n31.8 °C\\\\n\\\\n(89.2) °F\\\\n\\\\n32.5 °C\\\\n\\\\n(90.6) °F\\\\n\\\\n30.4 °C\\\\n\\\\n(86.6) °F\\\\n\\\\n26.6 °C\\\\n\\\\n(80) °F\\\\n\\\\n21.4 °C\\\\n\\\\n(70.5) °F\\\\n\\\\n17.4 °C\\\\n\\\\n(63.3) °F\\\\n\\\\n134\\\\n\\\\n(5)\\\\n\\\\n100\\\\n\\\\n(3)\\\\n\\\\n109\\\\n\\\\n(4)\\\\n\\\\n120\\\\n\\\\n(4)\\\\n\\\\n108\\\\n\\\\n(4)\\\\n\\\\n136\\\\n\\\\n(5)\\\\n\\\\n119\\\\n\\\\n(4)\\\\n\\\\n119\\\\n\\\\n(4)\\\\n\\\\n124\\\\n\\\\n(4)\\\\n\\\\n94\\\\n\\\\n(3)\\\\n\\\\n110\\\\n\\\\n(4)\\\\n\\\\n123\\\\n\\\\n(4)\\'}]', name='tavily_search_results_json', id='bcb82581-fdf6-4459-91e0-a123c03b7094', tool_call_id='call_S93G86H9y1cJimSCljbH4Nq1'), AIMessage(content='The search results still show information about Louisiana, not Los Angeles. Let me try again to find the weather in Los Angeles.', additional_kwargs={'tool_calls': [{'id': 'call_l4fIPZ4XQu3pfiqcMt9VnswN', 'function': {'arguments': '{\"query\":\"current weather in Los Angeles\"}', 'name': 'tavily_search_results_json'}, 'type': 'function'}]}, response_metadata={'token_usage': {'completion_tokens': 50, 'prompt_tokens': 2820, 'total_tokens': 2870, 'completion_tokens_details': {'accepted_prediction_tokens': 0, 'audio_tokens': 0, 'reasoning_tokens': 0, 'rejected_prediction_tokens': 0}, 'prompt_tokens_details': {'audio_tokens': 0, 'cached_tokens': 0}}, 'model_name': 'gpt-3.5-turbo', 'system_fingerprint': None, 'finish_reason': 'tool_calls', 'logprobs': None}, id='run-c597f6ae-656c-46ad-9c2e-39925bdc92dc-0', tool_calls=[{'name': 'tavily_search_results_json', 'args': {'query': 'current weather in Los Angeles'}, 'id': 'call_l4fIPZ4XQu3pfiqcMt9VnswN', 'type': 'tool_call'}])]}\n",
      "{'messages': [AIMessage(content='The search results still show information about Louisiana, not Los Angeles. Let me try again to find the weather in Los Angeles.', additional_kwargs={'tool_calls': [{'id': 'call_l4fIPZ4XQu3pfiqcMt9VnswN', 'function': {'arguments': '{\"query\":\"current weather in Los Angeles\"}', 'name': 'tavily_search_results_json'}, 'type': 'function'}]}, response_metadata={'token_usage': {'completion_tokens': 50, 'prompt_tokens': 2820, 'total_tokens': 2870, 'completion_tokens_details': {'accepted_prediction_tokens': 0, 'audio_tokens': 0, 'reasoning_tokens': 0, 'rejected_prediction_tokens': 0}, 'prompt_tokens_details': {'audio_tokens': 0, 'cached_tokens': 0}}, 'model_name': 'gpt-3.5-turbo', 'system_fingerprint': None, 'finish_reason': 'tool_calls', 'logprobs': None}, id='run-c597f6ae-656c-46ad-9c2e-39925bdc92dc-0', tool_calls=[{'name': 'tavily_search_results_json', 'args': {'query': 'current weather in Los Angeles'}, 'id': 'call_l4fIPZ4XQu3pfiqcMt9VnswN', 'type': 'tool_call'}])]}\n"
     ]
    }
   ],
   "source": [
    "for event in abot.graph.stream(None, thread):\n",
    "    for v in event.values():\n",
    "        print(v)"
   ]
  },
  {
   "cell_type": "markdown",
   "id": "9dee0b9e-af6e-4a46-b8b0-272f810b88a7",
   "metadata": {},
   "source": [
    "## Time Travel"
   ]
  },
  {
   "cell_type": "code",
   "execution_count": 57,
   "id": "7fd37cae-b90f-464a-9a80-dfed602a2fb7",
   "metadata": {},
   "outputs": [
    {
     "name": "stdout",
     "output_type": "stream",
     "text": [
      "StateSnapshot(values={'messages': [HumanMessage(content='Whats the weather in LA?', id='e94d5a72-a86f-4574-8753-96bab397bd89'), AIMessage(content='', additional_kwargs={'tool_calls': [{'function': {'arguments': '{\"query\":\"weather in Los Angeles\"}', 'name': 'tavily_search_results_json'}, 'id': 'call_cTJ4iPAwyIRAxWlg89YwVkX2', 'type': 'function'}]}, response_metadata={'finish_reason': 'tool_calls', 'logprobs': None, 'model_name': 'gpt-3.5-turbo', 'system_fingerprint': None, 'token_usage': {'completion_tokens': 22, 'completion_tokens_details': {'accepted_prediction_tokens': 0, 'audio_tokens': 0, 'reasoning_tokens': 0, 'rejected_prediction_tokens': 0}, 'prompt_tokens': 152, 'prompt_tokens_details': {'audio_tokens': 0, 'cached_tokens': 0}, 'total_tokens': 174}}, id='run-d411ea9b-ab92-4abb-9cfd-bac3873b103d-0', tool_calls=[{'name': 'tavily_search_results_json', 'args': {'query': 'current weather in Louisiana'}, 'id': 'call_cTJ4iPAwyIRAxWlg89YwVkX2', 'type': 'tool_call'}]), ToolMessage(content='[{\\'url\\': \\'https://www.weatherapi.com/\\', \\'content\\': \"{\\'location\\': {\\'name\\': \\'Louisiana\\', \\'region\\': \\'Missouri\\', \\'country\\': \\'USA United States of America\\', \\'lat\\': 39.4411, \\'lon\\': -91.0551, \\'tz_id\\': \\'America/Chicago\\', \\'localtime_epoch\\': 1744750826, \\'localtime\\': \\'2025-04-15 16:00\\'}, \\'current\\': {\\'last_updated_epoch\\': 1744750800, \\'last_updated\\': \\'2025-04-15 16:00\\', \\'temp_c\\': 15.3, \\'temp_f\\': 59.5, \\'is_day\\': 1, \\'condition\\': {\\'text\\': \\'Sunny\\', \\'icon\\': \\'//cdn.weatherapi.com/weather/64x64/day/113.png\\', \\'code\\': 1000}, \\'wind_mph\\': 17.0, \\'wind_kph\\': 27.4, \\'wind_degree\\': 307, \\'wind_dir\\': \\'NW\\', \\'pressure_mb\\': 1020.0, \\'pressure_in\\': 30.13, \\'precip_mm\\': 0.0, \\'precip_in\\': 0.0, \\'humidity\\': 33, \\'cloud\\': 0, \\'feelslike_c\\': 15.3, \\'feelslike_f\\': 59.5, \\'windchill_c\\': 16.3, \\'windchill_f\\': 61.4, \\'heatindex_c\\': 16.5, \\'heatindex_f\\': 61.7, \\'dewpoint_c\\': 2.8, \\'dewpoint_f\\': 37.1, \\'vis_km\\': 16.0, \\'vis_miles\\': 9.0, \\'uv\\': 3.5, \\'gust_mph\\': 21.2, \\'gust_kph\\': 34.1}}\"}, {\\'url\\': \\'https://en.climate-data.org/north-america/united-states-of-america/louisiana-943/r/april-4/\\', \\'content\\': \\'15. April | 19 °C | 66 °F | 24 °C | 75 °F | 15 °C | 58 °F | 5.8 mm | 0.2 inch.\\\\n16. April | 19 °C | 66 °F | 24 °C | 75 °F | 14 °C | 58 °F | 2.7 mm | 0.1 inch.\\\\n17. April | 19 °C | 67 °F | 24 °C | 76 °F | 15 °C | 59 °F | 2.8 mm | 0.1 inch.\\\\n18. April | 20 °C | 68 °F | 24 °C | 76 °F | 16 °C | 61 °F | 2.7 mm | 0.1 inch.\\\\n19. April | 20 °C | 68 °F | 25 °C | 77 °F | 16 °C | 61 °F | 3.7 mm | 0.1 inch.\\\\n20. April | 20 °C | 69 °F | 25 °C | 78 °F | 16 °C | 61 °F | 2.5 mm | 0.1 inch. [...] 15. April | 19 °C | 66 °F | 24 °C | 75 °F | 14 °C | 58 °F | 4.8 mm | 0.2 inch.\\\\n16. April | 19 °C | 66 °F | 24 °C | 75 °F | 14 °C | 57 °F | 2.6 mm | 0.1 inch.\\\\n17. April | 19 °C | 66 °F | 25 °C | 76 °F | 14 °C | 58 °F | 1.8 mm | 0.1 inch.\\\\n18. April | 19 °C | 67 °F | 25 °C | 76 °F | 15 °C | 59 °F | 3.5 mm | 0.1 inch.\\\\n19. April | 20 °C | 68 °F | 25 °C | 78 °F | 15 °C | 60 °F | 4.2 mm | 0.2 inch.\\\\n20. April | 20 °C | 68 °F | 26 °C | 78 °F | 16 °C | 60 °F | 1.6 mm | 0.1 inch. [...] 18.4 °C\\\\n\\\\n(65.1) °F\\\\n\\\\n21.7 °C\\\\n\\\\n(71.1) °F\\\\n\\\\n25.3 °C\\\\n\\\\n(77.5) °F\\\\n\\\\n28.9 °C\\\\n\\\\n(84) °F\\\\n\\\\n31.2 °C\\\\n\\\\n(88.2) °F\\\\n\\\\n31.8 °C\\\\n\\\\n(89.2) °F\\\\n\\\\n32.5 °C\\\\n\\\\n(90.6) °F\\\\n\\\\n30.4 °C\\\\n\\\\n(86.6) °F\\\\n\\\\n26.6 °C\\\\n\\\\n(80) °F\\\\n\\\\n21.4 °C\\\\n\\\\n(70.5) °F\\\\n\\\\n17.4 °C\\\\n\\\\n(63.3) °F\\\\n\\\\n134\\\\n\\\\n(5)\\\\n\\\\n100\\\\n\\\\n(3)\\\\n\\\\n109\\\\n\\\\n(4)\\\\n\\\\n120\\\\n\\\\n(4)\\\\n\\\\n108\\\\n\\\\n(4)\\\\n\\\\n136\\\\n\\\\n(5)\\\\n\\\\n119\\\\n\\\\n(4)\\\\n\\\\n119\\\\n\\\\n(4)\\\\n\\\\n124\\\\n\\\\n(4)\\\\n\\\\n94\\\\n\\\\n(3)\\\\n\\\\n110\\\\n\\\\n(4)\\\\n\\\\n123\\\\n\\\\n(4)\\'}]', name='tavily_search_results_json', id='d742f307-8856-4e3a-b0f1-e0e3ad412d8d', tool_call_id='call_cTJ4iPAwyIRAxWlg89YwVkX2'), AIMessage(content='I found information about the current weather in Louisiana, not Los Angeles. Would you like me to look up the weather in Los Angeles instead?', response_metadata={'finish_reason': 'stop', 'logprobs': None, 'model_name': 'gpt-3.5-turbo', 'system_fingerprint': None, 'token_usage': {'completion_tokens': 30, 'completion_tokens_details': {'accepted_prediction_tokens': 0, 'audio_tokens': 0, 'reasoning_tokens': 0, 'rejected_prediction_tokens': 0}, 'prompt_tokens': 1465, 'prompt_tokens_details': {'audio_tokens': 0, 'cached_tokens': 0}, 'total_tokens': 1495}}, id='run-3a64b6e5-2a00-426d-afd8-6ec7debb39d4-0'), HumanMessage(content='Whats the weather in LA?', id='2f55f066-c464-4a64-aa9d-07f6e46c00ab'), AIMessage(content='', additional_kwargs={'tool_calls': [{'function': {'arguments': '{\"query\":\"current weather in Los Angeles\"}', 'name': 'tavily_search_results_json'}, 'id': 'call_S93G86H9y1cJimSCljbH4Nq1', 'type': 'function'}]}, response_metadata={'finish_reason': 'tool_calls', 'logprobs': None, 'model_name': 'gpt-3.5-turbo', 'system_fingerprint': None, 'token_usage': {'completion_tokens': 23, 'completion_tokens_details': {'accepted_prediction_tokens': 0, 'audio_tokens': 0, 'reasoning_tokens': 0, 'rejected_prediction_tokens': 0}, 'prompt_tokens': 1507, 'prompt_tokens_details': {'audio_tokens': 0, 'cached_tokens': 0}, 'total_tokens': 1530}}, id='run-a25906e6-fce6-4011-9fa5-a0ea4c00bf1e-0', tool_calls=[{'name': 'tavily_search_results_json', 'args': {'query': 'current weather in Louisiana'}, 'id': 'call_S93G86H9y1cJimSCljbH4Nq1', 'type': 'tool_call'}]), ToolMessage(content='[{\\'url\\': \\'https://www.weatherapi.com/\\', \\'content\\': \"{\\'location\\': {\\'name\\': \\'Louisiana\\', \\'region\\': \\'Missouri\\', \\'country\\': \\'USA United States of America\\', \\'lat\\': 39.4411, \\'lon\\': -91.0551, \\'tz_id\\': \\'America/Chicago\\', \\'localtime_epoch\\': 1744750826, \\'localtime\\': \\'2025-04-15 16:00\\'}, \\'current\\': {\\'last_updated_epoch\\': 1744750800, \\'last_updated\\': \\'2025-04-15 16:00\\', \\'temp_c\\': 15.3, \\'temp_f\\': 59.5, \\'is_day\\': 1, \\'condition\\': {\\'text\\': \\'Sunny\\', \\'icon\\': \\'//cdn.weatherapi.com/weather/64x64/day/113.png\\', \\'code\\': 1000}, \\'wind_mph\\': 17.0, \\'wind_kph\\': 27.4, \\'wind_degree\\': 307, \\'wind_dir\\': \\'NW\\', \\'pressure_mb\\': 1020.0, \\'pressure_in\\': 30.13, \\'precip_mm\\': 0.0, \\'precip_in\\': 0.0, \\'humidity\\': 33, \\'cloud\\': 0, \\'feelslike_c\\': 15.3, \\'feelslike_f\\': 59.5, \\'windchill_c\\': 16.3, \\'windchill_f\\': 61.4, \\'heatindex_c\\': 16.5, \\'heatindex_f\\': 61.7, \\'dewpoint_c\\': 2.8, \\'dewpoint_f\\': 37.1, \\'vis_km\\': 16.0, \\'vis_miles\\': 9.0, \\'uv\\': 3.5, \\'gust_mph\\': 21.2, \\'gust_kph\\': 34.1}}\"}, {\\'url\\': \\'https://en.climate-data.org/north-america/united-states-of-america/louisiana-943/r/april-4/\\', \\'content\\': \\'15. April | 19 °C | 66 °F | 24 °C | 75 °F | 15 °C | 58 °F | 5.8 mm | 0.2 inch.\\\\n16. April | 19 °C | 66 °F | 24 °C | 75 °F | 14 °C | 58 °F | 2.7 mm | 0.1 inch.\\\\n17. April | 19 °C | 67 °F | 24 °C | 76 °F | 15 °C | 59 °F | 2.8 mm | 0.1 inch.\\\\n18. April | 20 °C | 68 °F | 24 °C | 76 °F | 16 °C | 61 °F | 2.7 mm | 0.1 inch.\\\\n19. April | 20 °C | 68 °F | 25 °C | 77 °F | 16 °C | 61 °F | 3.7 mm | 0.1 inch.\\\\n20. April | 20 °C | 69 °F | 25 °C | 78 °F | 16 °C | 61 °F | 2.5 mm | 0.1 inch. [...] 15. April | 19 °C | 66 °F | 24 °C | 75 °F | 14 °C | 58 °F | 4.8 mm | 0.2 inch.\\\\n16. April | 19 °C | 66 °F | 24 °C | 75 °F | 14 °C | 57 °F | 2.6 mm | 0.1 inch.\\\\n17. April | 19 °C | 66 °F | 25 °C | 76 °F | 14 °C | 58 °F | 1.8 mm | 0.1 inch.\\\\n18. April | 19 °C | 67 °F | 25 °C | 76 °F | 15 °C | 59 °F | 3.5 mm | 0.1 inch.\\\\n19. April | 20 °C | 68 °F | 25 °C | 78 °F | 15 °C | 60 °F | 4.2 mm | 0.2 inch.\\\\n20. April | 20 °C | 68 °F | 26 °C | 78 °F | 16 °C | 60 °F | 1.6 mm | 0.1 inch. [...] 18.4 °C\\\\n\\\\n(65.1) °F\\\\n\\\\n21.7 °C\\\\n\\\\n(71.1) °F\\\\n\\\\n25.3 °C\\\\n\\\\n(77.5) °F\\\\n\\\\n28.9 °C\\\\n\\\\n(84) °F\\\\n\\\\n31.2 °C\\\\n\\\\n(88.2) °F\\\\n\\\\n31.8 °C\\\\n\\\\n(89.2) °F\\\\n\\\\n32.5 °C\\\\n\\\\n(90.6) °F\\\\n\\\\n30.4 °C\\\\n\\\\n(86.6) °F\\\\n\\\\n26.6 °C\\\\n\\\\n(80) °F\\\\n\\\\n21.4 °C\\\\n\\\\n(70.5) °F\\\\n\\\\n17.4 °C\\\\n\\\\n(63.3) °F\\\\n\\\\n134\\\\n\\\\n(5)\\\\n\\\\n100\\\\n\\\\n(3)\\\\n\\\\n109\\\\n\\\\n(4)\\\\n\\\\n120\\\\n\\\\n(4)\\\\n\\\\n108\\\\n\\\\n(4)\\\\n\\\\n136\\\\n\\\\n(5)\\\\n\\\\n119\\\\n\\\\n(4)\\\\n\\\\n119\\\\n\\\\n(4)\\\\n\\\\n124\\\\n\\\\n(4)\\\\n\\\\n94\\\\n\\\\n(3)\\\\n\\\\n110\\\\n\\\\n(4)\\\\n\\\\n123\\\\n\\\\n(4)\\'}]', name='tavily_search_results_json', id='bcb82581-fdf6-4459-91e0-a123c03b7094', tool_call_id='call_S93G86H9y1cJimSCljbH4Nq1'), AIMessage(content='The search results still show information about Louisiana, not Los Angeles. Let me try again to find the weather in Los Angeles.', additional_kwargs={'tool_calls': [{'function': {'arguments': '{\"query\":\"current weather in Los Angeles\"}', 'name': 'tavily_search_results_json'}, 'id': 'call_l4fIPZ4XQu3pfiqcMt9VnswN', 'type': 'function'}]}, response_metadata={'finish_reason': 'tool_calls', 'logprobs': None, 'model_name': 'gpt-3.5-turbo', 'system_fingerprint': None, 'token_usage': {'completion_tokens': 50, 'completion_tokens_details': {'accepted_prediction_tokens': 0, 'audio_tokens': 0, 'reasoning_tokens': 0, 'rejected_prediction_tokens': 0}, 'prompt_tokens': 2820, 'prompt_tokens_details': {'audio_tokens': 0, 'cached_tokens': 0}, 'total_tokens': 2870}}, id='run-c597f6ae-656c-46ad-9c2e-39925bdc92dc-0', tool_calls=[{'name': 'tavily_search_results_json', 'args': {'query': 'current weather in Los Angeles'}, 'id': 'call_l4fIPZ4XQu3pfiqcMt9VnswN', 'type': 'tool_call'}])]}, next=('action',), config={'configurable': {'thread_id': '3', 'thread_ts': '1f01a3e1-974c-688b-800b-2ec754e9845a'}}, metadata={'source': 'loop', 'step': 11, 'writes': {'llm': {'messages': [AIMessage(content='The search results still show information about Louisiana, not Los Angeles. Let me try again to find the weather in Los Angeles.', additional_kwargs={'tool_calls': [{'function': {'arguments': '{\"query\":\"current weather in Los Angeles\"}', 'name': 'tavily_search_results_json'}, 'id': 'call_l4fIPZ4XQu3pfiqcMt9VnswN', 'type': 'function'}]}, response_metadata={'finish_reason': 'tool_calls', 'logprobs': None, 'model_name': 'gpt-3.5-turbo', 'system_fingerprint': None, 'token_usage': {'completion_tokens': 50, 'completion_tokens_details': {'accepted_prediction_tokens': 0, 'audio_tokens': 0, 'reasoning_tokens': 0, 'rejected_prediction_tokens': 0}, 'prompt_tokens': 2820, 'prompt_tokens_details': {'audio_tokens': 0, 'cached_tokens': 0}, 'total_tokens': 2870}}, id='run-c597f6ae-656c-46ad-9c2e-39925bdc92dc-0', tool_calls=[{'name': 'tavily_search_results_json', 'args': {'query': 'current weather in Los Angeles'}, 'id': 'call_l4fIPZ4XQu3pfiqcMt9VnswN', 'type': 'tool_call'}])]}}}, created_at='2025-04-15T21:10:46.586366+00:00', parent_config={'configurable': {'thread_id': '3', 'thread_ts': '1f01a3e1-8d51-6609-800a-52d331f3a714'}})\n",
      "--\n",
      "StateSnapshot(values={'messages': [HumanMessage(content='Whats the weather in LA?', id='e94d5a72-a86f-4574-8753-96bab397bd89'), AIMessage(content='', additional_kwargs={'tool_calls': [{'function': {'arguments': '{\"query\":\"weather in Los Angeles\"}', 'name': 'tavily_search_results_json'}, 'id': 'call_cTJ4iPAwyIRAxWlg89YwVkX2', 'type': 'function'}]}, response_metadata={'finish_reason': 'tool_calls', 'logprobs': None, 'model_name': 'gpt-3.5-turbo', 'system_fingerprint': None, 'token_usage': {'completion_tokens': 22, 'completion_tokens_details': {'accepted_prediction_tokens': 0, 'audio_tokens': 0, 'reasoning_tokens': 0, 'rejected_prediction_tokens': 0}, 'prompt_tokens': 152, 'prompt_tokens_details': {'audio_tokens': 0, 'cached_tokens': 0}, 'total_tokens': 174}}, id='run-d411ea9b-ab92-4abb-9cfd-bac3873b103d-0', tool_calls=[{'name': 'tavily_search_results_json', 'args': {'query': 'current weather in Louisiana'}, 'id': 'call_cTJ4iPAwyIRAxWlg89YwVkX2', 'type': 'tool_call'}]), ToolMessage(content='[{\\'url\\': \\'https://www.weatherapi.com/\\', \\'content\\': \"{\\'location\\': {\\'name\\': \\'Louisiana\\', \\'region\\': \\'Missouri\\', \\'country\\': \\'USA United States of America\\', \\'lat\\': 39.4411, \\'lon\\': -91.0551, \\'tz_id\\': \\'America/Chicago\\', \\'localtime_epoch\\': 1744750826, \\'localtime\\': \\'2025-04-15 16:00\\'}, \\'current\\': {\\'last_updated_epoch\\': 1744750800, \\'last_updated\\': \\'2025-04-15 16:00\\', \\'temp_c\\': 15.3, \\'temp_f\\': 59.5, \\'is_day\\': 1, \\'condition\\': {\\'text\\': \\'Sunny\\', \\'icon\\': \\'//cdn.weatherapi.com/weather/64x64/day/113.png\\', \\'code\\': 1000}, \\'wind_mph\\': 17.0, \\'wind_kph\\': 27.4, \\'wind_degree\\': 307, \\'wind_dir\\': \\'NW\\', \\'pressure_mb\\': 1020.0, \\'pressure_in\\': 30.13, \\'precip_mm\\': 0.0, \\'precip_in\\': 0.0, \\'humidity\\': 33, \\'cloud\\': 0, \\'feelslike_c\\': 15.3, \\'feelslike_f\\': 59.5, \\'windchill_c\\': 16.3, \\'windchill_f\\': 61.4, \\'heatindex_c\\': 16.5, \\'heatindex_f\\': 61.7, \\'dewpoint_c\\': 2.8, \\'dewpoint_f\\': 37.1, \\'vis_km\\': 16.0, \\'vis_miles\\': 9.0, \\'uv\\': 3.5, \\'gust_mph\\': 21.2, \\'gust_kph\\': 34.1}}\"}, {\\'url\\': \\'https://en.climate-data.org/north-america/united-states-of-america/louisiana-943/r/april-4/\\', \\'content\\': \\'15. April | 19 °C | 66 °F | 24 °C | 75 °F | 15 °C | 58 °F | 5.8 mm | 0.2 inch.\\\\n16. April | 19 °C | 66 °F | 24 °C | 75 °F | 14 °C | 58 °F | 2.7 mm | 0.1 inch.\\\\n17. April | 19 °C | 67 °F | 24 °C | 76 °F | 15 °C | 59 °F | 2.8 mm | 0.1 inch.\\\\n18. April | 20 °C | 68 °F | 24 °C | 76 °F | 16 °C | 61 °F | 2.7 mm | 0.1 inch.\\\\n19. April | 20 °C | 68 °F | 25 °C | 77 °F | 16 °C | 61 °F | 3.7 mm | 0.1 inch.\\\\n20. April | 20 °C | 69 °F | 25 °C | 78 °F | 16 °C | 61 °F | 2.5 mm | 0.1 inch. [...] 15. April | 19 °C | 66 °F | 24 °C | 75 °F | 14 °C | 58 °F | 4.8 mm | 0.2 inch.\\\\n16. April | 19 °C | 66 °F | 24 °C | 75 °F | 14 °C | 57 °F | 2.6 mm | 0.1 inch.\\\\n17. April | 19 °C | 66 °F | 25 °C | 76 °F | 14 °C | 58 °F | 1.8 mm | 0.1 inch.\\\\n18. April | 19 °C | 67 °F | 25 °C | 76 °F | 15 °C | 59 °F | 3.5 mm | 0.1 inch.\\\\n19. April | 20 °C | 68 °F | 25 °C | 78 °F | 15 °C | 60 °F | 4.2 mm | 0.2 inch.\\\\n20. April | 20 °C | 68 °F | 26 °C | 78 °F | 16 °C | 60 °F | 1.6 mm | 0.1 inch. [...] 18.4 °C\\\\n\\\\n(65.1) °F\\\\n\\\\n21.7 °C\\\\n\\\\n(71.1) °F\\\\n\\\\n25.3 °C\\\\n\\\\n(77.5) °F\\\\n\\\\n28.9 °C\\\\n\\\\n(84) °F\\\\n\\\\n31.2 °C\\\\n\\\\n(88.2) °F\\\\n\\\\n31.8 °C\\\\n\\\\n(89.2) °F\\\\n\\\\n32.5 °C\\\\n\\\\n(90.6) °F\\\\n\\\\n30.4 °C\\\\n\\\\n(86.6) °F\\\\n\\\\n26.6 °C\\\\n\\\\n(80) °F\\\\n\\\\n21.4 °C\\\\n\\\\n(70.5) °F\\\\n\\\\n17.4 °C\\\\n\\\\n(63.3) °F\\\\n\\\\n134\\\\n\\\\n(5)\\\\n\\\\n100\\\\n\\\\n(3)\\\\n\\\\n109\\\\n\\\\n(4)\\\\n\\\\n120\\\\n\\\\n(4)\\\\n\\\\n108\\\\n\\\\n(4)\\\\n\\\\n136\\\\n\\\\n(5)\\\\n\\\\n119\\\\n\\\\n(4)\\\\n\\\\n119\\\\n\\\\n(4)\\\\n\\\\n124\\\\n\\\\n(4)\\\\n\\\\n94\\\\n\\\\n(3)\\\\n\\\\n110\\\\n\\\\n(4)\\\\n\\\\n123\\\\n\\\\n(4)\\'}]', name='tavily_search_results_json', id='d742f307-8856-4e3a-b0f1-e0e3ad412d8d', tool_call_id='call_cTJ4iPAwyIRAxWlg89YwVkX2'), AIMessage(content='I found information about the current weather in Louisiana, not Los Angeles. Would you like me to look up the weather in Los Angeles instead?', response_metadata={'finish_reason': 'stop', 'logprobs': None, 'model_name': 'gpt-3.5-turbo', 'system_fingerprint': None, 'token_usage': {'completion_tokens': 30, 'completion_tokens_details': {'accepted_prediction_tokens': 0, 'audio_tokens': 0, 'reasoning_tokens': 0, 'rejected_prediction_tokens': 0}, 'prompt_tokens': 1465, 'prompt_tokens_details': {'audio_tokens': 0, 'cached_tokens': 0}, 'total_tokens': 1495}}, id='run-3a64b6e5-2a00-426d-afd8-6ec7debb39d4-0'), HumanMessage(content='Whats the weather in LA?', id='2f55f066-c464-4a64-aa9d-07f6e46c00ab'), AIMessage(content='', additional_kwargs={'tool_calls': [{'function': {'arguments': '{\"query\":\"current weather in Los Angeles\"}', 'name': 'tavily_search_results_json'}, 'id': 'call_S93G86H9y1cJimSCljbH4Nq1', 'type': 'function'}]}, response_metadata={'finish_reason': 'tool_calls', 'logprobs': None, 'model_name': 'gpt-3.5-turbo', 'system_fingerprint': None, 'token_usage': {'completion_tokens': 23, 'completion_tokens_details': {'accepted_prediction_tokens': 0, 'audio_tokens': 0, 'reasoning_tokens': 0, 'rejected_prediction_tokens': 0}, 'prompt_tokens': 1507, 'prompt_tokens_details': {'audio_tokens': 0, 'cached_tokens': 0}, 'total_tokens': 1530}}, id='run-a25906e6-fce6-4011-9fa5-a0ea4c00bf1e-0', tool_calls=[{'name': 'tavily_search_results_json', 'args': {'query': 'current weather in Louisiana'}, 'id': 'call_S93G86H9y1cJimSCljbH4Nq1', 'type': 'tool_call'}]), ToolMessage(content='[{\\'url\\': \\'https://www.weatherapi.com/\\', \\'content\\': \"{\\'location\\': {\\'name\\': \\'Louisiana\\', \\'region\\': \\'Missouri\\', \\'country\\': \\'USA United States of America\\', \\'lat\\': 39.4411, \\'lon\\': -91.0551, \\'tz_id\\': \\'America/Chicago\\', \\'localtime_epoch\\': 1744750826, \\'localtime\\': \\'2025-04-15 16:00\\'}, \\'current\\': {\\'last_updated_epoch\\': 1744750800, \\'last_updated\\': \\'2025-04-15 16:00\\', \\'temp_c\\': 15.3, \\'temp_f\\': 59.5, \\'is_day\\': 1, \\'condition\\': {\\'text\\': \\'Sunny\\', \\'icon\\': \\'//cdn.weatherapi.com/weather/64x64/day/113.png\\', \\'code\\': 1000}, \\'wind_mph\\': 17.0, \\'wind_kph\\': 27.4, \\'wind_degree\\': 307, \\'wind_dir\\': \\'NW\\', \\'pressure_mb\\': 1020.0, \\'pressure_in\\': 30.13, \\'precip_mm\\': 0.0, \\'precip_in\\': 0.0, \\'humidity\\': 33, \\'cloud\\': 0, \\'feelslike_c\\': 15.3, \\'feelslike_f\\': 59.5, \\'windchill_c\\': 16.3, \\'windchill_f\\': 61.4, \\'heatindex_c\\': 16.5, \\'heatindex_f\\': 61.7, \\'dewpoint_c\\': 2.8, \\'dewpoint_f\\': 37.1, \\'vis_km\\': 16.0, \\'vis_miles\\': 9.0, \\'uv\\': 3.5, \\'gust_mph\\': 21.2, \\'gust_kph\\': 34.1}}\"}, {\\'url\\': \\'https://en.climate-data.org/north-america/united-states-of-america/louisiana-943/r/april-4/\\', \\'content\\': \\'15. April | 19 °C | 66 °F | 24 °C | 75 °F | 15 °C | 58 °F | 5.8 mm | 0.2 inch.\\\\n16. April | 19 °C | 66 °F | 24 °C | 75 °F | 14 °C | 58 °F | 2.7 mm | 0.1 inch.\\\\n17. April | 19 °C | 67 °F | 24 °C | 76 °F | 15 °C | 59 °F | 2.8 mm | 0.1 inch.\\\\n18. April | 20 °C | 68 °F | 24 °C | 76 °F | 16 °C | 61 °F | 2.7 mm | 0.1 inch.\\\\n19. April | 20 °C | 68 °F | 25 °C | 77 °F | 16 °C | 61 °F | 3.7 mm | 0.1 inch.\\\\n20. April | 20 °C | 69 °F | 25 °C | 78 °F | 16 °C | 61 °F | 2.5 mm | 0.1 inch. [...] 15. April | 19 °C | 66 °F | 24 °C | 75 °F | 14 °C | 58 °F | 4.8 mm | 0.2 inch.\\\\n16. April | 19 °C | 66 °F | 24 °C | 75 °F | 14 °C | 57 °F | 2.6 mm | 0.1 inch.\\\\n17. April | 19 °C | 66 °F | 25 °C | 76 °F | 14 °C | 58 °F | 1.8 mm | 0.1 inch.\\\\n18. April | 19 °C | 67 °F | 25 °C | 76 °F | 15 °C | 59 °F | 3.5 mm | 0.1 inch.\\\\n19. April | 20 °C | 68 °F | 25 °C | 78 °F | 15 °C | 60 °F | 4.2 mm | 0.2 inch.\\\\n20. April | 20 °C | 68 °F | 26 °C | 78 °F | 16 °C | 60 °F | 1.6 mm | 0.1 inch. [...] 18.4 °C\\\\n\\\\n(65.1) °F\\\\n\\\\n21.7 °C\\\\n\\\\n(71.1) °F\\\\n\\\\n25.3 °C\\\\n\\\\n(77.5) °F\\\\n\\\\n28.9 °C\\\\n\\\\n(84) °F\\\\n\\\\n31.2 °C\\\\n\\\\n(88.2) °F\\\\n\\\\n31.8 °C\\\\n\\\\n(89.2) °F\\\\n\\\\n32.5 °C\\\\n\\\\n(90.6) °F\\\\n\\\\n30.4 °C\\\\n\\\\n(86.6) °F\\\\n\\\\n26.6 °C\\\\n\\\\n(80) °F\\\\n\\\\n21.4 °C\\\\n\\\\n(70.5) °F\\\\n\\\\n17.4 °C\\\\n\\\\n(63.3) °F\\\\n\\\\n134\\\\n\\\\n(5)\\\\n\\\\n100\\\\n\\\\n(3)\\\\n\\\\n109\\\\n\\\\n(4)\\\\n\\\\n120\\\\n\\\\n(4)\\\\n\\\\n108\\\\n\\\\n(4)\\\\n\\\\n136\\\\n\\\\n(5)\\\\n\\\\n119\\\\n\\\\n(4)\\\\n\\\\n119\\\\n\\\\n(4)\\\\n\\\\n124\\\\n\\\\n(4)\\\\n\\\\n94\\\\n\\\\n(3)\\\\n\\\\n110\\\\n\\\\n(4)\\\\n\\\\n123\\\\n\\\\n(4)\\'}]', name='tavily_search_results_json', id='bcb82581-fdf6-4459-91e0-a123c03b7094', tool_call_id='call_S93G86H9y1cJimSCljbH4Nq1')]}, next=('llm',), config={'configurable': {'thread_id': '3', 'thread_ts': '1f01a3e1-8d51-6609-800a-52d331f3a714'}}, metadata={'source': 'loop', 'step': 10, 'writes': {'action': {'messages': [ToolMessage(content='[{\\'url\\': \\'https://www.weatherapi.com/\\', \\'content\\': \"{\\'location\\': {\\'name\\': \\'Louisiana\\', \\'region\\': \\'Missouri\\', \\'country\\': \\'USA United States of America\\', \\'lat\\': 39.4411, \\'lon\\': -91.0551, \\'tz_id\\': \\'America/Chicago\\', \\'localtime_epoch\\': 1744750826, \\'localtime\\': \\'2025-04-15 16:00\\'}, \\'current\\': {\\'last_updated_epoch\\': 1744750800, \\'last_updated\\': \\'2025-04-15 16:00\\', \\'temp_c\\': 15.3, \\'temp_f\\': 59.5, \\'is_day\\': 1, \\'condition\\': {\\'text\\': \\'Sunny\\', \\'icon\\': \\'//cdn.weatherapi.com/weather/64x64/day/113.png\\', \\'code\\': 1000}, \\'wind_mph\\': 17.0, \\'wind_kph\\': 27.4, \\'wind_degree\\': 307, \\'wind_dir\\': \\'NW\\', \\'pressure_mb\\': 1020.0, \\'pressure_in\\': 30.13, \\'precip_mm\\': 0.0, \\'precip_in\\': 0.0, \\'humidity\\': 33, \\'cloud\\': 0, \\'feelslike_c\\': 15.3, \\'feelslike_f\\': 59.5, \\'windchill_c\\': 16.3, \\'windchill_f\\': 61.4, \\'heatindex_c\\': 16.5, \\'heatindex_f\\': 61.7, \\'dewpoint_c\\': 2.8, \\'dewpoint_f\\': 37.1, \\'vis_km\\': 16.0, \\'vis_miles\\': 9.0, \\'uv\\': 3.5, \\'gust_mph\\': 21.2, \\'gust_kph\\': 34.1}}\"}, {\\'url\\': \\'https://en.climate-data.org/north-america/united-states-of-america/louisiana-943/r/april-4/\\', \\'content\\': \\'15. April | 19 °C | 66 °F | 24 °C | 75 °F | 15 °C | 58 °F | 5.8 mm | 0.2 inch.\\\\n16. April | 19 °C | 66 °F | 24 °C | 75 °F | 14 °C | 58 °F | 2.7 mm | 0.1 inch.\\\\n17. April | 19 °C | 67 °F | 24 °C | 76 °F | 15 °C | 59 °F | 2.8 mm | 0.1 inch.\\\\n18. April | 20 °C | 68 °F | 24 °C | 76 °F | 16 °C | 61 °F | 2.7 mm | 0.1 inch.\\\\n19. April | 20 °C | 68 °F | 25 °C | 77 °F | 16 °C | 61 °F | 3.7 mm | 0.1 inch.\\\\n20. April | 20 °C | 69 °F | 25 °C | 78 °F | 16 °C | 61 °F | 2.5 mm | 0.1 inch. [...] 15. April | 19 °C | 66 °F | 24 °C | 75 °F | 14 °C | 58 °F | 4.8 mm | 0.2 inch.\\\\n16. April | 19 °C | 66 °F | 24 °C | 75 °F | 14 °C | 57 °F | 2.6 mm | 0.1 inch.\\\\n17. April | 19 °C | 66 °F | 25 °C | 76 °F | 14 °C | 58 °F | 1.8 mm | 0.1 inch.\\\\n18. April | 19 °C | 67 °F | 25 °C | 76 °F | 15 °C | 59 °F | 3.5 mm | 0.1 inch.\\\\n19. April | 20 °C | 68 °F | 25 °C | 78 °F | 15 °C | 60 °F | 4.2 mm | 0.2 inch.\\\\n20. April | 20 °C | 68 °F | 26 °C | 78 °F | 16 °C | 60 °F | 1.6 mm | 0.1 inch. [...] 18.4 °C\\\\n\\\\n(65.1) °F\\\\n\\\\n21.7 °C\\\\n\\\\n(71.1) °F\\\\n\\\\n25.3 °C\\\\n\\\\n(77.5) °F\\\\n\\\\n28.9 °C\\\\n\\\\n(84) °F\\\\n\\\\n31.2 °C\\\\n\\\\n(88.2) °F\\\\n\\\\n31.8 °C\\\\n\\\\n(89.2) °F\\\\n\\\\n32.5 °C\\\\n\\\\n(90.6) °F\\\\n\\\\n30.4 °C\\\\n\\\\n(86.6) °F\\\\n\\\\n26.6 °C\\\\n\\\\n(80) °F\\\\n\\\\n21.4 °C\\\\n\\\\n(70.5) °F\\\\n\\\\n17.4 °C\\\\n\\\\n(63.3) °F\\\\n\\\\n134\\\\n\\\\n(5)\\\\n\\\\n100\\\\n\\\\n(3)\\\\n\\\\n109\\\\n\\\\n(4)\\\\n\\\\n120\\\\n\\\\n(4)\\\\n\\\\n108\\\\n\\\\n(4)\\\\n\\\\n136\\\\n\\\\n(5)\\\\n\\\\n119\\\\n\\\\n(4)\\\\n\\\\n119\\\\n\\\\n(4)\\\\n\\\\n124\\\\n\\\\n(4)\\\\n\\\\n94\\\\n\\\\n(3)\\\\n\\\\n110\\\\n\\\\n(4)\\\\n\\\\n123\\\\n\\\\n(4)\\'}]', name='tavily_search_results_json', id='bcb82581-fdf6-4459-91e0-a123c03b7094', tool_call_id='call_S93G86H9y1cJimSCljbH4Nq1')]}}}, created_at='2025-04-15T21:10:45.539763+00:00', parent_config={'configurable': {'thread_id': '3', 'thread_ts': '1f01a3df-b066-6d0a-8009-f5923980afb2'}})\n",
      "--\n",
      "StateSnapshot(values={'messages': [HumanMessage(content='Whats the weather in LA?', id='e94d5a72-a86f-4574-8753-96bab397bd89'), AIMessage(content='', additional_kwargs={'tool_calls': [{'function': {'arguments': '{\"query\":\"weather in Los Angeles\"}', 'name': 'tavily_search_results_json'}, 'id': 'call_cTJ4iPAwyIRAxWlg89YwVkX2', 'type': 'function'}]}, response_metadata={'finish_reason': 'tool_calls', 'logprobs': None, 'model_name': 'gpt-3.5-turbo', 'system_fingerprint': None, 'token_usage': {'completion_tokens': 22, 'completion_tokens_details': {'accepted_prediction_tokens': 0, 'audio_tokens': 0, 'reasoning_tokens': 0, 'rejected_prediction_tokens': 0}, 'prompt_tokens': 152, 'prompt_tokens_details': {'audio_tokens': 0, 'cached_tokens': 0}, 'total_tokens': 174}}, id='run-d411ea9b-ab92-4abb-9cfd-bac3873b103d-0', tool_calls=[{'name': 'tavily_search_results_json', 'args': {'query': 'current weather in Louisiana'}, 'id': 'call_cTJ4iPAwyIRAxWlg89YwVkX2', 'type': 'tool_call'}]), ToolMessage(content='[{\\'url\\': \\'https://www.weatherapi.com/\\', \\'content\\': \"{\\'location\\': {\\'name\\': \\'Louisiana\\', \\'region\\': \\'Missouri\\', \\'country\\': \\'USA United States of America\\', \\'lat\\': 39.4411, \\'lon\\': -91.0551, \\'tz_id\\': \\'America/Chicago\\', \\'localtime_epoch\\': 1744750826, \\'localtime\\': \\'2025-04-15 16:00\\'}, \\'current\\': {\\'last_updated_epoch\\': 1744750800, \\'last_updated\\': \\'2025-04-15 16:00\\', \\'temp_c\\': 15.3, \\'temp_f\\': 59.5, \\'is_day\\': 1, \\'condition\\': {\\'text\\': \\'Sunny\\', \\'icon\\': \\'//cdn.weatherapi.com/weather/64x64/day/113.png\\', \\'code\\': 1000}, \\'wind_mph\\': 17.0, \\'wind_kph\\': 27.4, \\'wind_degree\\': 307, \\'wind_dir\\': \\'NW\\', \\'pressure_mb\\': 1020.0, \\'pressure_in\\': 30.13, \\'precip_mm\\': 0.0, \\'precip_in\\': 0.0, \\'humidity\\': 33, \\'cloud\\': 0, \\'feelslike_c\\': 15.3, \\'feelslike_f\\': 59.5, \\'windchill_c\\': 16.3, \\'windchill_f\\': 61.4, \\'heatindex_c\\': 16.5, \\'heatindex_f\\': 61.7, \\'dewpoint_c\\': 2.8, \\'dewpoint_f\\': 37.1, \\'vis_km\\': 16.0, \\'vis_miles\\': 9.0, \\'uv\\': 3.5, \\'gust_mph\\': 21.2, \\'gust_kph\\': 34.1}}\"}, {\\'url\\': \\'https://en.climate-data.org/north-america/united-states-of-america/louisiana-943/r/april-4/\\', \\'content\\': \\'15. April | 19 °C | 66 °F | 24 °C | 75 °F | 15 °C | 58 °F | 5.8 mm | 0.2 inch.\\\\n16. April | 19 °C | 66 °F | 24 °C | 75 °F | 14 °C | 58 °F | 2.7 mm | 0.1 inch.\\\\n17. April | 19 °C | 67 °F | 24 °C | 76 °F | 15 °C | 59 °F | 2.8 mm | 0.1 inch.\\\\n18. April | 20 °C | 68 °F | 24 °C | 76 °F | 16 °C | 61 °F | 2.7 mm | 0.1 inch.\\\\n19. April | 20 °C | 68 °F | 25 °C | 77 °F | 16 °C | 61 °F | 3.7 mm | 0.1 inch.\\\\n20. April | 20 °C | 69 °F | 25 °C | 78 °F | 16 °C | 61 °F | 2.5 mm | 0.1 inch. [...] 15. April | 19 °C | 66 °F | 24 °C | 75 °F | 14 °C | 58 °F | 4.8 mm | 0.2 inch.\\\\n16. April | 19 °C | 66 °F | 24 °C | 75 °F | 14 °C | 57 °F | 2.6 mm | 0.1 inch.\\\\n17. April | 19 °C | 66 °F | 25 °C | 76 °F | 14 °C | 58 °F | 1.8 mm | 0.1 inch.\\\\n18. April | 19 °C | 67 °F | 25 °C | 76 °F | 15 °C | 59 °F | 3.5 mm | 0.1 inch.\\\\n19. April | 20 °C | 68 °F | 25 °C | 78 °F | 15 °C | 60 °F | 4.2 mm | 0.2 inch.\\\\n20. April | 20 °C | 68 °F | 26 °C | 78 °F | 16 °C | 60 °F | 1.6 mm | 0.1 inch. [...] 18.4 °C\\\\n\\\\n(65.1) °F\\\\n\\\\n21.7 °C\\\\n\\\\n(71.1) °F\\\\n\\\\n25.3 °C\\\\n\\\\n(77.5) °F\\\\n\\\\n28.9 °C\\\\n\\\\n(84) °F\\\\n\\\\n31.2 °C\\\\n\\\\n(88.2) °F\\\\n\\\\n31.8 °C\\\\n\\\\n(89.2) °F\\\\n\\\\n32.5 °C\\\\n\\\\n(90.6) °F\\\\n\\\\n30.4 °C\\\\n\\\\n(86.6) °F\\\\n\\\\n26.6 °C\\\\n\\\\n(80) °F\\\\n\\\\n21.4 °C\\\\n\\\\n(70.5) °F\\\\n\\\\n17.4 °C\\\\n\\\\n(63.3) °F\\\\n\\\\n134\\\\n\\\\n(5)\\\\n\\\\n100\\\\n\\\\n(3)\\\\n\\\\n109\\\\n\\\\n(4)\\\\n\\\\n120\\\\n\\\\n(4)\\\\n\\\\n108\\\\n\\\\n(4)\\\\n\\\\n136\\\\n\\\\n(5)\\\\n\\\\n119\\\\n\\\\n(4)\\\\n\\\\n119\\\\n\\\\n(4)\\\\n\\\\n124\\\\n\\\\n(4)\\\\n\\\\n94\\\\n\\\\n(3)\\\\n\\\\n110\\\\n\\\\n(4)\\\\n\\\\n123\\\\n\\\\n(4)\\'}]', name='tavily_search_results_json', id='d742f307-8856-4e3a-b0f1-e0e3ad412d8d', tool_call_id='call_cTJ4iPAwyIRAxWlg89YwVkX2'), AIMessage(content='I found information about the current weather in Louisiana, not Los Angeles. Would you like me to look up the weather in Los Angeles instead?', response_metadata={'finish_reason': 'stop', 'logprobs': None, 'model_name': 'gpt-3.5-turbo', 'system_fingerprint': None, 'token_usage': {'completion_tokens': 30, 'completion_tokens_details': {'accepted_prediction_tokens': 0, 'audio_tokens': 0, 'reasoning_tokens': 0, 'rejected_prediction_tokens': 0}, 'prompt_tokens': 1465, 'prompt_tokens_details': {'audio_tokens': 0, 'cached_tokens': 0}, 'total_tokens': 1495}}, id='run-3a64b6e5-2a00-426d-afd8-6ec7debb39d4-0'), HumanMessage(content='Whats the weather in LA?', id='2f55f066-c464-4a64-aa9d-07f6e46c00ab'), AIMessage(content='', additional_kwargs={'tool_calls': [{'function': {'arguments': '{\"query\":\"current weather in Los Angeles\"}', 'name': 'tavily_search_results_json'}, 'id': 'call_S93G86H9y1cJimSCljbH4Nq1', 'type': 'function'}]}, response_metadata={'finish_reason': 'tool_calls', 'logprobs': None, 'model_name': 'gpt-3.5-turbo', 'system_fingerprint': None, 'token_usage': {'completion_tokens': 23, 'completion_tokens_details': {'accepted_prediction_tokens': 0, 'audio_tokens': 0, 'reasoning_tokens': 0, 'rejected_prediction_tokens': 0}, 'prompt_tokens': 1507, 'prompt_tokens_details': {'audio_tokens': 0, 'cached_tokens': 0}, 'total_tokens': 1530}}, id='run-a25906e6-fce6-4011-9fa5-a0ea4c00bf1e-0', tool_calls=[{'name': 'tavily_search_results_json', 'args': {'query': 'current weather in Louisiana'}, 'id': 'call_S93G86H9y1cJimSCljbH4Nq1', 'type': 'tool_call'}])]}, next=('action',), config={'configurable': {'thread_id': '3', 'thread_ts': '1f01a3df-b066-6d0a-8009-f5923980afb2'}}, metadata={'source': 'update', 'step': 9, 'writes': {'llm': {'messages': [HumanMessage(content='Whats the weather in LA?', id='e94d5a72-a86f-4574-8753-96bab397bd89'), AIMessage(content='', additional_kwargs={'tool_calls': [{'function': {'arguments': '{\"query\":\"weather in Los Angeles\"}', 'name': 'tavily_search_results_json'}, 'id': 'call_cTJ4iPAwyIRAxWlg89YwVkX2', 'type': 'function'}]}, response_metadata={'finish_reason': 'tool_calls', 'logprobs': None, 'model_name': 'gpt-3.5-turbo', 'system_fingerprint': None, 'token_usage': {'completion_tokens': 22, 'completion_tokens_details': {'accepted_prediction_tokens': 0, 'audio_tokens': 0, 'reasoning_tokens': 0, 'rejected_prediction_tokens': 0}, 'prompt_tokens': 152, 'prompt_tokens_details': {'audio_tokens': 0, 'cached_tokens': 0}, 'total_tokens': 174}}, id='run-d411ea9b-ab92-4abb-9cfd-bac3873b103d-0', tool_calls=[{'name': 'tavily_search_results_json', 'args': {'query': 'current weather in Louisiana'}, 'id': 'call_cTJ4iPAwyIRAxWlg89YwVkX2', 'type': 'tool_call'}]), ToolMessage(content='[{\\'url\\': \\'https://www.weatherapi.com/\\', \\'content\\': \"{\\'location\\': {\\'name\\': \\'Louisiana\\', \\'region\\': \\'Missouri\\', \\'country\\': \\'USA United States of America\\', \\'lat\\': 39.4411, \\'lon\\': -91.0551, \\'tz_id\\': \\'America/Chicago\\', \\'localtime_epoch\\': 1744750826, \\'localtime\\': \\'2025-04-15 16:00\\'}, \\'current\\': {\\'last_updated_epoch\\': 1744750800, \\'last_updated\\': \\'2025-04-15 16:00\\', \\'temp_c\\': 15.3, \\'temp_f\\': 59.5, \\'is_day\\': 1, \\'condition\\': {\\'text\\': \\'Sunny\\', \\'icon\\': \\'//cdn.weatherapi.com/weather/64x64/day/113.png\\', \\'code\\': 1000}, \\'wind_mph\\': 17.0, \\'wind_kph\\': 27.4, \\'wind_degree\\': 307, \\'wind_dir\\': \\'NW\\', \\'pressure_mb\\': 1020.0, \\'pressure_in\\': 30.13, \\'precip_mm\\': 0.0, \\'precip_in\\': 0.0, \\'humidity\\': 33, \\'cloud\\': 0, \\'feelslike_c\\': 15.3, \\'feelslike_f\\': 59.5, \\'windchill_c\\': 16.3, \\'windchill_f\\': 61.4, \\'heatindex_c\\': 16.5, \\'heatindex_f\\': 61.7, \\'dewpoint_c\\': 2.8, \\'dewpoint_f\\': 37.1, \\'vis_km\\': 16.0, \\'vis_miles\\': 9.0, \\'uv\\': 3.5, \\'gust_mph\\': 21.2, \\'gust_kph\\': 34.1}}\"}, {\\'url\\': \\'https://en.climate-data.org/north-america/united-states-of-america/louisiana-943/r/april-4/\\', \\'content\\': \\'15. April | 19 °C | 66 °F | 24 °C | 75 °F | 15 °C | 58 °F | 5.8 mm | 0.2 inch.\\\\n16. April | 19 °C | 66 °F | 24 °C | 75 °F | 14 °C | 58 °F | 2.7 mm | 0.1 inch.\\\\n17. April | 19 °C | 67 °F | 24 °C | 76 °F | 15 °C | 59 °F | 2.8 mm | 0.1 inch.\\\\n18. April | 20 °C | 68 °F | 24 °C | 76 °F | 16 °C | 61 °F | 2.7 mm | 0.1 inch.\\\\n19. April | 20 °C | 68 °F | 25 °C | 77 °F | 16 °C | 61 °F | 3.7 mm | 0.1 inch.\\\\n20. April | 20 °C | 69 °F | 25 °C | 78 °F | 16 °C | 61 °F | 2.5 mm | 0.1 inch. [...] 15. April | 19 °C | 66 °F | 24 °C | 75 °F | 14 °C | 58 °F | 4.8 mm | 0.2 inch.\\\\n16. April | 19 °C | 66 °F | 24 °C | 75 °F | 14 °C | 57 °F | 2.6 mm | 0.1 inch.\\\\n17. April | 19 °C | 66 °F | 25 °C | 76 °F | 14 °C | 58 °F | 1.8 mm | 0.1 inch.\\\\n18. April | 19 °C | 67 °F | 25 °C | 76 °F | 15 °C | 59 °F | 3.5 mm | 0.1 inch.\\\\n19. April | 20 °C | 68 °F | 25 °C | 78 °F | 15 °C | 60 °F | 4.2 mm | 0.2 inch.\\\\n20. April | 20 °C | 68 °F | 26 °C | 78 °F | 16 °C | 60 °F | 1.6 mm | 0.1 inch. [...] 18.4 °C\\\\n\\\\n(65.1) °F\\\\n\\\\n21.7 °C\\\\n\\\\n(71.1) °F\\\\n\\\\n25.3 °C\\\\n\\\\n(77.5) °F\\\\n\\\\n28.9 °C\\\\n\\\\n(84) °F\\\\n\\\\n31.2 °C\\\\n\\\\n(88.2) °F\\\\n\\\\n31.8 °C\\\\n\\\\n(89.2) °F\\\\n\\\\n32.5 °C\\\\n\\\\n(90.6) °F\\\\n\\\\n30.4 °C\\\\n\\\\n(86.6) °F\\\\n\\\\n26.6 °C\\\\n\\\\n(80) °F\\\\n\\\\n21.4 °C\\\\n\\\\n(70.5) °F\\\\n\\\\n17.4 °C\\\\n\\\\n(63.3) °F\\\\n\\\\n134\\\\n\\\\n(5)\\\\n\\\\n100\\\\n\\\\n(3)\\\\n\\\\n109\\\\n\\\\n(4)\\\\n\\\\n120\\\\n\\\\n(4)\\\\n\\\\n108\\\\n\\\\n(4)\\\\n\\\\n136\\\\n\\\\n(5)\\\\n\\\\n119\\\\n\\\\n(4)\\\\n\\\\n119\\\\n\\\\n(4)\\\\n\\\\n124\\\\n\\\\n(4)\\\\n\\\\n94\\\\n\\\\n(3)\\\\n\\\\n110\\\\n\\\\n(4)\\\\n\\\\n123\\\\n\\\\n(4)\\'}]', name='tavily_search_results_json', id='d742f307-8856-4e3a-b0f1-e0e3ad412d8d', tool_call_id='call_cTJ4iPAwyIRAxWlg89YwVkX2'), AIMessage(content='I found information about the current weather in Louisiana, not Los Angeles. Would you like me to look up the weather in Los Angeles instead?', response_metadata={'finish_reason': 'stop', 'logprobs': None, 'model_name': 'gpt-3.5-turbo', 'system_fingerprint': None, 'token_usage': {'completion_tokens': 30, 'completion_tokens_details': {'accepted_prediction_tokens': 0, 'audio_tokens': 0, 'reasoning_tokens': 0, 'rejected_prediction_tokens': 0}, 'prompt_tokens': 1465, 'prompt_tokens_details': {'audio_tokens': 0, 'cached_tokens': 0}, 'total_tokens': 1495}}, id='run-3a64b6e5-2a00-426d-afd8-6ec7debb39d4-0'), HumanMessage(content='Whats the weather in LA?', id='2f55f066-c464-4a64-aa9d-07f6e46c00ab'), AIMessage(content='', additional_kwargs={'tool_calls': [{'function': {'arguments': '{\"query\":\"current weather in Los Angeles\"}', 'name': 'tavily_search_results_json'}, 'id': 'call_S93G86H9y1cJimSCljbH4Nq1', 'type': 'function'}]}, response_metadata={'finish_reason': 'tool_calls', 'logprobs': None, 'model_name': 'gpt-3.5-turbo', 'system_fingerprint': None, 'token_usage': {'completion_tokens': 23, 'completion_tokens_details': {'accepted_prediction_tokens': 0, 'audio_tokens': 0, 'reasoning_tokens': 0, 'rejected_prediction_tokens': 0}, 'prompt_tokens': 1507, 'prompt_tokens_details': {'audio_tokens': 0, 'cached_tokens': 0}, 'total_tokens': 1530}}, id='run-a25906e6-fce6-4011-9fa5-a0ea4c00bf1e-0', tool_calls=[{'name': 'tavily_search_results_json', 'args': {'query': 'current weather in Louisiana'}, 'id': 'call_S93G86H9y1cJimSCljbH4Nq1', 'type': 'tool_call'}])]}}}, created_at='2025-04-15T21:09:55.531482+00:00', parent_config={'configurable': {'thread_id': '3', 'thread_ts': '1f01a3dd-fb45-64b5-8008-46991bb99414'}})\n",
      "--\n",
      "StateSnapshot(values={'messages': [HumanMessage(content='Whats the weather in LA?', id='e94d5a72-a86f-4574-8753-96bab397bd89'), AIMessage(content='', additional_kwargs={'tool_calls': [{'function': {'arguments': '{\"query\":\"weather in Los Angeles\"}', 'name': 'tavily_search_results_json'}, 'id': 'call_cTJ4iPAwyIRAxWlg89YwVkX2', 'type': 'function'}]}, response_metadata={'finish_reason': 'tool_calls', 'logprobs': None, 'model_name': 'gpt-3.5-turbo', 'system_fingerprint': None, 'token_usage': {'completion_tokens': 22, 'completion_tokens_details': {'accepted_prediction_tokens': 0, 'audio_tokens': 0, 'reasoning_tokens': 0, 'rejected_prediction_tokens': 0}, 'prompt_tokens': 152, 'prompt_tokens_details': {'audio_tokens': 0, 'cached_tokens': 0}, 'total_tokens': 174}}, id='run-d411ea9b-ab92-4abb-9cfd-bac3873b103d-0', tool_calls=[{'name': 'tavily_search_results_json', 'args': {'query': 'current weather in Louisiana'}, 'id': 'call_cTJ4iPAwyIRAxWlg89YwVkX2', 'type': 'tool_call'}]), ToolMessage(content='[{\\'url\\': \\'https://www.weatherapi.com/\\', \\'content\\': \"{\\'location\\': {\\'name\\': \\'Louisiana\\', \\'region\\': \\'Missouri\\', \\'country\\': \\'USA United States of America\\', \\'lat\\': 39.4411, \\'lon\\': -91.0551, \\'tz_id\\': \\'America/Chicago\\', \\'localtime_epoch\\': 1744750826, \\'localtime\\': \\'2025-04-15 16:00\\'}, \\'current\\': {\\'last_updated_epoch\\': 1744750800, \\'last_updated\\': \\'2025-04-15 16:00\\', \\'temp_c\\': 15.3, \\'temp_f\\': 59.5, \\'is_day\\': 1, \\'condition\\': {\\'text\\': \\'Sunny\\', \\'icon\\': \\'//cdn.weatherapi.com/weather/64x64/day/113.png\\', \\'code\\': 1000}, \\'wind_mph\\': 17.0, \\'wind_kph\\': 27.4, \\'wind_degree\\': 307, \\'wind_dir\\': \\'NW\\', \\'pressure_mb\\': 1020.0, \\'pressure_in\\': 30.13, \\'precip_mm\\': 0.0, \\'precip_in\\': 0.0, \\'humidity\\': 33, \\'cloud\\': 0, \\'feelslike_c\\': 15.3, \\'feelslike_f\\': 59.5, \\'windchill_c\\': 16.3, \\'windchill_f\\': 61.4, \\'heatindex_c\\': 16.5, \\'heatindex_f\\': 61.7, \\'dewpoint_c\\': 2.8, \\'dewpoint_f\\': 37.1, \\'vis_km\\': 16.0, \\'vis_miles\\': 9.0, \\'uv\\': 3.5, \\'gust_mph\\': 21.2, \\'gust_kph\\': 34.1}}\"}, {\\'url\\': \\'https://en.climate-data.org/north-america/united-states-of-america/louisiana-943/r/april-4/\\', \\'content\\': \\'15. April | 19 °C | 66 °F | 24 °C | 75 °F | 15 °C | 58 °F | 5.8 mm | 0.2 inch.\\\\n16. April | 19 °C | 66 °F | 24 °C | 75 °F | 14 °C | 58 °F | 2.7 mm | 0.1 inch.\\\\n17. April | 19 °C | 67 °F | 24 °C | 76 °F | 15 °C | 59 °F | 2.8 mm | 0.1 inch.\\\\n18. April | 20 °C | 68 °F | 24 °C | 76 °F | 16 °C | 61 °F | 2.7 mm | 0.1 inch.\\\\n19. April | 20 °C | 68 °F | 25 °C | 77 °F | 16 °C | 61 °F | 3.7 mm | 0.1 inch.\\\\n20. April | 20 °C | 69 °F | 25 °C | 78 °F | 16 °C | 61 °F | 2.5 mm | 0.1 inch. [...] 15. April | 19 °C | 66 °F | 24 °C | 75 °F | 14 °C | 58 °F | 4.8 mm | 0.2 inch.\\\\n16. April | 19 °C | 66 °F | 24 °C | 75 °F | 14 °C | 57 °F | 2.6 mm | 0.1 inch.\\\\n17. April | 19 °C | 66 °F | 25 °C | 76 °F | 14 °C | 58 °F | 1.8 mm | 0.1 inch.\\\\n18. April | 19 °C | 67 °F | 25 °C | 76 °F | 15 °C | 59 °F | 3.5 mm | 0.1 inch.\\\\n19. April | 20 °C | 68 °F | 25 °C | 78 °F | 15 °C | 60 °F | 4.2 mm | 0.2 inch.\\\\n20. April | 20 °C | 68 °F | 26 °C | 78 °F | 16 °C | 60 °F | 1.6 mm | 0.1 inch. [...] 18.4 °C\\\\n\\\\n(65.1) °F\\\\n\\\\n21.7 °C\\\\n\\\\n(71.1) °F\\\\n\\\\n25.3 °C\\\\n\\\\n(77.5) °F\\\\n\\\\n28.9 °C\\\\n\\\\n(84) °F\\\\n\\\\n31.2 °C\\\\n\\\\n(88.2) °F\\\\n\\\\n31.8 °C\\\\n\\\\n(89.2) °F\\\\n\\\\n32.5 °C\\\\n\\\\n(90.6) °F\\\\n\\\\n30.4 °C\\\\n\\\\n(86.6) °F\\\\n\\\\n26.6 °C\\\\n\\\\n(80) °F\\\\n\\\\n21.4 °C\\\\n\\\\n(70.5) °F\\\\n\\\\n17.4 °C\\\\n\\\\n(63.3) °F\\\\n\\\\n134\\\\n\\\\n(5)\\\\n\\\\n100\\\\n\\\\n(3)\\\\n\\\\n109\\\\n\\\\n(4)\\\\n\\\\n120\\\\n\\\\n(4)\\\\n\\\\n108\\\\n\\\\n(4)\\\\n\\\\n136\\\\n\\\\n(5)\\\\n\\\\n119\\\\n\\\\n(4)\\\\n\\\\n119\\\\n\\\\n(4)\\\\n\\\\n124\\\\n\\\\n(4)\\\\n\\\\n94\\\\n\\\\n(3)\\\\n\\\\n110\\\\n\\\\n(4)\\\\n\\\\n123\\\\n\\\\n(4)\\'}]', name='tavily_search_results_json', id='d742f307-8856-4e3a-b0f1-e0e3ad412d8d', tool_call_id='call_cTJ4iPAwyIRAxWlg89YwVkX2'), AIMessage(content='I found information about the current weather in Louisiana, not Los Angeles. Would you like me to look up the weather in Los Angeles instead?', response_metadata={'finish_reason': 'stop', 'logprobs': None, 'model_name': 'gpt-3.5-turbo', 'system_fingerprint': None, 'token_usage': {'completion_tokens': 30, 'completion_tokens_details': {'accepted_prediction_tokens': 0, 'audio_tokens': 0, 'reasoning_tokens': 0, 'rejected_prediction_tokens': 0}, 'prompt_tokens': 1465, 'prompt_tokens_details': {'audio_tokens': 0, 'cached_tokens': 0}, 'total_tokens': 1495}}, id='run-3a64b6e5-2a00-426d-afd8-6ec7debb39d4-0'), HumanMessage(content='Whats the weather in LA?', id='2f55f066-c464-4a64-aa9d-07f6e46c00ab'), AIMessage(content='', additional_kwargs={'tool_calls': [{'function': {'arguments': '{\"query\":\"current weather in Los Angeles\"}', 'name': 'tavily_search_results_json'}, 'id': 'call_S93G86H9y1cJimSCljbH4Nq1', 'type': 'function'}]}, response_metadata={'finish_reason': 'tool_calls', 'logprobs': None, 'model_name': 'gpt-3.5-turbo', 'system_fingerprint': None, 'token_usage': {'completion_tokens': 23, 'completion_tokens_details': {'accepted_prediction_tokens': 0, 'audio_tokens': 0, 'reasoning_tokens': 0, 'rejected_prediction_tokens': 0}, 'prompt_tokens': 1507, 'prompt_tokens_details': {'audio_tokens': 0, 'cached_tokens': 0}, 'total_tokens': 1530}}, id='run-a25906e6-fce6-4011-9fa5-a0ea4c00bf1e-0', tool_calls=[{'name': 'tavily_search_results_json', 'args': {'query': 'current weather in Los Angeles'}, 'id': 'call_S93G86H9y1cJimSCljbH4Nq1', 'type': 'tool_call'}])]}, next=('action',), config={'configurable': {'thread_id': '3', 'thread_ts': '1f01a3dd-fb45-64b5-8008-46991bb99414'}}, metadata={'source': 'loop', 'step': 8, 'writes': {'llm': {'messages': [AIMessage(content='', additional_kwargs={'tool_calls': [{'function': {'arguments': '{\"query\":\"current weather in Los Angeles\"}', 'name': 'tavily_search_results_json'}, 'id': 'call_S93G86H9y1cJimSCljbH4Nq1', 'type': 'function'}]}, response_metadata={'finish_reason': 'tool_calls', 'logprobs': None, 'model_name': 'gpt-3.5-turbo', 'system_fingerprint': None, 'token_usage': {'completion_tokens': 23, 'completion_tokens_details': {'accepted_prediction_tokens': 0, 'audio_tokens': 0, 'reasoning_tokens': 0, 'rejected_prediction_tokens': 0}, 'prompt_tokens': 1507, 'prompt_tokens_details': {'audio_tokens': 0, 'cached_tokens': 0}, 'total_tokens': 1530}}, id='run-a25906e6-fce6-4011-9fa5-a0ea4c00bf1e-0', tool_calls=[{'name': 'tavily_search_results_json', 'args': {'query': 'current weather in Los Angeles'}, 'id': 'call_S93G86H9y1cJimSCljbH4Nq1', 'type': 'tool_call'}])]}}}, created_at='2025-04-15T21:09:09.694979+00:00', parent_config={'configurable': {'thread_id': '3', 'thread_ts': '1f01a3dd-f59c-6d86-8007-67a5ba958260'}})\n",
      "--\n",
      "StateSnapshot(values={'messages': [HumanMessage(content='Whats the weather in LA?', id='e94d5a72-a86f-4574-8753-96bab397bd89'), AIMessage(content='', additional_kwargs={'tool_calls': [{'function': {'arguments': '{\"query\":\"weather in Los Angeles\"}', 'name': 'tavily_search_results_json'}, 'id': 'call_cTJ4iPAwyIRAxWlg89YwVkX2', 'type': 'function'}]}, response_metadata={'finish_reason': 'tool_calls', 'logprobs': None, 'model_name': 'gpt-3.5-turbo', 'system_fingerprint': None, 'token_usage': {'completion_tokens': 22, 'completion_tokens_details': {'accepted_prediction_tokens': 0, 'audio_tokens': 0, 'reasoning_tokens': 0, 'rejected_prediction_tokens': 0}, 'prompt_tokens': 152, 'prompt_tokens_details': {'audio_tokens': 0, 'cached_tokens': 0}, 'total_tokens': 174}}, id='run-d411ea9b-ab92-4abb-9cfd-bac3873b103d-0', tool_calls=[{'name': 'tavily_search_results_json', 'args': {'query': 'current weather in Louisiana'}, 'id': 'call_cTJ4iPAwyIRAxWlg89YwVkX2', 'type': 'tool_call'}]), ToolMessage(content='[{\\'url\\': \\'https://www.weatherapi.com/\\', \\'content\\': \"{\\'location\\': {\\'name\\': \\'Louisiana\\', \\'region\\': \\'Missouri\\', \\'country\\': \\'USA United States of America\\', \\'lat\\': 39.4411, \\'lon\\': -91.0551, \\'tz_id\\': \\'America/Chicago\\', \\'localtime_epoch\\': 1744750826, \\'localtime\\': \\'2025-04-15 16:00\\'}, \\'current\\': {\\'last_updated_epoch\\': 1744750800, \\'last_updated\\': \\'2025-04-15 16:00\\', \\'temp_c\\': 15.3, \\'temp_f\\': 59.5, \\'is_day\\': 1, \\'condition\\': {\\'text\\': \\'Sunny\\', \\'icon\\': \\'//cdn.weatherapi.com/weather/64x64/day/113.png\\', \\'code\\': 1000}, \\'wind_mph\\': 17.0, \\'wind_kph\\': 27.4, \\'wind_degree\\': 307, \\'wind_dir\\': \\'NW\\', \\'pressure_mb\\': 1020.0, \\'pressure_in\\': 30.13, \\'precip_mm\\': 0.0, \\'precip_in\\': 0.0, \\'humidity\\': 33, \\'cloud\\': 0, \\'feelslike_c\\': 15.3, \\'feelslike_f\\': 59.5, \\'windchill_c\\': 16.3, \\'windchill_f\\': 61.4, \\'heatindex_c\\': 16.5, \\'heatindex_f\\': 61.7, \\'dewpoint_c\\': 2.8, \\'dewpoint_f\\': 37.1, \\'vis_km\\': 16.0, \\'vis_miles\\': 9.0, \\'uv\\': 3.5, \\'gust_mph\\': 21.2, \\'gust_kph\\': 34.1}}\"}, {\\'url\\': \\'https://en.climate-data.org/north-america/united-states-of-america/louisiana-943/r/april-4/\\', \\'content\\': \\'15. April | 19 °C | 66 °F | 24 °C | 75 °F | 15 °C | 58 °F | 5.8 mm | 0.2 inch.\\\\n16. April | 19 °C | 66 °F | 24 °C | 75 °F | 14 °C | 58 °F | 2.7 mm | 0.1 inch.\\\\n17. April | 19 °C | 67 °F | 24 °C | 76 °F | 15 °C | 59 °F | 2.8 mm | 0.1 inch.\\\\n18. April | 20 °C | 68 °F | 24 °C | 76 °F | 16 °C | 61 °F | 2.7 mm | 0.1 inch.\\\\n19. April | 20 °C | 68 °F | 25 °C | 77 °F | 16 °C | 61 °F | 3.7 mm | 0.1 inch.\\\\n20. April | 20 °C | 69 °F | 25 °C | 78 °F | 16 °C | 61 °F | 2.5 mm | 0.1 inch. [...] 15. April | 19 °C | 66 °F | 24 °C | 75 °F | 14 °C | 58 °F | 4.8 mm | 0.2 inch.\\\\n16. April | 19 °C | 66 °F | 24 °C | 75 °F | 14 °C | 57 °F | 2.6 mm | 0.1 inch.\\\\n17. April | 19 °C | 66 °F | 25 °C | 76 °F | 14 °C | 58 °F | 1.8 mm | 0.1 inch.\\\\n18. April | 19 °C | 67 °F | 25 °C | 76 °F | 15 °C | 59 °F | 3.5 mm | 0.1 inch.\\\\n19. April | 20 °C | 68 °F | 25 °C | 78 °F | 15 °C | 60 °F | 4.2 mm | 0.2 inch.\\\\n20. April | 20 °C | 68 °F | 26 °C | 78 °F | 16 °C | 60 °F | 1.6 mm | 0.1 inch. [...] 18.4 °C\\\\n\\\\n(65.1) °F\\\\n\\\\n21.7 °C\\\\n\\\\n(71.1) °F\\\\n\\\\n25.3 °C\\\\n\\\\n(77.5) °F\\\\n\\\\n28.9 °C\\\\n\\\\n(84) °F\\\\n\\\\n31.2 °C\\\\n\\\\n(88.2) °F\\\\n\\\\n31.8 °C\\\\n\\\\n(89.2) °F\\\\n\\\\n32.5 °C\\\\n\\\\n(90.6) °F\\\\n\\\\n30.4 °C\\\\n\\\\n(86.6) °F\\\\n\\\\n26.6 °C\\\\n\\\\n(80) °F\\\\n\\\\n21.4 °C\\\\n\\\\n(70.5) °F\\\\n\\\\n17.4 °C\\\\n\\\\n(63.3) °F\\\\n\\\\n134\\\\n\\\\n(5)\\\\n\\\\n100\\\\n\\\\n(3)\\\\n\\\\n109\\\\n\\\\n(4)\\\\n\\\\n120\\\\n\\\\n(4)\\\\n\\\\n108\\\\n\\\\n(4)\\\\n\\\\n136\\\\n\\\\n(5)\\\\n\\\\n119\\\\n\\\\n(4)\\\\n\\\\n119\\\\n\\\\n(4)\\\\n\\\\n124\\\\n\\\\n(4)\\\\n\\\\n94\\\\n\\\\n(3)\\\\n\\\\n110\\\\n\\\\n(4)\\\\n\\\\n123\\\\n\\\\n(4)\\'}]', name='tavily_search_results_json', id='d742f307-8856-4e3a-b0f1-e0e3ad412d8d', tool_call_id='call_cTJ4iPAwyIRAxWlg89YwVkX2'), AIMessage(content='I found information about the current weather in Louisiana, not Los Angeles. Would you like me to look up the weather in Los Angeles instead?', response_metadata={'finish_reason': 'stop', 'logprobs': None, 'model_name': 'gpt-3.5-turbo', 'system_fingerprint': None, 'token_usage': {'completion_tokens': 30, 'completion_tokens_details': {'accepted_prediction_tokens': 0, 'audio_tokens': 0, 'reasoning_tokens': 0, 'rejected_prediction_tokens': 0}, 'prompt_tokens': 1465, 'prompt_tokens_details': {'audio_tokens': 0, 'cached_tokens': 0}, 'total_tokens': 1495}}, id='run-3a64b6e5-2a00-426d-afd8-6ec7debb39d4-0'), HumanMessage(content='Whats the weather in LA?', id='2f55f066-c464-4a64-aa9d-07f6e46c00ab')]}, next=('llm',), config={'configurable': {'thread_id': '3', 'thread_ts': '1f01a3dd-f59c-6d86-8007-67a5ba958260'}}, metadata={'source': 'loop', 'step': 7, 'writes': None}, created_at='2025-04-15T21:09:09.101693+00:00', parent_config={'configurable': {'thread_id': '3', 'thread_ts': '1f01a3dd-f599-66e5-8006-408fd595a8ed'}})\n",
      "--\n",
      "StateSnapshot(values={'messages': [HumanMessage(content='Whats the weather in LA?', id='e94d5a72-a86f-4574-8753-96bab397bd89'), AIMessage(content='', additional_kwargs={'tool_calls': [{'function': {'arguments': '{\"query\":\"weather in Los Angeles\"}', 'name': 'tavily_search_results_json'}, 'id': 'call_cTJ4iPAwyIRAxWlg89YwVkX2', 'type': 'function'}]}, response_metadata={'finish_reason': 'tool_calls', 'logprobs': None, 'model_name': 'gpt-3.5-turbo', 'system_fingerprint': None, 'token_usage': {'completion_tokens': 22, 'completion_tokens_details': {'accepted_prediction_tokens': 0, 'audio_tokens': 0, 'reasoning_tokens': 0, 'rejected_prediction_tokens': 0}, 'prompt_tokens': 152, 'prompt_tokens_details': {'audio_tokens': 0, 'cached_tokens': 0}, 'total_tokens': 174}}, id='run-d411ea9b-ab92-4abb-9cfd-bac3873b103d-0', tool_calls=[{'name': 'tavily_search_results_json', 'args': {'query': 'current weather in Louisiana'}, 'id': 'call_cTJ4iPAwyIRAxWlg89YwVkX2', 'type': 'tool_call'}]), ToolMessage(content='[{\\'url\\': \\'https://www.weatherapi.com/\\', \\'content\\': \"{\\'location\\': {\\'name\\': \\'Louisiana\\', \\'region\\': \\'Missouri\\', \\'country\\': \\'USA United States of America\\', \\'lat\\': 39.4411, \\'lon\\': -91.0551, \\'tz_id\\': \\'America/Chicago\\', \\'localtime_epoch\\': 1744750826, \\'localtime\\': \\'2025-04-15 16:00\\'}, \\'current\\': {\\'last_updated_epoch\\': 1744750800, \\'last_updated\\': \\'2025-04-15 16:00\\', \\'temp_c\\': 15.3, \\'temp_f\\': 59.5, \\'is_day\\': 1, \\'condition\\': {\\'text\\': \\'Sunny\\', \\'icon\\': \\'//cdn.weatherapi.com/weather/64x64/day/113.png\\', \\'code\\': 1000}, \\'wind_mph\\': 17.0, \\'wind_kph\\': 27.4, \\'wind_degree\\': 307, \\'wind_dir\\': \\'NW\\', \\'pressure_mb\\': 1020.0, \\'pressure_in\\': 30.13, \\'precip_mm\\': 0.0, \\'precip_in\\': 0.0, \\'humidity\\': 33, \\'cloud\\': 0, \\'feelslike_c\\': 15.3, \\'feelslike_f\\': 59.5, \\'windchill_c\\': 16.3, \\'windchill_f\\': 61.4, \\'heatindex_c\\': 16.5, \\'heatindex_f\\': 61.7, \\'dewpoint_c\\': 2.8, \\'dewpoint_f\\': 37.1, \\'vis_km\\': 16.0, \\'vis_miles\\': 9.0, \\'uv\\': 3.5, \\'gust_mph\\': 21.2, \\'gust_kph\\': 34.1}}\"}, {\\'url\\': \\'https://en.climate-data.org/north-america/united-states-of-america/louisiana-943/r/april-4/\\', \\'content\\': \\'15. April | 19 °C | 66 °F | 24 °C | 75 °F | 15 °C | 58 °F | 5.8 mm | 0.2 inch.\\\\n16. April | 19 °C | 66 °F | 24 °C | 75 °F | 14 °C | 58 °F | 2.7 mm | 0.1 inch.\\\\n17. April | 19 °C | 67 °F | 24 °C | 76 °F | 15 °C | 59 °F | 2.8 mm | 0.1 inch.\\\\n18. April | 20 °C | 68 °F | 24 °C | 76 °F | 16 °C | 61 °F | 2.7 mm | 0.1 inch.\\\\n19. April | 20 °C | 68 °F | 25 °C | 77 °F | 16 °C | 61 °F | 3.7 mm | 0.1 inch.\\\\n20. April | 20 °C | 69 °F | 25 °C | 78 °F | 16 °C | 61 °F | 2.5 mm | 0.1 inch. [...] 15. April | 19 °C | 66 °F | 24 °C | 75 °F | 14 °C | 58 °F | 4.8 mm | 0.2 inch.\\\\n16. April | 19 °C | 66 °F | 24 °C | 75 °F | 14 °C | 57 °F | 2.6 mm | 0.1 inch.\\\\n17. April | 19 °C | 66 °F | 25 °C | 76 °F | 14 °C | 58 °F | 1.8 mm | 0.1 inch.\\\\n18. April | 19 °C | 67 °F | 25 °C | 76 °F | 15 °C | 59 °F | 3.5 mm | 0.1 inch.\\\\n19. April | 20 °C | 68 °F | 25 °C | 78 °F | 15 °C | 60 °F | 4.2 mm | 0.2 inch.\\\\n20. April | 20 °C | 68 °F | 26 °C | 78 °F | 16 °C | 60 °F | 1.6 mm | 0.1 inch. [...] 18.4 °C\\\\n\\\\n(65.1) °F\\\\n\\\\n21.7 °C\\\\n\\\\n(71.1) °F\\\\n\\\\n25.3 °C\\\\n\\\\n(77.5) °F\\\\n\\\\n28.9 °C\\\\n\\\\n(84) °F\\\\n\\\\n31.2 °C\\\\n\\\\n(88.2) °F\\\\n\\\\n31.8 °C\\\\n\\\\n(89.2) °F\\\\n\\\\n32.5 °C\\\\n\\\\n(90.6) °F\\\\n\\\\n30.4 °C\\\\n\\\\n(86.6) °F\\\\n\\\\n26.6 °C\\\\n\\\\n(80) °F\\\\n\\\\n21.4 °C\\\\n\\\\n(70.5) °F\\\\n\\\\n17.4 °C\\\\n\\\\n(63.3) °F\\\\n\\\\n134\\\\n\\\\n(5)\\\\n\\\\n100\\\\n\\\\n(3)\\\\n\\\\n109\\\\n\\\\n(4)\\\\n\\\\n120\\\\n\\\\n(4)\\\\n\\\\n108\\\\n\\\\n(4)\\\\n\\\\n136\\\\n\\\\n(5)\\\\n\\\\n119\\\\n\\\\n(4)\\\\n\\\\n119\\\\n\\\\n(4)\\\\n\\\\n124\\\\n\\\\n(4)\\\\n\\\\n94\\\\n\\\\n(3)\\\\n\\\\n110\\\\n\\\\n(4)\\\\n\\\\n123\\\\n\\\\n(4)\\'}]', name='tavily_search_results_json', id='d742f307-8856-4e3a-b0f1-e0e3ad412d8d', tool_call_id='call_cTJ4iPAwyIRAxWlg89YwVkX2'), AIMessage(content='I found information about the current weather in Louisiana, not Los Angeles. Would you like me to look up the weather in Los Angeles instead?', response_metadata={'finish_reason': 'stop', 'logprobs': None, 'model_name': 'gpt-3.5-turbo', 'system_fingerprint': None, 'token_usage': {'completion_tokens': 30, 'completion_tokens_details': {'accepted_prediction_tokens': 0, 'audio_tokens': 0, 'reasoning_tokens': 0, 'rejected_prediction_tokens': 0}, 'prompt_tokens': 1465, 'prompt_tokens_details': {'audio_tokens': 0, 'cached_tokens': 0}, 'total_tokens': 1495}}, id='run-3a64b6e5-2a00-426d-afd8-6ec7debb39d4-0')]}, next=('__start__',), config={'configurable': {'thread_id': '3', 'thread_ts': '1f01a3dd-f599-66e5-8006-408fd595a8ed'}}, metadata={'source': 'input', 'step': 6, 'writes': {'messages': [HumanMessage(content='Whats the weather in LA?')]}}, created_at='2025-04-15T21:09:09.100285+00:00', parent_config={'configurable': {'thread_id': '3', 'thread_ts': '1f01a3da-d7d6-620b-8005-88ff2203cd42'}})\n",
      "--\n",
      "StateSnapshot(values={'messages': [HumanMessage(content='Whats the weather in LA?', id='e94d5a72-a86f-4574-8753-96bab397bd89'), AIMessage(content='', additional_kwargs={'tool_calls': [{'function': {'arguments': '{\"query\":\"weather in Los Angeles\"}', 'name': 'tavily_search_results_json'}, 'id': 'call_cTJ4iPAwyIRAxWlg89YwVkX2', 'type': 'function'}]}, response_metadata={'finish_reason': 'tool_calls', 'logprobs': None, 'model_name': 'gpt-3.5-turbo', 'system_fingerprint': None, 'token_usage': {'completion_tokens': 22, 'completion_tokens_details': {'accepted_prediction_tokens': 0, 'audio_tokens': 0, 'reasoning_tokens': 0, 'rejected_prediction_tokens': 0}, 'prompt_tokens': 152, 'prompt_tokens_details': {'audio_tokens': 0, 'cached_tokens': 0}, 'total_tokens': 174}}, id='run-d411ea9b-ab92-4abb-9cfd-bac3873b103d-0', tool_calls=[{'name': 'tavily_search_results_json', 'args': {'query': 'current weather in Louisiana'}, 'id': 'call_cTJ4iPAwyIRAxWlg89YwVkX2', 'type': 'tool_call'}]), ToolMessage(content='[{\\'url\\': \\'https://www.weatherapi.com/\\', \\'content\\': \"{\\'location\\': {\\'name\\': \\'Louisiana\\', \\'region\\': \\'Missouri\\', \\'country\\': \\'USA United States of America\\', \\'lat\\': 39.4411, \\'lon\\': -91.0551, \\'tz_id\\': \\'America/Chicago\\', \\'localtime_epoch\\': 1744750826, \\'localtime\\': \\'2025-04-15 16:00\\'}, \\'current\\': {\\'last_updated_epoch\\': 1744750800, \\'last_updated\\': \\'2025-04-15 16:00\\', \\'temp_c\\': 15.3, \\'temp_f\\': 59.5, \\'is_day\\': 1, \\'condition\\': {\\'text\\': \\'Sunny\\', \\'icon\\': \\'//cdn.weatherapi.com/weather/64x64/day/113.png\\', \\'code\\': 1000}, \\'wind_mph\\': 17.0, \\'wind_kph\\': 27.4, \\'wind_degree\\': 307, \\'wind_dir\\': \\'NW\\', \\'pressure_mb\\': 1020.0, \\'pressure_in\\': 30.13, \\'precip_mm\\': 0.0, \\'precip_in\\': 0.0, \\'humidity\\': 33, \\'cloud\\': 0, \\'feelslike_c\\': 15.3, \\'feelslike_f\\': 59.5, \\'windchill_c\\': 16.3, \\'windchill_f\\': 61.4, \\'heatindex_c\\': 16.5, \\'heatindex_f\\': 61.7, \\'dewpoint_c\\': 2.8, \\'dewpoint_f\\': 37.1, \\'vis_km\\': 16.0, \\'vis_miles\\': 9.0, \\'uv\\': 3.5, \\'gust_mph\\': 21.2, \\'gust_kph\\': 34.1}}\"}, {\\'url\\': \\'https://en.climate-data.org/north-america/united-states-of-america/louisiana-943/r/april-4/\\', \\'content\\': \\'15. April | 19 °C | 66 °F | 24 °C | 75 °F | 15 °C | 58 °F | 5.8 mm | 0.2 inch.\\\\n16. April | 19 °C | 66 °F | 24 °C | 75 °F | 14 °C | 58 °F | 2.7 mm | 0.1 inch.\\\\n17. April | 19 °C | 67 °F | 24 °C | 76 °F | 15 °C | 59 °F | 2.8 mm | 0.1 inch.\\\\n18. April | 20 °C | 68 °F | 24 °C | 76 °F | 16 °C | 61 °F | 2.7 mm | 0.1 inch.\\\\n19. April | 20 °C | 68 °F | 25 °C | 77 °F | 16 °C | 61 °F | 3.7 mm | 0.1 inch.\\\\n20. April | 20 °C | 69 °F | 25 °C | 78 °F | 16 °C | 61 °F | 2.5 mm | 0.1 inch. [...] 15. April | 19 °C | 66 °F | 24 °C | 75 °F | 14 °C | 58 °F | 4.8 mm | 0.2 inch.\\\\n16. April | 19 °C | 66 °F | 24 °C | 75 °F | 14 °C | 57 °F | 2.6 mm | 0.1 inch.\\\\n17. April | 19 °C | 66 °F | 25 °C | 76 °F | 14 °C | 58 °F | 1.8 mm | 0.1 inch.\\\\n18. April | 19 °C | 67 °F | 25 °C | 76 °F | 15 °C | 59 °F | 3.5 mm | 0.1 inch.\\\\n19. April | 20 °C | 68 °F | 25 °C | 78 °F | 15 °C | 60 °F | 4.2 mm | 0.2 inch.\\\\n20. April | 20 °C | 68 °F | 26 °C | 78 °F | 16 °C | 60 °F | 1.6 mm | 0.1 inch. [...] 18.4 °C\\\\n\\\\n(65.1) °F\\\\n\\\\n21.7 °C\\\\n\\\\n(71.1) °F\\\\n\\\\n25.3 °C\\\\n\\\\n(77.5) °F\\\\n\\\\n28.9 °C\\\\n\\\\n(84) °F\\\\n\\\\n31.2 °C\\\\n\\\\n(88.2) °F\\\\n\\\\n31.8 °C\\\\n\\\\n(89.2) °F\\\\n\\\\n32.5 °C\\\\n\\\\n(90.6) °F\\\\n\\\\n30.4 °C\\\\n\\\\n(86.6) °F\\\\n\\\\n26.6 °C\\\\n\\\\n(80) °F\\\\n\\\\n21.4 °C\\\\n\\\\n(70.5) °F\\\\n\\\\n17.4 °C\\\\n\\\\n(63.3) °F\\\\n\\\\n134\\\\n\\\\n(5)\\\\n\\\\n100\\\\n\\\\n(3)\\\\n\\\\n109\\\\n\\\\n(4)\\\\n\\\\n120\\\\n\\\\n(4)\\\\n\\\\n108\\\\n\\\\n(4)\\\\n\\\\n136\\\\n\\\\n(5)\\\\n\\\\n119\\\\n\\\\n(4)\\\\n\\\\n119\\\\n\\\\n(4)\\\\n\\\\n124\\\\n\\\\n(4)\\\\n\\\\n94\\\\n\\\\n(3)\\\\n\\\\n110\\\\n\\\\n(4)\\\\n\\\\n123\\\\n\\\\n(4)\\'}]', name='tavily_search_results_json', id='d742f307-8856-4e3a-b0f1-e0e3ad412d8d', tool_call_id='call_cTJ4iPAwyIRAxWlg89YwVkX2'), AIMessage(content='I found information about the current weather in Louisiana, not Los Angeles. Would you like me to look up the weather in Los Angeles instead?', response_metadata={'finish_reason': 'stop', 'logprobs': None, 'model_name': 'gpt-3.5-turbo', 'system_fingerprint': None, 'token_usage': {'completion_tokens': 30, 'completion_tokens_details': {'accepted_prediction_tokens': 0, 'audio_tokens': 0, 'reasoning_tokens': 0, 'rejected_prediction_tokens': 0}, 'prompt_tokens': 1465, 'prompt_tokens_details': {'audio_tokens': 0, 'cached_tokens': 0}, 'total_tokens': 1495}}, id='run-3a64b6e5-2a00-426d-afd8-6ec7debb39d4-0')]}, next=(), config={'configurable': {'thread_id': '3', 'thread_ts': '1f01a3da-d7d6-620b-8005-88ff2203cd42'}}, metadata={'source': 'update', 'step': 5, 'writes': {'llm': {'messages': [HumanMessage(content='Whats the weather in LA?', id='e94d5a72-a86f-4574-8753-96bab397bd89'), AIMessage(content='', additional_kwargs={'tool_calls': [{'function': {'arguments': '{\"query\":\"weather in Los Angeles\"}', 'name': 'tavily_search_results_json'}, 'id': 'call_cTJ4iPAwyIRAxWlg89YwVkX2', 'type': 'function'}]}, response_metadata={'finish_reason': 'tool_calls', 'logprobs': None, 'model_name': 'gpt-3.5-turbo', 'system_fingerprint': None, 'token_usage': {'completion_tokens': 22, 'completion_tokens_details': {'accepted_prediction_tokens': 0, 'audio_tokens': 0, 'reasoning_tokens': 0, 'rejected_prediction_tokens': 0}, 'prompt_tokens': 152, 'prompt_tokens_details': {'audio_tokens': 0, 'cached_tokens': 0}, 'total_tokens': 174}}, id='run-d411ea9b-ab92-4abb-9cfd-bac3873b103d-0', tool_calls=[{'name': 'tavily_search_results_json', 'args': {'query': 'current weather in Louisiana'}, 'id': 'call_cTJ4iPAwyIRAxWlg89YwVkX2', 'type': 'tool_call'}])]}}}, created_at='2025-04-15T21:07:45.448792+00:00', parent_config={'configurable': {'thread_id': '3', 'thread_ts': '1f01a3c4-29e8-6dcb-8004-7eacb928302c'}})\n",
      "--\n",
      "StateSnapshot(values={'messages': [HumanMessage(content='Whats the weather in LA?', id='e94d5a72-a86f-4574-8753-96bab397bd89'), AIMessage(content='', additional_kwargs={'tool_calls': [{'function': {'arguments': '{\"query\":\"weather in Los Angeles\"}', 'name': 'tavily_search_results_json'}, 'id': 'call_cTJ4iPAwyIRAxWlg89YwVkX2', 'type': 'function'}]}, response_metadata={'finish_reason': 'tool_calls', 'logprobs': None, 'model_name': 'gpt-3.5-turbo', 'system_fingerprint': None, 'token_usage': {'completion_tokens': 22, 'completion_tokens_details': {'accepted_prediction_tokens': 0, 'audio_tokens': 0, 'reasoning_tokens': 0, 'rejected_prediction_tokens': 0}, 'prompt_tokens': 152, 'prompt_tokens_details': {'audio_tokens': 0, 'cached_tokens': 0}, 'total_tokens': 174}}, id='run-d411ea9b-ab92-4abb-9cfd-bac3873b103d-0', tool_calls=[{'name': 'tavily_search_results_json', 'args': {'query': 'current weather in Louisiana'}, 'id': 'call_cTJ4iPAwyIRAxWlg89YwVkX2', 'type': 'tool_call'}]), ToolMessage(content='[{\\'url\\': \\'https://www.weatherapi.com/\\', \\'content\\': \"{\\'location\\': {\\'name\\': \\'Louisiana\\', \\'region\\': \\'Missouri\\', \\'country\\': \\'USA United States of America\\', \\'lat\\': 39.4411, \\'lon\\': -91.0551, \\'tz_id\\': \\'America/Chicago\\', \\'localtime_epoch\\': 1744750826, \\'localtime\\': \\'2025-04-15 16:00\\'}, \\'current\\': {\\'last_updated_epoch\\': 1744750800, \\'last_updated\\': \\'2025-04-15 16:00\\', \\'temp_c\\': 15.3, \\'temp_f\\': 59.5, \\'is_day\\': 1, \\'condition\\': {\\'text\\': \\'Sunny\\', \\'icon\\': \\'//cdn.weatherapi.com/weather/64x64/day/113.png\\', \\'code\\': 1000}, \\'wind_mph\\': 17.0, \\'wind_kph\\': 27.4, \\'wind_degree\\': 307, \\'wind_dir\\': \\'NW\\', \\'pressure_mb\\': 1020.0, \\'pressure_in\\': 30.13, \\'precip_mm\\': 0.0, \\'precip_in\\': 0.0, \\'humidity\\': 33, \\'cloud\\': 0, \\'feelslike_c\\': 15.3, \\'feelslike_f\\': 59.5, \\'windchill_c\\': 16.3, \\'windchill_f\\': 61.4, \\'heatindex_c\\': 16.5, \\'heatindex_f\\': 61.7, \\'dewpoint_c\\': 2.8, \\'dewpoint_f\\': 37.1, \\'vis_km\\': 16.0, \\'vis_miles\\': 9.0, \\'uv\\': 3.5, \\'gust_mph\\': 21.2, \\'gust_kph\\': 34.1}}\"}, {\\'url\\': \\'https://en.climate-data.org/north-america/united-states-of-america/louisiana-943/r/april-4/\\', \\'content\\': \\'15. April | 19 °C | 66 °F | 24 °C | 75 °F | 15 °C | 58 °F | 5.8 mm | 0.2 inch.\\\\n16. April | 19 °C | 66 °F | 24 °C | 75 °F | 14 °C | 58 °F | 2.7 mm | 0.1 inch.\\\\n17. April | 19 °C | 67 °F | 24 °C | 76 °F | 15 °C | 59 °F | 2.8 mm | 0.1 inch.\\\\n18. April | 20 °C | 68 °F | 24 °C | 76 °F | 16 °C | 61 °F | 2.7 mm | 0.1 inch.\\\\n19. April | 20 °C | 68 °F | 25 °C | 77 °F | 16 °C | 61 °F | 3.7 mm | 0.1 inch.\\\\n20. April | 20 °C | 69 °F | 25 °C | 78 °F | 16 °C | 61 °F | 2.5 mm | 0.1 inch. [...] 15. April | 19 °C | 66 °F | 24 °C | 75 °F | 14 °C | 58 °F | 4.8 mm | 0.2 inch.\\\\n16. April | 19 °C | 66 °F | 24 °C | 75 °F | 14 °C | 57 °F | 2.6 mm | 0.1 inch.\\\\n17. April | 19 °C | 66 °F | 25 °C | 76 °F | 14 °C | 58 °F | 1.8 mm | 0.1 inch.\\\\n18. April | 19 °C | 67 °F | 25 °C | 76 °F | 15 °C | 59 °F | 3.5 mm | 0.1 inch.\\\\n19. April | 20 °C | 68 °F | 25 °C | 78 °F | 15 °C | 60 °F | 4.2 mm | 0.2 inch.\\\\n20. April | 20 °C | 68 °F | 26 °C | 78 °F | 16 °C | 60 °F | 1.6 mm | 0.1 inch. [...] 18.4 °C\\\\n\\\\n(65.1) °F\\\\n\\\\n21.7 °C\\\\n\\\\n(71.1) °F\\\\n\\\\n25.3 °C\\\\n\\\\n(77.5) °F\\\\n\\\\n28.9 °C\\\\n\\\\n(84) °F\\\\n\\\\n31.2 °C\\\\n\\\\n(88.2) °F\\\\n\\\\n31.8 °C\\\\n\\\\n(89.2) °F\\\\n\\\\n32.5 °C\\\\n\\\\n(90.6) °F\\\\n\\\\n30.4 °C\\\\n\\\\n(86.6) °F\\\\n\\\\n26.6 °C\\\\n\\\\n(80) °F\\\\n\\\\n21.4 °C\\\\n\\\\n(70.5) °F\\\\n\\\\n17.4 °C\\\\n\\\\n(63.3) °F\\\\n\\\\n134\\\\n\\\\n(5)\\\\n\\\\n100\\\\n\\\\n(3)\\\\n\\\\n109\\\\n\\\\n(4)\\\\n\\\\n120\\\\n\\\\n(4)\\\\n\\\\n108\\\\n\\\\n(4)\\\\n\\\\n136\\\\n\\\\n(5)\\\\n\\\\n119\\\\n\\\\n(4)\\\\n\\\\n119\\\\n\\\\n(4)\\\\n\\\\n124\\\\n\\\\n(4)\\\\n\\\\n94\\\\n\\\\n(3)\\\\n\\\\n110\\\\n\\\\n(4)\\\\n\\\\n123\\\\n\\\\n(4)\\'}]', name='tavily_search_results_json', id='d742f307-8856-4e3a-b0f1-e0e3ad412d8d', tool_call_id='call_cTJ4iPAwyIRAxWlg89YwVkX2'), AIMessage(content='I found information about the current weather in Louisiana, not Los Angeles. Would you like me to look up the weather in Los Angeles instead?', response_metadata={'finish_reason': 'stop', 'logprobs': None, 'model_name': 'gpt-3.5-turbo', 'system_fingerprint': None, 'token_usage': {'completion_tokens': 30, 'completion_tokens_details': {'accepted_prediction_tokens': 0, 'audio_tokens': 0, 'reasoning_tokens': 0, 'rejected_prediction_tokens': 0}, 'prompt_tokens': 1465, 'prompt_tokens_details': {'audio_tokens': 0, 'cached_tokens': 0}, 'total_tokens': 1495}}, id='run-3a64b6e5-2a00-426d-afd8-6ec7debb39d4-0')]}, next=(), config={'configurable': {'thread_id': '3', 'thread_ts': '1f01a3c4-29e8-6dcb-8004-7eacb928302c'}}, metadata={'source': 'loop', 'step': 4, 'writes': {'llm': {'messages': [AIMessage(content='I found information about the current weather in Louisiana, not Los Angeles. Would you like me to look up the weather in Los Angeles instead?', response_metadata={'finish_reason': 'stop', 'logprobs': None, 'model_name': 'gpt-3.5-turbo', 'system_fingerprint': None, 'token_usage': {'completion_tokens': 30, 'completion_tokens_details': {'accepted_prediction_tokens': 0, 'audio_tokens': 0, 'reasoning_tokens': 0, 'rejected_prediction_tokens': 0}, 'prompt_tokens': 1465, 'prompt_tokens_details': {'audio_tokens': 0, 'cached_tokens': 0}, 'total_tokens': 1495}}, id='run-3a64b6e5-2a00-426d-afd8-6ec7debb39d4-0')]}}}, created_at='2025-04-15T20:57:36.653238+00:00', parent_config={'configurable': {'thread_id': '3', 'thread_ts': '1f01a3c4-1f81-6dd7-8003-f89918307005'}})\n",
      "--\n",
      "StateSnapshot(values={'messages': [HumanMessage(content='Whats the weather in LA?', id='e94d5a72-a86f-4574-8753-96bab397bd89'), AIMessage(content='', additional_kwargs={'tool_calls': [{'function': {'arguments': '{\"query\":\"weather in Los Angeles\"}', 'name': 'tavily_search_results_json'}, 'id': 'call_cTJ4iPAwyIRAxWlg89YwVkX2', 'type': 'function'}]}, response_metadata={'finish_reason': 'tool_calls', 'logprobs': None, 'model_name': 'gpt-3.5-turbo', 'system_fingerprint': None, 'token_usage': {'completion_tokens': 22, 'completion_tokens_details': {'accepted_prediction_tokens': 0, 'audio_tokens': 0, 'reasoning_tokens': 0, 'rejected_prediction_tokens': 0}, 'prompt_tokens': 152, 'prompt_tokens_details': {'audio_tokens': 0, 'cached_tokens': 0}, 'total_tokens': 174}}, id='run-d411ea9b-ab92-4abb-9cfd-bac3873b103d-0', tool_calls=[{'name': 'tavily_search_results_json', 'args': {'query': 'current weather in Louisiana'}, 'id': 'call_cTJ4iPAwyIRAxWlg89YwVkX2', 'type': 'tool_call'}]), ToolMessage(content='[{\\'url\\': \\'https://www.weatherapi.com/\\', \\'content\\': \"{\\'location\\': {\\'name\\': \\'Louisiana\\', \\'region\\': \\'Missouri\\', \\'country\\': \\'USA United States of America\\', \\'lat\\': 39.4411, \\'lon\\': -91.0551, \\'tz_id\\': \\'America/Chicago\\', \\'localtime_epoch\\': 1744750826, \\'localtime\\': \\'2025-04-15 16:00\\'}, \\'current\\': {\\'last_updated_epoch\\': 1744750800, \\'last_updated\\': \\'2025-04-15 16:00\\', \\'temp_c\\': 15.3, \\'temp_f\\': 59.5, \\'is_day\\': 1, \\'condition\\': {\\'text\\': \\'Sunny\\', \\'icon\\': \\'//cdn.weatherapi.com/weather/64x64/day/113.png\\', \\'code\\': 1000}, \\'wind_mph\\': 17.0, \\'wind_kph\\': 27.4, \\'wind_degree\\': 307, \\'wind_dir\\': \\'NW\\', \\'pressure_mb\\': 1020.0, \\'pressure_in\\': 30.13, \\'precip_mm\\': 0.0, \\'precip_in\\': 0.0, \\'humidity\\': 33, \\'cloud\\': 0, \\'feelslike_c\\': 15.3, \\'feelslike_f\\': 59.5, \\'windchill_c\\': 16.3, \\'windchill_f\\': 61.4, \\'heatindex_c\\': 16.5, \\'heatindex_f\\': 61.7, \\'dewpoint_c\\': 2.8, \\'dewpoint_f\\': 37.1, \\'vis_km\\': 16.0, \\'vis_miles\\': 9.0, \\'uv\\': 3.5, \\'gust_mph\\': 21.2, \\'gust_kph\\': 34.1}}\"}, {\\'url\\': \\'https://en.climate-data.org/north-america/united-states-of-america/louisiana-943/r/april-4/\\', \\'content\\': \\'15. April | 19 °C | 66 °F | 24 °C | 75 °F | 15 °C | 58 °F | 5.8 mm | 0.2 inch.\\\\n16. April | 19 °C | 66 °F | 24 °C | 75 °F | 14 °C | 58 °F | 2.7 mm | 0.1 inch.\\\\n17. April | 19 °C | 67 °F | 24 °C | 76 °F | 15 °C | 59 °F | 2.8 mm | 0.1 inch.\\\\n18. April | 20 °C | 68 °F | 24 °C | 76 °F | 16 °C | 61 °F | 2.7 mm | 0.1 inch.\\\\n19. April | 20 °C | 68 °F | 25 °C | 77 °F | 16 °C | 61 °F | 3.7 mm | 0.1 inch.\\\\n20. April | 20 °C | 69 °F | 25 °C | 78 °F | 16 °C | 61 °F | 2.5 mm | 0.1 inch. [...] 15. April | 19 °C | 66 °F | 24 °C | 75 °F | 14 °C | 58 °F | 4.8 mm | 0.2 inch.\\\\n16. April | 19 °C | 66 °F | 24 °C | 75 °F | 14 °C | 57 °F | 2.6 mm | 0.1 inch.\\\\n17. April | 19 °C | 66 °F | 25 °C | 76 °F | 14 °C | 58 °F | 1.8 mm | 0.1 inch.\\\\n18. April | 19 °C | 67 °F | 25 °C | 76 °F | 15 °C | 59 °F | 3.5 mm | 0.1 inch.\\\\n19. April | 20 °C | 68 °F | 25 °C | 78 °F | 15 °C | 60 °F | 4.2 mm | 0.2 inch.\\\\n20. April | 20 °C | 68 °F | 26 °C | 78 °F | 16 °C | 60 °F | 1.6 mm | 0.1 inch. [...] 18.4 °C\\\\n\\\\n(65.1) °F\\\\n\\\\n21.7 °C\\\\n\\\\n(71.1) °F\\\\n\\\\n25.3 °C\\\\n\\\\n(77.5) °F\\\\n\\\\n28.9 °C\\\\n\\\\n(84) °F\\\\n\\\\n31.2 °C\\\\n\\\\n(88.2) °F\\\\n\\\\n31.8 °C\\\\n\\\\n(89.2) °F\\\\n\\\\n32.5 °C\\\\n\\\\n(90.6) °F\\\\n\\\\n30.4 °C\\\\n\\\\n(86.6) °F\\\\n\\\\n26.6 °C\\\\n\\\\n(80) °F\\\\n\\\\n21.4 °C\\\\n\\\\n(70.5) °F\\\\n\\\\n17.4 °C\\\\n\\\\n(63.3) °F\\\\n\\\\n134\\\\n\\\\n(5)\\\\n\\\\n100\\\\n\\\\n(3)\\\\n\\\\n109\\\\n\\\\n(4)\\\\n\\\\n120\\\\n\\\\n(4)\\\\n\\\\n108\\\\n\\\\n(4)\\\\n\\\\n136\\\\n\\\\n(5)\\\\n\\\\n119\\\\n\\\\n(4)\\\\n\\\\n119\\\\n\\\\n(4)\\\\n\\\\n124\\\\n\\\\n(4)\\\\n\\\\n94\\\\n\\\\n(3)\\\\n\\\\n110\\\\n\\\\n(4)\\\\n\\\\n123\\\\n\\\\n(4)\\'}]', name='tavily_search_results_json', id='d742f307-8856-4e3a-b0f1-e0e3ad412d8d', tool_call_id='call_cTJ4iPAwyIRAxWlg89YwVkX2')]}, next=('llm',), config={'configurable': {'thread_id': '3', 'thread_ts': '1f01a3c4-1f81-6dd7-8003-f89918307005'}}, metadata={'source': 'loop', 'step': 3, 'writes': {'action': {'messages': [ToolMessage(content='[{\\'url\\': \\'https://www.weatherapi.com/\\', \\'content\\': \"{\\'location\\': {\\'name\\': \\'Louisiana\\', \\'region\\': \\'Missouri\\', \\'country\\': \\'USA United States of America\\', \\'lat\\': 39.4411, \\'lon\\': -91.0551, \\'tz_id\\': \\'America/Chicago\\', \\'localtime_epoch\\': 1744750826, \\'localtime\\': \\'2025-04-15 16:00\\'}, \\'current\\': {\\'last_updated_epoch\\': 1744750800, \\'last_updated\\': \\'2025-04-15 16:00\\', \\'temp_c\\': 15.3, \\'temp_f\\': 59.5, \\'is_day\\': 1, \\'condition\\': {\\'text\\': \\'Sunny\\', \\'icon\\': \\'//cdn.weatherapi.com/weather/64x64/day/113.png\\', \\'code\\': 1000}, \\'wind_mph\\': 17.0, \\'wind_kph\\': 27.4, \\'wind_degree\\': 307, \\'wind_dir\\': \\'NW\\', \\'pressure_mb\\': 1020.0, \\'pressure_in\\': 30.13, \\'precip_mm\\': 0.0, \\'precip_in\\': 0.0, \\'humidity\\': 33, \\'cloud\\': 0, \\'feelslike_c\\': 15.3, \\'feelslike_f\\': 59.5, \\'windchill_c\\': 16.3, \\'windchill_f\\': 61.4, \\'heatindex_c\\': 16.5, \\'heatindex_f\\': 61.7, \\'dewpoint_c\\': 2.8, \\'dewpoint_f\\': 37.1, \\'vis_km\\': 16.0, \\'vis_miles\\': 9.0, \\'uv\\': 3.5, \\'gust_mph\\': 21.2, \\'gust_kph\\': 34.1}}\"}, {\\'url\\': \\'https://en.climate-data.org/north-america/united-states-of-america/louisiana-943/r/april-4/\\', \\'content\\': \\'15. April | 19 °C | 66 °F | 24 °C | 75 °F | 15 °C | 58 °F | 5.8 mm | 0.2 inch.\\\\n16. April | 19 °C | 66 °F | 24 °C | 75 °F | 14 °C | 58 °F | 2.7 mm | 0.1 inch.\\\\n17. April | 19 °C | 67 °F | 24 °C | 76 °F | 15 °C | 59 °F | 2.8 mm | 0.1 inch.\\\\n18. April | 20 °C | 68 °F | 24 °C | 76 °F | 16 °C | 61 °F | 2.7 mm | 0.1 inch.\\\\n19. April | 20 °C | 68 °F | 25 °C | 77 °F | 16 °C | 61 °F | 3.7 mm | 0.1 inch.\\\\n20. April | 20 °C | 69 °F | 25 °C | 78 °F | 16 °C | 61 °F | 2.5 mm | 0.1 inch. [...] 15. April | 19 °C | 66 °F | 24 °C | 75 °F | 14 °C | 58 °F | 4.8 mm | 0.2 inch.\\\\n16. April | 19 °C | 66 °F | 24 °C | 75 °F | 14 °C | 57 °F | 2.6 mm | 0.1 inch.\\\\n17. April | 19 °C | 66 °F | 25 °C | 76 °F | 14 °C | 58 °F | 1.8 mm | 0.1 inch.\\\\n18. April | 19 °C | 67 °F | 25 °C | 76 °F | 15 °C | 59 °F | 3.5 mm | 0.1 inch.\\\\n19. April | 20 °C | 68 °F | 25 °C | 78 °F | 15 °C | 60 °F | 4.2 mm | 0.2 inch.\\\\n20. April | 20 °C | 68 °F | 26 °C | 78 °F | 16 °C | 60 °F | 1.6 mm | 0.1 inch. [...] 18.4 °C\\\\n\\\\n(65.1) °F\\\\n\\\\n21.7 °C\\\\n\\\\n(71.1) °F\\\\n\\\\n25.3 °C\\\\n\\\\n(77.5) °F\\\\n\\\\n28.9 °C\\\\n\\\\n(84) °F\\\\n\\\\n31.2 °C\\\\n\\\\n(88.2) °F\\\\n\\\\n31.8 °C\\\\n\\\\n(89.2) °F\\\\n\\\\n32.5 °C\\\\n\\\\n(90.6) °F\\\\n\\\\n30.4 °C\\\\n\\\\n(86.6) °F\\\\n\\\\n26.6 °C\\\\n\\\\n(80) °F\\\\n\\\\n21.4 °C\\\\n\\\\n(70.5) °F\\\\n\\\\n17.4 °C\\\\n\\\\n(63.3) °F\\\\n\\\\n134\\\\n\\\\n(5)\\\\n\\\\n100\\\\n\\\\n(3)\\\\n\\\\n109\\\\n\\\\n(4)\\\\n\\\\n120\\\\n\\\\n(4)\\\\n\\\\n108\\\\n\\\\n(4)\\\\n\\\\n136\\\\n\\\\n(5)\\\\n\\\\n119\\\\n\\\\n(4)\\\\n\\\\n119\\\\n\\\\n(4)\\\\n\\\\n124\\\\n\\\\n(4)\\\\n\\\\n94\\\\n\\\\n(3)\\\\n\\\\n110\\\\n\\\\n(4)\\\\n\\\\n123\\\\n\\\\n(4)\\'}]', name='tavily_search_results_json', id='d742f307-8856-4e3a-b0f1-e0e3ad412d8d', tool_call_id='call_cTJ4iPAwyIRAxWlg89YwVkX2')]}}}, created_at='2025-04-15T20:57:35.562467+00:00', parent_config={'configurable': {'thread_id': '3', 'thread_ts': '1f01a3c2-95b5-63a9-8002-8cce92b80bb1'}})\n",
      "--\n",
      "StateSnapshot(values={'messages': [HumanMessage(content='Whats the weather in LA?', id='e94d5a72-a86f-4574-8753-96bab397bd89'), AIMessage(content='', additional_kwargs={'tool_calls': [{'function': {'arguments': '{\"query\":\"weather in Los Angeles\"}', 'name': 'tavily_search_results_json'}, 'id': 'call_cTJ4iPAwyIRAxWlg89YwVkX2', 'type': 'function'}]}, response_metadata={'finish_reason': 'tool_calls', 'logprobs': None, 'model_name': 'gpt-3.5-turbo', 'system_fingerprint': None, 'token_usage': {'completion_tokens': 22, 'completion_tokens_details': {'accepted_prediction_tokens': 0, 'audio_tokens': 0, 'reasoning_tokens': 0, 'rejected_prediction_tokens': 0}, 'prompt_tokens': 152, 'prompt_tokens_details': {'audio_tokens': 0, 'cached_tokens': 0}, 'total_tokens': 174}}, id='run-d411ea9b-ab92-4abb-9cfd-bac3873b103d-0', tool_calls=[{'name': 'tavily_search_results_json', 'args': {'query': 'current weather in Louisiana'}, 'id': 'call_cTJ4iPAwyIRAxWlg89YwVkX2', 'type': 'tool_call'}])]}, next=('action',), config={'configurable': {'thread_id': '3', 'thread_ts': '1f01a3c2-95b5-63a9-8002-8cce92b80bb1'}}, metadata={'source': 'update', 'step': 2, 'writes': {'llm': {'messages': [HumanMessage(content='Whats the weather in LA?', id='e94d5a72-a86f-4574-8753-96bab397bd89'), AIMessage(content='', additional_kwargs={'tool_calls': [{'function': {'arguments': '{\"query\":\"weather in Los Angeles\"}', 'name': 'tavily_search_results_json'}, 'id': 'call_cTJ4iPAwyIRAxWlg89YwVkX2', 'type': 'function'}]}, response_metadata={'finish_reason': 'tool_calls', 'logprobs': None, 'model_name': 'gpt-3.5-turbo', 'system_fingerprint': None, 'token_usage': {'completion_tokens': 22, 'completion_tokens_details': {'accepted_prediction_tokens': 0, 'audio_tokens': 0, 'reasoning_tokens': 0, 'rejected_prediction_tokens': 0}, 'prompt_tokens': 152, 'prompt_tokens_details': {'audio_tokens': 0, 'cached_tokens': 0}, 'total_tokens': 174}}, id='run-d411ea9b-ab92-4abb-9cfd-bac3873b103d-0', tool_calls=[{'name': 'tavily_search_results_json', 'args': {'query': 'current weather in Louisiana'}, 'id': 'call_cTJ4iPAwyIRAxWlg89YwVkX2', 'type': 'tool_call'}])]}}}, created_at='2025-04-15T20:56:54.269617+00:00', parent_config={'configurable': {'thread_id': '3', 'thread_ts': '1f01a394-3263-6167-8001-42a9c71d9aee'}})\n",
      "--\n",
      "StateSnapshot(values={'messages': [HumanMessage(content='Whats the weather in LA?', id='e94d5a72-a86f-4574-8753-96bab397bd89'), AIMessage(content='', additional_kwargs={'tool_calls': [{'function': {'arguments': '{\"query\":\"weather in Los Angeles\"}', 'name': 'tavily_search_results_json'}, 'id': 'call_cTJ4iPAwyIRAxWlg89YwVkX2', 'type': 'function'}]}, response_metadata={'finish_reason': 'tool_calls', 'logprobs': None, 'model_name': 'gpt-3.5-turbo', 'system_fingerprint': None, 'token_usage': {'completion_tokens': 22, 'completion_tokens_details': {'accepted_prediction_tokens': 0, 'audio_tokens': 0, 'reasoning_tokens': 0, 'rejected_prediction_tokens': 0}, 'prompt_tokens': 152, 'prompt_tokens_details': {'audio_tokens': 0, 'cached_tokens': 0}, 'total_tokens': 174}}, id='run-d411ea9b-ab92-4abb-9cfd-bac3873b103d-0', tool_calls=[{'name': 'tavily_search_results_json', 'args': {'query': 'weather in Los Angeles'}, 'id': 'call_cTJ4iPAwyIRAxWlg89YwVkX2', 'type': 'tool_call'}])]}, next=('action',), config={'configurable': {'thread_id': '3', 'thread_ts': '1f01a394-3263-6167-8001-42a9c71d9aee'}}, metadata={'source': 'loop', 'step': 1, 'writes': {'llm': {'messages': [AIMessage(content='', additional_kwargs={'tool_calls': [{'function': {'arguments': '{\"query\":\"weather in Los Angeles\"}', 'name': 'tavily_search_results_json'}, 'id': 'call_cTJ4iPAwyIRAxWlg89YwVkX2', 'type': 'function'}]}, response_metadata={'finish_reason': 'tool_calls', 'logprobs': None, 'model_name': 'gpt-3.5-turbo', 'system_fingerprint': None, 'token_usage': {'completion_tokens': 22, 'completion_tokens_details': {'accepted_prediction_tokens': 0, 'audio_tokens': 0, 'reasoning_tokens': 0, 'rejected_prediction_tokens': 0}, 'prompt_tokens': 152, 'prompt_tokens_details': {'audio_tokens': 0, 'cached_tokens': 0}, 'total_tokens': 174}}, id='run-d411ea9b-ab92-4abb-9cfd-bac3873b103d-0', tool_calls=[{'name': 'tavily_search_results_json', 'args': {'query': 'weather in Los Angeles'}, 'id': 'call_cTJ4iPAwyIRAxWlg89YwVkX2', 'type': 'tool_call'}])]}}}, created_at='2025-04-15T20:36:09.051976+00:00', parent_config={'configurable': {'thread_id': '3', 'thread_ts': '1f01a394-2a2c-6021-8000-916bbf910bb2'}})\n",
      "--\n",
      "StateSnapshot(values={'messages': [HumanMessage(content='Whats the weather in LA?', id='e94d5a72-a86f-4574-8753-96bab397bd89')]}, next=('llm',), config={'configurable': {'thread_id': '3', 'thread_ts': '1f01a394-2a2c-6021-8000-916bbf910bb2'}}, metadata={'source': 'loop', 'step': 0, 'writes': None}, created_at='2025-04-15T20:36:08.190547+00:00', parent_config={'configurable': {'thread_id': '3', 'thread_ts': '1f01a394-2a28-6af2-bfff-cd5cc1e72640'}})\n",
      "--\n",
      "StateSnapshot(values={'messages': []}, next=('__start__',), config={'configurable': {'thread_id': '3', 'thread_ts': '1f01a394-2a28-6af2-bfff-cd5cc1e72640'}}, metadata={'source': 'input', 'step': -1, 'writes': {'messages': [HumanMessage(content='Whats the weather in LA?')]}}, created_at='2025-04-15T20:36:08.189195+00:00', parent_config=None)\n",
      "--\n"
     ]
    }
   ],
   "source": [
    "states = []\n",
    "for state in abot.graph.get_state_history(thread):\n",
    "    print(state)\n",
    "    print('--')\n",
    "    states.append(state)"
   ]
  },
  {
   "cell_type": "code",
   "execution_count": 58,
   "id": "2aa59744-f70f-4492-8427-53a326b1b67b",
   "metadata": {},
   "outputs": [],
   "source": [
    "to_replay = states[-3]"
   ]
  },
  {
   "cell_type": "code",
   "execution_count": 59,
   "id": "bbf218bc-786d-49e8-93cf-95af2da3c467",
   "metadata": {},
   "outputs": [
    {
     "data": {
      "text/plain": [
       "StateSnapshot(values={'messages': [HumanMessage(content='Whats the weather in LA?', id='e94d5a72-a86f-4574-8753-96bab397bd89'), AIMessage(content='', additional_kwargs={'tool_calls': [{'function': {'arguments': '{\"query\":\"weather in Los Angeles\"}', 'name': 'tavily_search_results_json'}, 'id': 'call_cTJ4iPAwyIRAxWlg89YwVkX2', 'type': 'function'}]}, response_metadata={'finish_reason': 'tool_calls', 'logprobs': None, 'model_name': 'gpt-3.5-turbo', 'system_fingerprint': None, 'token_usage': {'completion_tokens': 22, 'completion_tokens_details': {'accepted_prediction_tokens': 0, 'audio_tokens': 0, 'reasoning_tokens': 0, 'rejected_prediction_tokens': 0}, 'prompt_tokens': 152, 'prompt_tokens_details': {'audio_tokens': 0, 'cached_tokens': 0}, 'total_tokens': 174}}, id='run-d411ea9b-ab92-4abb-9cfd-bac3873b103d-0', tool_calls=[{'name': 'tavily_search_results_json', 'args': {'query': 'weather in Los Angeles'}, 'id': 'call_cTJ4iPAwyIRAxWlg89YwVkX2', 'type': 'tool_call'}])]}, next=('action',), config={'configurable': {'thread_id': '3', 'thread_ts': '1f01a394-3263-6167-8001-42a9c71d9aee'}}, metadata={'source': 'loop', 'step': 1, 'writes': {'llm': {'messages': [AIMessage(content='', additional_kwargs={'tool_calls': [{'function': {'arguments': '{\"query\":\"weather in Los Angeles\"}', 'name': 'tavily_search_results_json'}, 'id': 'call_cTJ4iPAwyIRAxWlg89YwVkX2', 'type': 'function'}]}, response_metadata={'finish_reason': 'tool_calls', 'logprobs': None, 'model_name': 'gpt-3.5-turbo', 'system_fingerprint': None, 'token_usage': {'completion_tokens': 22, 'completion_tokens_details': {'accepted_prediction_tokens': 0, 'audio_tokens': 0, 'reasoning_tokens': 0, 'rejected_prediction_tokens': 0}, 'prompt_tokens': 152, 'prompt_tokens_details': {'audio_tokens': 0, 'cached_tokens': 0}, 'total_tokens': 174}}, id='run-d411ea9b-ab92-4abb-9cfd-bac3873b103d-0', tool_calls=[{'name': 'tavily_search_results_json', 'args': {'query': 'weather in Los Angeles'}, 'id': 'call_cTJ4iPAwyIRAxWlg89YwVkX2', 'type': 'tool_call'}])]}}}, created_at='2025-04-15T20:36:09.051976+00:00', parent_config={'configurable': {'thread_id': '3', 'thread_ts': '1f01a394-2a2c-6021-8000-916bbf910bb2'}})"
      ]
     },
     "execution_count": 59,
     "metadata": {},
     "output_type": "execute_result"
    }
   ],
   "source": [
    "to_replay"
   ]
  },
  {
   "cell_type": "code",
   "execution_count": 64,
   "id": "7720cb6f-09b1-4bb0-b7bb-7f9658879c66",
   "metadata": {},
   "outputs": [
    {
     "data": {
      "text/plain": [
       "StateSnapshot(values={'messages': [HumanMessage(content='Whats the weather in LA?', id='e94d5a72-a86f-4574-8753-96bab397bd89'), AIMessage(content='', additional_kwargs={'tool_calls': [{'function': {'arguments': '{\"query\":\"weather in Los Angeles\"}', 'name': 'tavily_search_results_json'}, 'id': 'call_cTJ4iPAwyIRAxWlg89YwVkX2', 'type': 'function'}]}, response_metadata={'finish_reason': 'tool_calls', 'logprobs': None, 'model_name': 'gpt-3.5-turbo', 'system_fingerprint': None, 'token_usage': {'completion_tokens': 22, 'completion_tokens_details': {'accepted_prediction_tokens': 0, 'audio_tokens': 0, 'reasoning_tokens': 0, 'rejected_prediction_tokens': 0}, 'prompt_tokens': 152, 'prompt_tokens_details': {'audio_tokens': 0, 'cached_tokens': 0}, 'total_tokens': 174}}, id='run-d411ea9b-ab92-4abb-9cfd-bac3873b103d-0', tool_calls=[{'name': 'tavily_search_results_json', 'args': {'query': 'weather in Los Angeles'}, 'id': 'call_cTJ4iPAwyIRAxWlg89YwVkX2', 'type': 'tool_call'}])]}, next=('action',), config={'configurable': {'thread_id': '3', 'thread_ts': '1f01a394-3263-6167-8001-42a9c71d9aee'}}, metadata={'source': 'loop', 'step': 1, 'writes': {'llm': {'messages': [AIMessage(content='', additional_kwargs={'tool_calls': [{'function': {'arguments': '{\"query\":\"weather in Los Angeles\"}', 'name': 'tavily_search_results_json'}, 'id': 'call_cTJ4iPAwyIRAxWlg89YwVkX2', 'type': 'function'}]}, response_metadata={'finish_reason': 'tool_calls', 'logprobs': None, 'model_name': 'gpt-3.5-turbo', 'system_fingerprint': None, 'token_usage': {'completion_tokens': 22, 'completion_tokens_details': {'accepted_prediction_tokens': 0, 'audio_tokens': 0, 'reasoning_tokens': 0, 'rejected_prediction_tokens': 0}, 'prompt_tokens': 152, 'prompt_tokens_details': {'audio_tokens': 0, 'cached_tokens': 0}, 'total_tokens': 174}}, id='run-d411ea9b-ab92-4abb-9cfd-bac3873b103d-0', tool_calls=[{'name': 'tavily_search_results_json', 'args': {'query': 'weather in Los Angeles'}, 'id': 'call_cTJ4iPAwyIRAxWlg89YwVkX2', 'type': 'tool_call'}])]}}}, created_at='2025-04-15T20:36:09.051976+00:00', parent_config={'configurable': {'thread_id': '3', 'thread_ts': '1f01a394-2a2c-6021-8000-916bbf910bb2'}})"
      ]
     },
     "execution_count": 64,
     "metadata": {},
     "output_type": "execute_result"
    }
   ],
   "source": [
    "to_replay = states[-3]\n",
    "to_replay"
   ]
  },
  {
   "cell_type": "code",
   "execution_count": 65,
   "id": "f1514883-d1a8-4458-923c-5b1727f4fdda",
   "metadata": {},
   "outputs": [
    {
     "name": "stdout",
     "output_type": "stream",
     "text": [
      "Calling: {'name': 'tavily_search_results_json', 'args': {'query': 'weather in Los Angeles'}, 'id': 'call_cTJ4iPAwyIRAxWlg89YwVkX2', 'type': 'tool_call'}\n",
      "Back to the model!\n",
      "{'messages': [ToolMessage(content='[{\\'url\\': \\'https://weathershogun.com/weather/usa/ca/los-angeles/451/april/2025-04-15\\', \\'content\\': \\'Los Angeles, California Weather: Tuesday, April 15, 2025. Cloudy weather, overcast skies with clouds. Day 72°. Night 55°. Precipitation 0 %.\\'}, {\\'url\\': \\'https://www.weatherapi.com/\\', \\'content\\': \"{\\'location\\': {\\'name\\': \\'Los Angeles\\', \\'region\\': \\'California\\', \\'country\\': \\'United States of America\\', \\'lat\\': 34.0522, \\'lon\\': -118.2428, \\'tz_id\\': \\'America/Los_Angeles\\', \\'localtime_epoch\\': 1744748575, \\'localtime\\': \\'2025-04-15 13:22\\'}, \\'current\\': {\\'last_updated_epoch\\': 1744748100, \\'last_updated\\': \\'2025-04-15 13:15\\', \\'temp_c\\': 16.7, \\'temp_f\\': 62.1, \\'is_day\\': 1, \\'condition\\': {\\'text\\': \\'Partly cloudy\\', \\'icon\\': \\'//cdn.weatherapi.com/weather/64x64/day/116.png\\', \\'code\\': 1003}, \\'wind_mph\\': 9.6, \\'wind_kph\\': 15.5, \\'wind_degree\\': 218, \\'wind_dir\\': \\'SW\\', \\'pressure_mb\\': 1019.0, \\'pressure_in\\': 30.08, \\'precip_mm\\': 0.0, \\'precip_in\\': 0.0, \\'humidity\\': 52, \\'cloud\\': 25, \\'feelslike_c\\': 16.7, \\'feelslike_f\\': 62.1, \\'windchill_c\\': 17.2, \\'windchill_f\\': 62.9, \\'heatindex_c\\': 17.2, \\'heatindex_f\\': 62.9, \\'dewpoint_c\\': 9.0, \\'dewpoint_f\\': 48.2, \\'vis_km\\': 16.0, \\'vis_miles\\': 9.0, \\'uv\\': 7.9, \\'gust_mph\\': 11.1, \\'gust_kph\\': 17.8}}\"}]', name='tavily_search_results_json', id='cff68492-19b7-4334-b82e-2933be06f21b', tool_call_id='call_cTJ4iPAwyIRAxWlg89YwVkX2')]}\n",
      "{'messages': [HumanMessage(content='Whats the weather in LA?', id='e94d5a72-a86f-4574-8753-96bab397bd89'), AIMessage(content='', additional_kwargs={'tool_calls': [{'function': {'arguments': '{\"query\":\"weather in Los Angeles\"}', 'name': 'tavily_search_results_json'}, 'id': 'call_cTJ4iPAwyIRAxWlg89YwVkX2', 'type': 'function'}]}, response_metadata={'finish_reason': 'tool_calls', 'logprobs': None, 'model_name': 'gpt-3.5-turbo', 'system_fingerprint': None, 'token_usage': {'completion_tokens': 22, 'completion_tokens_details': {'accepted_prediction_tokens': 0, 'audio_tokens': 0, 'reasoning_tokens': 0, 'rejected_prediction_tokens': 0}, 'prompt_tokens': 152, 'prompt_tokens_details': {'audio_tokens': 0, 'cached_tokens': 0}, 'total_tokens': 174}}, id='run-d411ea9b-ab92-4abb-9cfd-bac3873b103d-0', tool_calls=[{'name': 'tavily_search_results_json', 'args': {'query': 'weather in Los Angeles'}, 'id': 'call_cTJ4iPAwyIRAxWlg89YwVkX2', 'type': 'tool_call'}]), ToolMessage(content='[{\\'url\\': \\'https://weathershogun.com/weather/usa/ca/los-angeles/451/april/2025-04-15\\', \\'content\\': \\'Los Angeles, California Weather: Tuesday, April 15, 2025. Cloudy weather, overcast skies with clouds. Day 72°. Night 55°. Precipitation 0 %.\\'}, {\\'url\\': \\'https://www.weatherapi.com/\\', \\'content\\': \"{\\'location\\': {\\'name\\': \\'Los Angeles\\', \\'region\\': \\'California\\', \\'country\\': \\'United States of America\\', \\'lat\\': 34.0522, \\'lon\\': -118.2428, \\'tz_id\\': \\'America/Los_Angeles\\', \\'localtime_epoch\\': 1744748575, \\'localtime\\': \\'2025-04-15 13:22\\'}, \\'current\\': {\\'last_updated_epoch\\': 1744748100, \\'last_updated\\': \\'2025-04-15 13:15\\', \\'temp_c\\': 16.7, \\'temp_f\\': 62.1, \\'is_day\\': 1, \\'condition\\': {\\'text\\': \\'Partly cloudy\\', \\'icon\\': \\'//cdn.weatherapi.com/weather/64x64/day/116.png\\', \\'code\\': 1003}, \\'wind_mph\\': 9.6, \\'wind_kph\\': 15.5, \\'wind_degree\\': 218, \\'wind_dir\\': \\'SW\\', \\'pressure_mb\\': 1019.0, \\'pressure_in\\': 30.08, \\'precip_mm\\': 0.0, \\'precip_in\\': 0.0, \\'humidity\\': 52, \\'cloud\\': 25, \\'feelslike_c\\': 16.7, \\'feelslike_f\\': 62.1, \\'windchill_c\\': 17.2, \\'windchill_f\\': 62.9, \\'heatindex_c\\': 17.2, \\'heatindex_f\\': 62.9, \\'dewpoint_c\\': 9.0, \\'dewpoint_f\\': 48.2, \\'vis_km\\': 16.0, \\'vis_miles\\': 9.0, \\'uv\\': 7.9, \\'gust_mph\\': 11.1, \\'gust_kph\\': 17.8}}\"}]', name='tavily_search_results_json', id='cff68492-19b7-4334-b82e-2933be06f21b', tool_call_id='call_cTJ4iPAwyIRAxWlg89YwVkX2'), AIMessage(content='The current weather in Los Angeles is partly cloudy with a temperature of 62.1°F. The wind speed is 15.5 kph coming from the southwest direction. The humidity is at 52%, and there is no precipitation at the moment.', response_metadata={'token_usage': {'completion_tokens': 53, 'prompt_tokens': 676, 'total_tokens': 729, 'completion_tokens_details': {'accepted_prediction_tokens': 0, 'audio_tokens': 0, 'reasoning_tokens': 0, 'rejected_prediction_tokens': 0}, 'prompt_tokens_details': {'audio_tokens': 0, 'cached_tokens': 0}}, 'model_name': 'gpt-3.5-turbo', 'system_fingerprint': None, 'finish_reason': 'stop', 'logprobs': None}, id='run-1c7912b0-f65c-4ea9-90c6-3b00fcaf190f-0')]}\n",
      "{'messages': [AIMessage(content='The current weather in Los Angeles is partly cloudy with a temperature of 62.1°F. The wind speed is 15.5 kph coming from the southwest direction. The humidity is at 52%, and there is no precipitation at the moment.', response_metadata={'token_usage': {'completion_tokens': 53, 'prompt_tokens': 676, 'total_tokens': 729, 'completion_tokens_details': {'accepted_prediction_tokens': 0, 'audio_tokens': 0, 'reasoning_tokens': 0, 'rejected_prediction_tokens': 0}, 'prompt_tokens_details': {'audio_tokens': 0, 'cached_tokens': 0}}, 'model_name': 'gpt-3.5-turbo', 'system_fingerprint': None, 'finish_reason': 'stop', 'logprobs': None}, id='run-1c7912b0-f65c-4ea9-90c6-3b00fcaf190f-0')]}\n"
     ]
    }
   ],
   "source": [
    "for event in abot.graph.stream(None, to_replay.config):\n",
    "    for k, v in event.items():\n",
    "        print(v)"
   ]
  },
  {
   "cell_type": "markdown",
   "id": "8bc2f6cd-3455-45af-96cd-8bbd98856e5c",
   "metadata": {},
   "source": [
    "## Go back in time and edit"
   ]
  },
  {
   "cell_type": "code",
   "execution_count": 67,
   "id": "d4a167fa-eafa-4da3-a577-f8c6083d4559",
   "metadata": {},
   "outputs": [
    {
     "data": {
      "text/plain": [
       "StateSnapshot(values={'messages': [HumanMessage(content='Whats the weather in LA?', id='e94d5a72-a86f-4574-8753-96bab397bd89'), AIMessage(content='', additional_kwargs={'tool_calls': [{'function': {'arguments': '{\"query\":\"weather in Los Angeles\"}', 'name': 'tavily_search_results_json'}, 'id': 'call_cTJ4iPAwyIRAxWlg89YwVkX2', 'type': 'function'}]}, response_metadata={'finish_reason': 'tool_calls', 'logprobs': None, 'model_name': 'gpt-3.5-turbo', 'system_fingerprint': None, 'token_usage': {'completion_tokens': 22, 'completion_tokens_details': {'accepted_prediction_tokens': 0, 'audio_tokens': 0, 'reasoning_tokens': 0, 'rejected_prediction_tokens': 0}, 'prompt_tokens': 152, 'prompt_tokens_details': {'audio_tokens': 0, 'cached_tokens': 0}, 'total_tokens': 174}}, id='run-d411ea9b-ab92-4abb-9cfd-bac3873b103d-0', tool_calls=[{'name': 'tavily_search_results_json', 'args': {'query': 'weather in Los Angeles'}, 'id': 'call_cTJ4iPAwyIRAxWlg89YwVkX2', 'type': 'tool_call'}])]}, next=('action',), config={'configurable': {'thread_id': '3', 'thread_ts': '1f01a394-3263-6167-8001-42a9c71d9aee'}}, metadata={'source': 'loop', 'step': 1, 'writes': {'llm': {'messages': [AIMessage(content='', additional_kwargs={'tool_calls': [{'function': {'arguments': '{\"query\":\"weather in Los Angeles\"}', 'name': 'tavily_search_results_json'}, 'id': 'call_cTJ4iPAwyIRAxWlg89YwVkX2', 'type': 'function'}]}, response_metadata={'finish_reason': 'tool_calls', 'logprobs': None, 'model_name': 'gpt-3.5-turbo', 'system_fingerprint': None, 'token_usage': {'completion_tokens': 22, 'completion_tokens_details': {'accepted_prediction_tokens': 0, 'audio_tokens': 0, 'reasoning_tokens': 0, 'rejected_prediction_tokens': 0}, 'prompt_tokens': 152, 'prompt_tokens_details': {'audio_tokens': 0, 'cached_tokens': 0}, 'total_tokens': 174}}, id='run-d411ea9b-ab92-4abb-9cfd-bac3873b103d-0', tool_calls=[{'name': 'tavily_search_results_json', 'args': {'query': 'weather in Los Angeles'}, 'id': 'call_cTJ4iPAwyIRAxWlg89YwVkX2', 'type': 'tool_call'}])]}}}, created_at='2025-04-15T20:36:09.051976+00:00', parent_config={'configurable': {'thread_id': '3', 'thread_ts': '1f01a394-2a2c-6021-8000-916bbf910bb2'}})"
      ]
     },
     "execution_count": 67,
     "metadata": {},
     "output_type": "execute_result"
    }
   ],
   "source": [
    "to_replay"
   ]
  },
  {
   "cell_type": "code",
   "execution_count": 68,
   "id": "db28fb9c-e57e-4a5a-8e99-eff927d4ea9e",
   "metadata": {},
   "outputs": [],
   "source": [
    "_id = to_replay.values['messages'][-1].tool_calls[0]['id']"
   ]
  },
  {
   "cell_type": "code",
   "execution_count": 69,
   "id": "241a1bd5-747e-4692-af5e-479a54e8975d",
   "metadata": {},
   "outputs": [],
   "source": [
    "state_update = {\"messages\": [ToolMessage(\n",
    "    tool_call_id=_id,\n",
    "    name=\"tavily_search_results_json\",\n",
    "    content=\"54 degree celcius\",\n",
    ")]}"
   ]
  },
  {
   "cell_type": "code",
   "execution_count": 70,
   "id": "1ab2a098-aa43-4f52-ba75-c22c0ae97da8",
   "metadata": {},
   "outputs": [],
   "source": [
    "branch_and_add = abot.graph.update_state(\n",
    "    to_replay.config, \n",
    "    state_update, \n",
    "    as_node=\"action\")"
   ]
  },
  {
   "cell_type": "code",
   "execution_count": 71,
   "id": "6c01bf55-1f1d-4504-8bff-a098f5d0d4e3",
   "metadata": {},
   "outputs": [
    {
     "name": "stdout",
     "output_type": "stream",
     "text": [
      "{'messages': [HumanMessage(content='Whats the weather in LA?', id='e94d5a72-a86f-4574-8753-96bab397bd89'), AIMessage(content='', additional_kwargs={'tool_calls': [{'function': {'arguments': '{\"query\":\"weather in Los Angeles\"}', 'name': 'tavily_search_results_json'}, 'id': 'call_cTJ4iPAwyIRAxWlg89YwVkX2', 'type': 'function'}]}, response_metadata={'finish_reason': 'tool_calls', 'logprobs': None, 'model_name': 'gpt-3.5-turbo', 'system_fingerprint': None, 'token_usage': {'completion_tokens': 22, 'completion_tokens_details': {'accepted_prediction_tokens': 0, 'audio_tokens': 0, 'reasoning_tokens': 0, 'rejected_prediction_tokens': 0}, 'prompt_tokens': 152, 'prompt_tokens_details': {'audio_tokens': 0, 'cached_tokens': 0}, 'total_tokens': 174}}, id='run-d411ea9b-ab92-4abb-9cfd-bac3873b103d-0', tool_calls=[{'name': 'tavily_search_results_json', 'args': {'query': 'weather in Los Angeles'}, 'id': 'call_cTJ4iPAwyIRAxWlg89YwVkX2', 'type': 'tool_call'}]), ToolMessage(content='54 degree celcius', name='tavily_search_results_json', id='444af86b-2a9a-43fb-a126-7131d82c70a1', tool_call_id='call_cTJ4iPAwyIRAxWlg89YwVkX2'), AIMessage(content='The current temperature in Los Angeles is 54 degrees Celsius.', response_metadata={'token_usage': {'completion_tokens': 14, 'prompt_tokens': 190, 'total_tokens': 204, 'completion_tokens_details': {'accepted_prediction_tokens': 0, 'audio_tokens': 0, 'reasoning_tokens': 0, 'rejected_prediction_tokens': 0}, 'prompt_tokens_details': {'audio_tokens': 0, 'cached_tokens': 0}}, 'model_name': 'gpt-3.5-turbo', 'system_fingerprint': None, 'finish_reason': 'stop', 'logprobs': None}, id='run-36861785-7515-473b-a95e-71aee18e6646-0')]}\n",
      "{'messages': [AIMessage(content='The current temperature in Los Angeles is 54 degrees Celsius.', response_metadata={'token_usage': {'completion_tokens': 14, 'prompt_tokens': 190, 'total_tokens': 204, 'completion_tokens_details': {'accepted_prediction_tokens': 0, 'audio_tokens': 0, 'reasoning_tokens': 0, 'rejected_prediction_tokens': 0}, 'prompt_tokens_details': {'audio_tokens': 0, 'cached_tokens': 0}}, 'model_name': 'gpt-3.5-turbo', 'system_fingerprint': None, 'finish_reason': 'stop', 'logprobs': None}, id='run-36861785-7515-473b-a95e-71aee18e6646-0')]}\n"
     ]
    }
   ],
   "source": [
    "for event in abot.graph.stream(None, branch_and_add):\n",
    "    for k, v in event.items():\n",
    "        print(v)"
   ]
  },
  {
   "cell_type": "code",
   "execution_count": 72,
   "id": "b6559e16-7ddf-44a7-8d35-121e1f134fcc",
   "metadata": {},
   "outputs": [],
   "source": [
    "branch_and_add = abot.graph.update_state(\n",
    "    to_replay.config, \n",
    "    state_update, \n",
    "    as_node=\"action\")"
   ]
  },
  {
   "cell_type": "code",
   "execution_count": 73,
   "id": "310de2a6-1ed6-45b7-b4a2-b47e5e098bd9",
   "metadata": {},
   "outputs": [
    {
     "name": "stdout",
     "output_type": "stream",
     "text": [
      "{'messages': [HumanMessage(content='Whats the weather in LA?', id='e94d5a72-a86f-4574-8753-96bab397bd89'), AIMessage(content='', additional_kwargs={'tool_calls': [{'function': {'arguments': '{\"query\":\"weather in Los Angeles\"}', 'name': 'tavily_search_results_json'}, 'id': 'call_cTJ4iPAwyIRAxWlg89YwVkX2', 'type': 'function'}]}, response_metadata={'finish_reason': 'tool_calls', 'logprobs': None, 'model_name': 'gpt-3.5-turbo', 'system_fingerprint': None, 'token_usage': {'completion_tokens': 22, 'completion_tokens_details': {'accepted_prediction_tokens': 0, 'audio_tokens': 0, 'reasoning_tokens': 0, 'rejected_prediction_tokens': 0}, 'prompt_tokens': 152, 'prompt_tokens_details': {'audio_tokens': 0, 'cached_tokens': 0}, 'total_tokens': 174}}, id='run-d411ea9b-ab92-4abb-9cfd-bac3873b103d-0', tool_calls=[{'name': 'tavily_search_results_json', 'args': {'query': 'weather in Los Angeles'}, 'id': 'call_cTJ4iPAwyIRAxWlg89YwVkX2', 'type': 'tool_call'}]), ToolMessage(content='54 degree celcius', name='tavily_search_results_json', id='444af86b-2a9a-43fb-a126-7131d82c70a1', tool_call_id='call_cTJ4iPAwyIRAxWlg89YwVkX2'), AIMessage(content='The weather in Los Angeles is currently 54 degrees Celsius.', response_metadata={'token_usage': {'completion_tokens': 14, 'prompt_tokens': 190, 'total_tokens': 204, 'completion_tokens_details': {'accepted_prediction_tokens': 0, 'audio_tokens': 0, 'reasoning_tokens': 0, 'rejected_prediction_tokens': 0}, 'prompt_tokens_details': {'audio_tokens': 0, 'cached_tokens': 0}}, 'model_name': 'gpt-3.5-turbo', 'system_fingerprint': None, 'finish_reason': 'stop', 'logprobs': None}, id='run-6d90c702-271e-40c1-b88c-881c4b869adc-0')]}\n",
      "{'messages': [AIMessage(content='The weather in Los Angeles is currently 54 degrees Celsius.', response_metadata={'token_usage': {'completion_tokens': 14, 'prompt_tokens': 190, 'total_tokens': 204, 'completion_tokens_details': {'accepted_prediction_tokens': 0, 'audio_tokens': 0, 'reasoning_tokens': 0, 'rejected_prediction_tokens': 0}, 'prompt_tokens_details': {'audio_tokens': 0, 'cached_tokens': 0}}, 'model_name': 'gpt-3.5-turbo', 'system_fingerprint': None, 'finish_reason': 'stop', 'logprobs': None}, id='run-6d90c702-271e-40c1-b88c-881c4b869adc-0')]}\n"
     ]
    }
   ],
   "source": [
    "for event in abot.graph.stream(None, branch_and_add):\n",
    "    for k, v in event.items():\n",
    "        print(v)"
   ]
  },
  {
   "cell_type": "markdown",
   "id": "2115baec-ba95-48a8-b664-0041decf20d2",
   "metadata": {},
   "source": [
    "# Extra Practice"
   ]
  },
  {
   "cell_type": "markdown",
   "id": "09cd737b-8c8d-4d03-9d5e-05c6781cfa9c",
   "metadata": {},
   "source": [
    "## Build a small graph\n",
    "This is a small simple graph you can tinker with if you want more insight into controlling state memory."
   ]
  },
  {
   "cell_type": "code",
   "execution_count": 74,
   "id": "6557ceaa-51b6-4bfb-b50a-6974d6f5ec4f",
   "metadata": {},
   "outputs": [],
   "source": [
    "from dotenv import load_dotenv\n",
    "\n",
    "_ = load_dotenv()"
   ]
  },
  {
   "cell_type": "markdown",
   "id": "42215891-d925-45fd-a1d2-a9410c1f65f0",
   "metadata": {},
   "source": [
    "Define a simple 2 node graph with the following state:\n",
    "-`lnode`: last node\n",
    "-`scratch`: a scratchpad location\n",
    "-`count` : a counter that is incremented each step"
   ]
  },
  {
   "cell_type": "code",
   "execution_count": 75,
   "id": "1b4cf337-f55e-4574-87a8-3d8f37d8d410",
   "metadata": {},
   "outputs": [],
   "source": [
    "class AgentState(TypedDict):\n",
    "    lnode: str\n",
    "    scratch: str\n",
    "    count: Annotated[int, operator.add]"
   ]
  },
  {
   "cell_type": "code",
   "execution_count": 76,
   "id": "32d2b193-27c1-4259-89eb-c24457eba0b9",
   "metadata": {},
   "outputs": [],
   "source": [
    "def node1(state: AgentState):\n",
    "    print(f\"node1, count:{state['count']}\")\n",
    "    return {\"lnode\": \"node_1\",\n",
    "            \"count\": 1,\n",
    "           }\n",
    "def node2(state: AgentState):\n",
    "    print(f\"node2, count:{state['count']}\")\n",
    "    return {\"lnode\": \"node_2\",\n",
    "            \"count\": 1,\n",
    "           }"
   ]
  },
  {
   "cell_type": "markdown",
   "id": "3b9bbf96-82d2-4e6f-88f7-e0b3f60eb002",
   "metadata": {},
   "source": [
    "The graph goes N1->N2->N1... but breaks after count reaches 3."
   ]
  },
  {
   "cell_type": "code",
   "execution_count": 78,
   "id": "d13c65c9-8ce3-40e7-a140-4d8dc50fb0a8",
   "metadata": {},
   "outputs": [],
   "source": [
    "def should_continue(state):\n",
    "    return state[\"count\"] < 3"
   ]
  },
  {
   "cell_type": "code",
   "execution_count": 79,
   "id": "faeb01fa-cc0c-440d-80a0-a54c5c1d6014",
   "metadata": {},
   "outputs": [],
   "source": [
    "builder = StateGraph(AgentState)\n",
    "builder.add_node(\"Node1\", node1)\n",
    "builder.add_node(\"Node2\", node2)\n",
    "\n",
    "builder.add_edge(\"Node1\", \"Node2\")\n",
    "builder.add_conditional_edges(\"Node2\", \n",
    "                              should_continue, \n",
    "                              {True: \"Node1\", False: END})\n",
    "builder.set_entry_point(\"Node1\")"
   ]
  },
  {
   "cell_type": "code",
   "execution_count": 80,
   "id": "7c9d94c2-f433-4c82-93c3-e298f554aa52",
   "metadata": {},
   "outputs": [],
   "source": [
    "memory = SqliteSaver.from_conn_string(\":memory:\")\n",
    "graph = builder.compile(checkpointer=memory)"
   ]
  },
  {
   "cell_type": "code",
   "execution_count": 81,
   "id": "0d6d31b6-6ba2-40af-8334-cde91aaa013a",
   "metadata": {},
   "outputs": [
    {
     "name": "stdout",
     "output_type": "stream",
     "text": [
      "node1, count:0\n",
      "node2, count:1\n",
      "node1, count:2\n",
      "node2, count:3\n"
     ]
    },
    {
     "data": {
      "text/plain": [
       "{'lnode': 'node_2', 'scratch': 'hi', 'count': 4}"
      ]
     },
     "execution_count": 81,
     "metadata": {},
     "output_type": "execute_result"
    }
   ],
   "source": [
    "thread = {\"configurable\": {\"thread_id\": str(1)}}\n",
    "graph.invoke({\"count\":0, \"scratch\":\"hi\"},thread)"
   ]
  },
  {
   "cell_type": "code",
   "execution_count": 82,
   "id": "d55dc04a-9985-4efc-9503-e5a4e3ce8967",
   "metadata": {},
   "outputs": [
    {
     "data": {
      "text/plain": [
       "StateSnapshot(values={'lnode': 'node_2', 'scratch': 'hi', 'count': 4}, next=(), config={'configurable': {'thread_id': '1', 'thread_ts': '1f01a40c-49ed-6753-8004-846362f2721f'}}, metadata={'source': 'loop', 'step': 4, 'writes': {'Node2': {'count': 1, 'lnode': 'node_2'}}}, created_at='2025-04-15T21:29:52.745850+00:00', parent_config={'configurable': {'thread_id': '1', 'thread_ts': '1f01a40c-49ea-647e-8003-c72f05b23be5'}})"
      ]
     },
     "execution_count": 82,
     "metadata": {},
     "output_type": "execute_result"
    }
   ],
   "source": [
    "graph.get_state(thread)"
   ]
  },
  {
   "cell_type": "code",
   "execution_count": null,
   "id": "bb4a1eaf-bcf4-4348-a4ba-cd94392a9042",
   "metadata": {},
   "outputs": [],
   "source": []
  }
 ],
 "metadata": {
  "kernelspec": {
   "display_name": "Python 3 (ipykernel)",
   "language": "python",
   "name": "python3"
  },
  "language_info": {
   "codemirror_mode": {
    "name": "ipython",
    "version": 3
   },
   "file_extension": ".py",
   "mimetype": "text/x-python",
   "name": "python",
   "nbconvert_exporter": "python",
   "pygments_lexer": "ipython3",
   "version": "3.12.1"
  }
 },
 "nbformat": 4,
 "nbformat_minor": 5
}
